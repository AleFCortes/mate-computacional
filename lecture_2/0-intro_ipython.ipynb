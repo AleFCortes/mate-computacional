{
 "metadata": {
  "name": "",
  "signature": "sha256:b565939a4b496079af281ee2673de8a21fb26243cff556dfa7f5ee4a0e1e29f5"
 },
 "nbformat": 3,
 "nbformat_minor": 0,
 "worksheets": [
  {
   "cells": [
    {
     "cell_type": "heading",
     "level": 1,
     "metadata": {},
     "source": [
      "Introducci\u00f3n a IPython"
     ]
    },
    {
     "cell_type": "heading",
     "level": 2,
     "metadata": {},
     "source": [
      "Cosas que debes de hacer para las clases siguientes"
     ]
    },
    {
     "cell_type": "markdown",
     "metadata": {},
     "source": [
      "\n",
      "\n",
      "*Nota*: siempre consulta el `README.md` del curso para ver las fechas de entrega y el formato cuando no est\u00e9n especificados.\n",
      "\n",
      "**Proyecto Euler:** \n",
      "- [Multiples of 3 and 5](https://projecteuler.net/problem=1)\n",
      "- [Even Fibonacci numbers](https://projecteuler.net/problem=2)\n",
      "\n",
      "**Actividades recomendadas: **\n",
      "- Primeros siete m\u00f3dulos de [Codecademy](http://www.codecademy.com/es/tracks/python) de *python* para el Jueves 21 de agosto, 2014.\n",
      "- M\u00f3dulos del 8 al 15 de [Codecademy](http://www.codecademy.com/es/tracks/python) de *python* para el Lunes 25 de agosto, 2014."
     ]
    },
    {
     "cell_type": "markdown",
     "metadata": {},
     "source": [
      "**Instrucciones**\n",
      "\n",
      "En tu carpeta (la que est\u00e1 dentro de `alumnos`) crea un `notebook` llamado `0-intro_ipython`, en la primera celda pon el formato `Heading 1` y teclea `Introducci\u00f3n a IPython`. Luego teclea (**no copies y pegues**) el c\u00f3digo mostrado aqu\u00ed y ve ejecut\u00e1ndolo."
     ]
    },
    {
     "cell_type": "heading",
     "level": 2,
     "metadata": {},
     "source": [
      "1. Algunos t\u00e9rminos"
     ]
    },
    {
     "cell_type": "markdown",
     "metadata": {},
     "source": [
      "**Python** Lenguaje multiparadigma muy vers\u00e1til que estaremos usando en el curso.\n",
      "\n",
      "**Ipython** = *Interactive python*\n",
      "\n",
      "- La documentaci\u00f3n completa se encuentra [aqu\u00ed](http://ipython.org/ipython-doc/dev/notebook/index.html).\n",
      "\n",
      "**Ipython notebook** donde est\u00e1s tecleando, es una manera de visualizar y compartir programas de `python` en la web."
     ]
    },
    {
     "cell_type": "heading",
     "level": 3,
     "metadata": {},
     "source": [
      "Otros t\u00e9rminos"
     ]
    },
    {
     "cell_type": "markdown",
     "metadata": {},
     "source": [
      "| **Termino** | **Significado** |\n",
      "|----------|------------|\n",
      "| **Interpretado** |No es necesario (aunque es posible en el caso de `python`) ning\u00fan paso de compilaci\u00f3n.|\n",
      "| ** Objetos** | Estructura de datos que contiene m\u00e9todos (*comportamiento*) y atributos (*caracter\u00edsticas*).|\n",
      "| **Din\u00e1mico** | Las variables pueden cambiar de tipo durante la ejecuci\u00f3n del programa.|\n",
      "| **Estructura de datos** | Forma de manipular y/o guardar datos. |\n",
      "| **Script** | Programa que controla otros programas. |\n",
      "| **Sint\u00e1xis** | Gram\u00e1tica que define el lenguaje. |\n",
      "| **Librer\u00eda** | Colecci\u00f3n de c\u00f3digo (generalmente objetos o funciones) reutilizables. (En espa\u00f1ol el t\u00e9rmino correcto ser\u00eda *biblioteca*)|"
     ]
    },
    {
     "cell_type": "heading",
     "level": 2,
     "metadata": {},
     "source": [
      "2. Introducci\u00f3n r\u00e1pida al Ipython notebook"
     ]
    },
    {
     "cell_type": "code",
     "collapsed": false,
     "input": [
      "Aqu\u00ed practicaremos algunos elementos de la barra de men\u00fa"
     ],
     "language": "python",
     "metadata": {},
     "outputs": []
    },
    {
     "cell_type": "markdown",
     "metadata": {},
     "source": [
      "- **Shift + Enter** Ejecuta la celda actual y se mueve a la celda siguiente."
     ]
    },
    {
     "cell_type": "markdown",
     "metadata": {},
     "source": [
      "- **Ctrl + Enter** Ejecuta la celda actual y permanece en la celda actual."
     ]
    },
    {
     "cell_type": "markdown",
     "metadata": {},
     "source": [
      "- **Alt + Enter** Ejecuta la celda actual e inserta una celda inmediatamente despu\u00e9s."
     ]
    },
    {
     "cell_type": "code",
     "collapsed": false,
     "input": [
      "print \"Hola \u00bfC\u00f3mo est\u00e1s?\""
     ],
     "language": "python",
     "metadata": {},
     "outputs": []
    },
    {
     "cell_type": "markdown",
     "metadata": {},
     "source": [
      "Para obtener ayuda teclea `?`"
     ]
    },
    {
     "cell_type": "code",
     "collapsed": false,
     "input": [
      "?"
     ],
     "language": "python",
     "metadata": {},
     "outputs": []
    },
    {
     "cell_type": "heading",
     "level": 2,
     "metadata": {},
     "source": [
      "3. Navegaci\u00f3n con el teclado"
     ]
    },
    {
     "cell_type": "markdown",
     "metadata": {},
     "source": [
      "El `ipython notebook` es un editor **modal**, es decir, la interacci\u00f3n del teclado con el editor depende del **modo** en el cual se encuentre. Existen dos modos: *modo de edici\u00f3n* y *modo de comando*."
     ]
    },
    {
     "cell_type": "heading",
     "level": 3,
     "metadata": {},
     "source": [
      "Modo de edici\u00f3n"
     ]
    },
    {
     "cell_type": "markdown",
     "metadata": {},
     "source": [
      "El *modo de edici\u00f3n* est\u00e1 indicado por una l\u00ednea verde alrededor de la celda. Cuando est\u00e1 en este modo, la interacci\u00f3n con la celda es como si estuvieras en un editor de texto normal."
     ]
    },
    {
     "cell_type": "markdown",
     "metadata": {},
     "source": [
      "<div class=\"alert alert-success\">\n",
      "Puedes ingresar al modo de edici\u00f3n presionando `Enter` o haciendo click en la celda con el *mouse*.\n",
      "</div>"
     ]
    },
    {
     "cell_type": "markdown",
     "metadata": {},
     "source": [
      "Los comando del teclado en el modo de edici\u00f3n se muestran en la siguiente figura:"
     ]
    },
    {
     "cell_type": "markdown",
     "metadata": {},
     "source": [
      "<img src=\"imagenes/edit_shortcuts.png\">"
     ]
    },
    {
     "cell_type": "heading",
     "level": 3,
     "metadata": {},
     "source": [
      "Modo de comando"
     ]
    },
    {
     "cell_type": "markdown",
     "metadata": {},
     "source": [
      "En el *modo de comando* el `notebook` permite una navegaci\u00f3n eficaz por toda la `notebook`. Est\u00e1 marcado por una l\u00ednea gris alrededor de la celda."
     ]
    },
    {
     "cell_type": "markdown",
     "metadata": {},
     "source": []
    },
    {
     "cell_type": "markdown",
     "metadata": {},
     "source": [
      " <div class=\"alert alert-success\">\n",
      "    Se puede cambiar al modo de comando presionando la tecla `Esc`.\n",
      "</div>"
     ]
    },
    {
     "cell_type": "markdown",
     "metadata": {},
     "source": [
      "Los comando del teclado en el modo de comando se muestra a continuaci\u00f3n:"
     ]
    },
    {
     "cell_type": "markdown",
     "metadata": {},
     "source": [
      "<img src=\"imagenes/command_shortcuts.png\">"
     ]
    },
    {
     "cell_type": "heading",
     "level": 2,
     "metadata": {},
     "source": [
      "4. Salida Enriquecida"
     ]
    },
    {
     "cell_type": "markdown",
     "metadata": {},
     "source": [
      "Es posible desplegar la salida de la ejecuci\u00f3n de la celda de forma enriquecida, esto se logra usando la funci\u00f3n `display()`, la cual es muy similar a la funci\u00f3n `print` que usamos arriba. Para usarla, debemos importar la librer\u00eda."
     ]
    },
    {
     "cell_type": "code",
     "collapsed": false,
     "input": [
      "from IPython.display import display"
     ],
     "language": "python",
     "metadata": {},
     "outputs": []
    },
    {
     "cell_type": "heading",
     "level": 3,
     "metadata": {},
     "source": [
      "4.1 Im\u00e1genes"
     ]
    },
    {
     "cell_type": "code",
     "collapsed": false,
     "input": [
      "from IPython.display import Image"
     ],
     "language": "python",
     "metadata": {},
     "outputs": []
    },
    {
     "cell_type": "code",
     "collapsed": false,
     "input": [
      "i = Image(filename = './imagenes/ipython_logo.png')"
     ],
     "language": "python",
     "metadata": {},
     "outputs": []
    },
    {
     "cell_type": "markdown",
     "metadata": {},
     "source": [
      "Regresar el objeto autom\u00e1ticamente lo despliega"
     ]
    },
    {
     "cell_type": "code",
     "collapsed": false,
     "input": [
      "i"
     ],
     "language": "python",
     "metadata": {},
     "outputs": []
    },
    {
     "cell_type": "markdown",
     "metadata": {},
     "source": [
      "O puedes usar expl\u00edcitamente la funci\u00f3n `display`"
     ]
    },
    {
     "cell_type": "code",
     "collapsed": false,
     "input": [
      "display(i)"
     ],
     "language": "python",
     "metadata": {},
     "outputs": []
    },
    {
     "cell_type": "markdown",
     "metadata": {},
     "source": [
      "Tambi\u00e9n puedes utilizar `URL` para mostrar im\u00e1genes"
     ]
    },
    {
     "cell_type": "code",
     "collapsed": false,
     "input": [
      "Image(url='http://python.org/images/python-logo.gif')"
     ],
     "language": "python",
     "metadata": {},
     "outputs": []
    },
    {
     "cell_type": "heading",
     "level": 3,
     "metadata": {},
     "source": [
      "4.2 HTML"
     ]
    },
    {
     "cell_type": "markdown",
     "metadata": {},
     "source": [
      "La manera m\u00e1s sencilla es usar *magia* de Ipython notebook para lograrlo"
     ]
    },
    {
     "cell_type": "code",
     "collapsed": false,
     "input": [
      "from IPython.display import HTML"
     ],
     "language": "python",
     "metadata": {},
     "outputs": [],
     "prompt_number": 1
    },
    {
     "cell_type": "code",
     "collapsed": false,
     "input": [
      "%%html\n",
      "<table>\n",
      "<tr>\n",
      "<th>Header 1</th>\n",
      "<th>Header 2</th>\n",
      "</tr>\n",
      "<tr>\n",
      "<td>row 1, cell 1</td>\n",
      "<td>row 1, cell 2</td>\n",
      "</tr>\n",
      "<tr>\n",
      "<td>row 2, cell 1</td>\n",
      "<td>row 2, cell 2</td>\n",
      "</tr>\n",
      "</table>"
     ],
     "language": "python",
     "metadata": {},
     "outputs": [
      {
       "html": [
        "<table>\n",
        "<tr>\n",
        "<th>Header 1</th>\n",
        "<th>Header 2</th>\n",
        "</tr>\n",
        "<tr>\n",
        "<td>row 1, cell 1</td>\n",
        "<td>row 1, cell 2</td>\n",
        "</tr>\n",
        "<tr>\n",
        "<td>row 2, cell 1</td>\n",
        "<td>row 2, cell 2</td>\n",
        "</tr>\n",
        "</table>"
       ],
       "metadata": {},
       "output_type": "display_data",
       "text": [
        "<IPython.core.display.HTML at 0x7fa976483c50>"
       ]
      }
     ],
     "prompt_number": 2
    },
    {
     "cell_type": "heading",
     "level": 3,
     "metadata": {},
     "source": [
      "4.3 Javascript"
     ]
    },
    {
     "cell_type": "code",
     "collapsed": false,
     "input": [
      "from IPython.display import Javascript"
     ],
     "language": "python",
     "metadata": {},
     "outputs": []
    },
    {
     "cell_type": "code",
     "collapsed": false,
     "input": [
      "%%javascript\n",
      "\n",
      "alert(\"hi\");"
     ],
     "language": "python",
     "metadata": {},
     "outputs": []
    },
    {
     "cell_type": "heading",
     "level": 3,
     "metadata": {},
     "source": [
      "4.4 LaTeX"
     ]
    },
    {
     "cell_type": "markdown",
     "metadata": {},
     "source": [
      "`LaTeX` se despliega en el ipython notebook usando [MathJax](http://mathjax.org)"
     ]
    },
    {
     "cell_type": "code",
     "collapsed": false,
     "input": [
      "%%latex\n",
      "\\begin{align}\n",
      "\\nabla \\times \\vec{\\mathbf{B}} -\\, \\frac1c\\, \\frac{\\partial\\vec{\\mathbf{E}}}{\\partial t} & = \\frac{4\\pi}{c}\\vec{\\mathbf{j}} \\\\\n",
      "\\nabla \\cdot \\vec{\\mathbf{E}} & = 4 \\pi \\rho \\\\\n",
      "\\nabla \\times \\vec{\\mathbf{E}}\\, +\\, \\frac1c\\, \\frac{\\partial\\vec{\\mathbf{B}}}{\\partial t} & = \\vec{\\mathbf{0}} \\\\\n",
      "\\nabla \\cdot \\vec{\\mathbf{B}} & = 0\n",
      "\\end{align}"
     ],
     "language": "python",
     "metadata": {},
     "outputs": []
    },
    {
     "cell_type": "heading",
     "level": 3,
     "metadata": {},
     "source": [
      "4.5 Audio"
     ]
    },
    {
     "cell_type": "code",
     "collapsed": false,
     "input": [
      "from IPython.display import Audio"
     ],
     "language": "python",
     "metadata": {},
     "outputs": []
    },
    {
     "cell_type": "code",
     "collapsed": false,
     "input": [
      "Audio(url=\"http://en.wikipedia.org/wiki/File:Edison_cylinder_Lost_Chord.ogg\")"
     ],
     "language": "python",
     "metadata": {},
     "outputs": []
    },
    {
     "cell_type": "heading",
     "level": 3,
     "metadata": {},
     "source": [
      "4.6 Videos"
     ]
    },
    {
     "cell_type": "code",
     "collapsed": false,
     "input": [
      "from IPython.display import YouTubeVideo"
     ],
     "language": "python",
     "metadata": {},
     "outputs": []
    },
    {
     "cell_type": "code",
     "collapsed": false,
     "input": [
      "YouTubeVideo(\"iTT85DOwEXY\")"
     ],
     "language": "python",
     "metadata": {},
     "outputs": []
    },
    {
     "cell_type": "markdown",
     "metadata": {},
     "source": [
      "Existen otros formatos de salida enriquecidos, pero estos son los b\u00e1sicos."
     ]
    },
    {
     "cell_type": "heading",
     "level": 2,
     "metadata": {},
     "source": [
      "5. Interacci\u00f3n enriquecida"
     ]
    },
    {
     "cell_type": "markdown",
     "metadata": {},
     "source": [
      "Tambi\u00e9n es posible interactuar con el `notebook` usando datos del usuario. En esta clase usaremos la funci\u00f3n `interact` (`IPython.html.widgets.interact`) la cual crea elementos de autom\u00e1ticos de `UI` que permiten explorar los datos y el c\u00f3digo interactivamente."
     ]
    },
    {
     "cell_type": "code",
     "collapsed": false,
     "input": [
      "from IPython.html.widgets import interact, fixed\n",
      "from IPython.html import widgets"
     ],
     "language": "python",
     "metadata": {},
     "outputs": []
    },
    {
     "cell_type": "markdown",
     "metadata": {},
     "source": [
      "De manera muy b\u00e1sica, `interact` generar\u00e1 una `UI` para los argumentos de una funci\u00f3n. Cuando el usuario interact\u00fae con el `widget`, `interact` invocar\u00e1 la funci\u00f3n."
     ]
    },
    {
     "cell_type": "markdown",
     "metadata": {},
     "source": [
      "Declaremos una funci\u00f3n llamada `foo` que s\u00f3lo reciba un argumento y lo imprima"
     ]
    },
    {
     "cell_type": "code",
     "collapsed": false,
     "input": [
      "def foo(x):\n",
      "    print x"
     ],
     "language": "python",
     "metadata": {},
     "outputs": []
    },
    {
     "cell_type": "markdown",
     "metadata": {},
     "source": [
      "Invoquemos manualmente la funci\u00f3n"
     ]
    },
    {
     "cell_type": "code",
     "collapsed": false,
     "input": [
      "foo(5)"
     ],
     "language": "python",
     "metadata": {},
     "outputs": []
    },
    {
     "cell_type": "markdown",
     "metadata": {},
     "source": [
      "Si ahora usamos `interact` con la funci\u00f3n `foo` como primer argumento y un entero como segundo, se generar\u00e1 autom\u00e1ticamente un *slider*"
     ]
    },
    {
     "cell_type": "code",
     "collapsed": false,
     "input": [
      "interact(foo, x=10);"
     ],
     "language": "python",
     "metadata": {},
     "outputs": []
    },
    {
     "cell_type": "markdown",
     "metadata": {},
     "source": [
      "Si el segundo par\u00e1metro es un `boolean`,obtendr\u00e1s un *checkbox*"
     ]
    },
    {
     "cell_type": "code",
     "collapsed": false,
     "input": [
      "interact(foo, x=True);"
     ],
     "language": "python",
     "metadata": {},
     "outputs": []
    },
    {
     "cell_type": "markdown",
     "metadata": {},
     "source": [
      "Si es una cadena de texto, un *text field*"
     ]
    },
    {
     "cell_type": "code",
     "collapsed": false,
     "input": [
      "interact(foo, x=u\"Hola \u00bfC\u00f3mo est\u00e1s?\");"
     ],
     "language": "python",
     "metadata": {},
     "outputs": []
    },
    {
     "cell_type": "markdown",
     "metadata": {},
     "source": [
      "Al pasar una *tupla* como variable, obtenemos un *dropbox*"
     ]
    },
    {
     "cell_type": "code",
     "collapsed": false,
     "input": [
      "interact(foo, x=(\"hola\", \"adios\"));"
     ],
     "language": "python",
     "metadata": {},
     "outputs": []
    },
    {
     "cell_type": "code",
     "collapsed": false,
     "input": [
      "O si queremos pasar valores que no sean cadenas, usamos un *diccionario*"
     ],
     "language": "python",
     "metadata": {},
     "outputs": []
    },
    {
     "cell_type": "code",
     "collapsed": false,
     "input": [
      "interact(foo, x={\"hola\":1, \"adios\":2});"
     ],
     "language": "python",
     "metadata": {},
     "outputs": []
    },
    {
     "cell_type": "markdown",
     "metadata": {},
     "source": [
      "Existen ocasiones donde quieres explorar el comportamiento de una funci\u00f3n, pero manteniendo uno de sus argumentos fijo"
     ]
    },
    {
     "cell_type": "code",
     "collapsed": false,
     "input": [
      "def bar(p, q):\n",
      "    print p, q"
     ],
     "language": "python",
     "metadata": {},
     "outputs": []
    },
    {
     "cell_type": "code",
     "collapsed": false,
     "input": [
      "bar(10, 20)"
     ],
     "language": "python",
     "metadata": {},
     "outputs": []
    },
    {
     "cell_type": "code",
     "collapsed": false,
     "input": [
      "interact(bar, p=5, q=fixed(20));"
     ],
     "language": "python",
     "metadata": {},
     "outputs": []
    },
    {
     "cell_type": "heading",
     "level": 2,
     "metadata": {},
     "source": [
      "6. Usando el Sistema Operativo"
     ]
    },
    {
     "cell_type": "code",
     "collapsed": false,
     "input": [
      "!pwd"
     ],
     "language": "python",
     "metadata": {},
     "outputs": []
    },
    {
     "cell_type": "code",
     "collapsed": false,
     "input": [
      "!whoami"
     ],
     "language": "python",
     "metadata": {},
     "outputs": []
    },
    {
     "cell_type": "code",
     "collapsed": false,
     "input": [
      "files = !ls\n",
      "print \"Los archivos en esta carpeta son:\"\n",
      "print files"
     ],
     "language": "python",
     "metadata": {},
     "outputs": []
    },
    {
     "cell_type": "heading",
     "level": 2,
     "metadata": {},
     "source": [
      "7. Funciones m\u00e1gicas"
     ]
    },
    {
     "cell_type": "markdown",
     "metadata": {},
     "source": [
      "La ayuda sobre todas las funciones *m\u00e1gicas* del `ipython notebook` pueden encontrase como sigue"
     ]
    },
    {
     "cell_type": "code",
     "collapsed": false,
     "input": [
      "%magic"
     ],
     "language": "python",
     "metadata": {},
     "outputs": []
    },
    {
     "cell_type": "markdown",
     "metadata": {},
     "source": [
      "Por ejemplo, la funci\u00f3n m\u00e1gica `%timeit` \u00bfQu\u00e9 crees que haga?"
     ]
    },
    {
     "cell_type": "code",
     "collapsed": false,
     "input": [
      "%timeit range(10)"
     ],
     "language": "python",
     "metadata": {},
     "outputs": []
    },
    {
     "cell_type": "markdown",
     "metadata": {},
     "source": [
      "Es posible ejecutar `bash`, `ruby` y otros lenguajes:"
     ]
    },
    {
     "cell_type": "code",
     "collapsed": false,
     "input": [
      "%%bash\n",
      "echo \"Mi shell es:\" $SHELL\n",
      "echo \"El uso de memoria es:\"\n",
      "free"
     ],
     "language": "python",
     "metadata": {},
     "outputs": []
    },
    {
     "cell_type": "markdown",
     "metadata": {},
     "source": [
      "Es posible crear archivos localmente:"
     ]
    },
    {
     "cell_type": "code",
     "collapsed": false,
     "input": [
      "%%file utilerias.py\n",
      "def sort_string(s):\n",
      "    s = sorted(s)\n",
      "    print ''.join(s)"
     ],
     "language": "python",
     "metadata": {},
     "outputs": []
    },
    {
     "cell_type": "code",
     "collapsed": false,
     "input": [
      "!cat utilerias.py"
     ],
     "language": "python",
     "metadata": {},
     "outputs": []
    },
    {
     "cell_type": "markdown",
     "metadata": {},
     "source": [
      "\"Cargar\" un archivo desde disco"
     ]
    },
    {
     "cell_type": "code",
     "collapsed": false,
     "input": [
      "%load utilerias.py"
     ],
     "language": "python",
     "metadata": {},
     "outputs": []
    },
    {
     "cell_type": "code",
     "collapsed": false,
     "input": [
      "def sort_string(s):\n",
      "    s = sorted(s)\n",
      "    print ''.join(s)"
     ],
     "language": "python",
     "metadata": {},
     "outputs": []
    },
    {
     "cell_type": "code",
     "collapsed": false,
     "input": [
      "from utilerias import sort_string\n",
      "sort_string(\"GOAL\")"
     ],
     "language": "python",
     "metadata": {},
     "outputs": []
    },
    {
     "cell_type": "code",
     "collapsed": false,
     "input": [
      "!rm utilerias.py"
     ],
     "language": "python",
     "metadata": {},
     "outputs": []
    },
    {
     "cell_type": "heading",
     "level": 2,
     "metadata": {},
     "source": [
      "8. Graficando"
     ]
    },
    {
     "cell_type": "markdown",
     "metadata": {},
     "source": [
      "Aunque despu\u00e9s vamos a dedicarle mucho tiempo a la librer\u00eda `matplotlib`, es importante verla"
     ]
    },
    {
     "cell_type": "code",
     "collapsed": false,
     "input": [
      "%matplotlib inline"
     ],
     "language": "python",
     "metadata": {},
     "outputs": []
    },
    {
     "cell_type": "code",
     "collapsed": false,
     "input": [
      "import numpy as np\n",
      "import matplotlib.pyplot as plt"
     ],
     "language": "python",
     "metadata": {},
     "outputs": []
    },
    {
     "cell_type": "code",
     "collapsed": false,
     "input": [
      "x = np.linspace(0, 2*np.pi, 300)\n",
      "y = np.cos(x**3)\n",
      "plt.plot(x, y)\n",
      "plt.title(u\"\u00a1Hola desde plot!\");"
     ],
     "language": "python",
     "metadata": {},
     "outputs": []
    }
   ],
   "metadata": {}
  }
 ]
}