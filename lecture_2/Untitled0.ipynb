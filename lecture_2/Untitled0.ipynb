{
 "metadata": {
  "name": "",
  "signature": "sha256:7197caee48dde99bf5f9bff54d2fbd70008bdd171a9771900d454f913714266e"
 },
 "nbformat": 3,
 "nbformat_minor": 0,
 "worksheets": []
}