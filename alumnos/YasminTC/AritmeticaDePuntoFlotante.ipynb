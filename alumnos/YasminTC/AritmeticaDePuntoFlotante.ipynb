{
 "metadata": {
  "name": "",
  "signature": "sha256:58141a1404fa9048d3b8b9aacc0d5e62362c550712d9c954eb469fdf119f5b27"
 },
 "nbformat": 3,
 "nbformat_minor": 0,
 "worksheets": [
  {
   "cells": [
    {
     "cell_type": "markdown",
     "metadata": {},
     "source": [
      "Para este archivo me ayude con el ejercicio de Lore MD"
     ]
    },
    {
     "cell_type": "code",
     "collapsed": false,
     "input": [
      "\"menor n\u00famero posible con 8 bits en two's complement notation\"\n",
      "1*(-2**7)"
     ],
     "language": "python",
     "metadata": {},
     "outputs": [
      {
       "metadata": {},
       "output_type": "pyout",
       "prompt_number": 2,
       "text": [
        "-128"
       ]
      }
     ],
     "prompt_number": 2
    },
    {
     "cell_type": "code",
     "collapsed": false,
     "input": [
      "\"mayor n\u00famero posible con 8 bits en two's complement notation\"\n",
      "1*(2**6)+1*(2**5)+1*(2**4)+1*(2**3)+1*(2**2)+1*(2**1)+1*(2**0)"
     ],
     "language": "python",
     "metadata": {},
     "outputs": [
      {
       "metadata": {},
       "output_type": "pyout",
       "prompt_number": 3,
       "text": [
        "127"
       ]
      }
     ],
     "prompt_number": 3
    },
    {
     "cell_type": "code",
     "collapsed": false,
     "input": [
      "1*(-2**7)+1*(2**6)+1*(2**5)+1*(2**4)+1*(2**3)+1*(2**2)+1*(2**1)+1*(2**0)"
     ],
     "language": "python",
     "metadata": {},
     "outputs": [
      {
       "metadata": {},
       "output_type": "pyout",
       "prompt_number": 4,
       "text": [
        "-1"
       ]
      }
     ],
     "prompt_number": 4
    },
    {
     "cell_type": "code",
     "collapsed": false,
     "input": [
      "def maxMin(bits):\n",
      "    max=0\n",
      "    \"\"\"for i in xrange(0,bits-1,1):\n",
      "        max+=1*(2**i)\"\"\"\n",
      "    min=1*(-2**(bits-1))\n",
      "    max=1*(2**(bits-1))-1\n",
      "    return min, max"
     ],
     "language": "python",
     "metadata": {},
     "outputs": [],
     "prompt_number": 5
    },
    {
     "cell_type": "code",
     "collapsed": false,
     "input": [
      "maxMin(64)"
     ],
     "language": "python",
     "metadata": {},
     "outputs": [
      {
       "metadata": {},
       "output_type": "pyout",
       "prompt_number": 6,
       "text": [
        "(-9223372036854775808L, 9223372036854775807L)"
       ]
      }
     ],
     "prompt_number": 6
    },
    {
     "cell_type": "code",
     "collapsed": false,
     "input": [
      "maxMin(8)"
     ],
     "language": "python",
     "metadata": {},
     "outputs": [
      {
       "metadata": {},
       "output_type": "pyout",
       "prompt_number": 7,
       "text": [
        "(-128, 127)"
       ]
      }
     ],
     "prompt_number": 7
    },
    {
     "cell_type": "code",
     "collapsed": false,
     "input": [
      "def decimalBinario(num,bits):\n",
      "    assert(num>=1*(-2**(bits-1)) and num<=1*(2**(bits-1))-1)\n",
      "    bin=\"\"\n",
      "    i=0\n",
      "    for i in xrange(bits,0,-1):\n",
      "        bin+=str(num%2)\n",
      "        num/=2\n",
      "    return bin[::-1]"
     ],
     "language": "python",
     "metadata": {},
     "outputs": [],
     "prompt_number": 8
    },
    {
     "cell_type": "code",
     "collapsed": false,
     "input": [
      "decimalBinario(1021,64)"
     ],
     "language": "python",
     "metadata": {},
     "outputs": [
      {
       "metadata": {},
       "output_type": "pyout",
       "prompt_number": 16,
       "text": [
        "'0000000000000000000000000000000000000000000000000000001111111101'"
       ]
      }
     ],
     "prompt_number": 16
    },
    {
     "cell_type": "code",
     "collapsed": false,
     "input": [
      "def binarioDecimal(num,bits):\n",
      "    i=0\n",
      "    dec=0\n",
      "    for i in xrange(bits,0,-1):\n",
      "        aux=int(num[i-1])*(2**(bits-i))\n",
      "        dec+=aux\n",
      "    return dec"
     ],
     "language": "python",
     "metadata": {},
     "outputs": [],
     "prompt_number": 10
    },
    {
     "cell_type": "code",
     "collapsed": false,
     "input": [
      "binarioDecimal(\"00000101\",8)"
     ],
     "language": "python",
     "metadata": {},
     "outputs": [
      {
       "metadata": {},
       "output_type": "pyout",
       "prompt_number": 11,
       "text": [
        "5"
       ]
      }
     ],
     "prompt_number": 11
    },
    {
     "cell_type": "code",
     "collapsed": false,
     "input": [
      "binarioDecimal(\"00000011\",8)"
     ],
     "language": "python",
     "metadata": {},
     "outputs": [
      {
       "metadata": {},
       "output_type": "pyout",
       "prompt_number": 15,
       "text": [
        "3"
       ]
      }
     ],
     "prompt_number": 15
    },
    {
     "cell_type": "code",
     "collapsed": false,
     "input": [],
     "language": "python",
     "metadata": {},
     "outputs": []
    }
   ],
   "metadata": {}
  }
 ]
}