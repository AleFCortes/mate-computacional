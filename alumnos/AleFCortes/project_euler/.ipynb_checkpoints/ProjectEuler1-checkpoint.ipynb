{
 "metadata": {
  "name": "",
  "signature": "sha256:e1e963404a1cbd4875cca2c2cbfb920ffd97b808367de77246209a5fb3accf57"
 },
 "nbformat": 3,
 "nbformat_minor": 0,
 "worksheets": [
  {
   "cells": [
    {
     "cell_type": "heading",
     "level": 1,
     "metadata": {},
     "source": [
      "M\u00faltiplos de 3 y 5"
     ]
    },
    {
     "cell_type": "markdown",
     "metadata": {},
     "source": [
      "Si enlistamos todos los n\u00fameros naturales menores que 10 que son m\u00faltiplos de 3 o 5, obtenemos 3, 5, 6 y 9. La suma de estos m\u00faltiplos es 23.\n",
      "\n",
      "Encontraremos la suma de todos los m\u00faltiplos de 3 o 5 menores que 1000."
     ]
    },
    {
     "cell_type": "code",
     "collapsed": false,
     "input": [
      "def mult():\n",
      "    suma =0\n",
      "    for i in range (1,1000):\n",
      "        if(i%3==0 or i%5 ==0):\n",
      "            suma += i\n",
      "    print suma"
     ],
     "language": "python",
     "metadata": {},
     "outputs": [],
     "prompt_number": 47
    },
    {
     "cell_type": "code",
     "collapsed": false,
     "input": [
      "mult()"
     ],
     "language": "python",
     "metadata": {},
     "outputs": [
      {
       "output_type": "stream",
       "stream": "stdout",
       "text": [
        "233168\n"
       ]
      }
     ],
     "prompt_number": 48
    }
   ],
   "metadata": {}
  }
 ]
}