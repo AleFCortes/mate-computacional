{
 "metadata": {
  "name": "",
  "signature": "sha256:f3389f157d559ce001335b552582a9656d8c5fc65481b935ec1c1d8444533c20"
 },
 "nbformat": 3,
 "nbformat_minor": 0,
 "worksheets": [
  {
   "cells": [
    {
     "cell_type": "heading",
     "level": 1,
     "metadata": {},
     "source": [
      "Project Euler #3 - Largest prime factor"
     ]
    },
    {
     "cell_type": "markdown",
     "metadata": {},
     "source": [
      "Busco el primer n\u00famero mayor a 1 que divide al n\u00famero actual, al ser un primo\n",
      "se lo divido y repito el proceso. Me quedo con el m\u00e1s grande."
     ]
    },
    {
     "cell_type": "code",
     "collapsed": false,
     "input": [
      "# Se puede notar que la complejidad asint\u00f3tica es o(lg(N)*sqrt(N)).\n",
      "import math\n",
      "\n",
      "num = 600851475143\n",
      "p = 1\n",
      "\n",
      "while num > 1:\t#Mientras el n\u00famero siga teniendo primos en su factorizaci\u00f3n.\n",
      "\ti = 2\n",
      "\twhile i <= num: # Sabemos que en general se rompe antes de ra\u00edz de N.\n",
      "\t\tif num%i == 0:\n",
      "\t\t\ttemp = i\n",
      "\t\t\tbreak\n",
      "\t\ti += 1\n",
      "\tif p < temp:     #Checar cu\u00e1l es el mayor primo.\n",
      "\t\tp = temp\n",
      "\tnum /= temp\t\t #Dividir entre el primo encontrado.\n",
      "\t\n",
      "print p"
     ],
     "language": "python",
     "metadata": {},
     "outputs": [
      {
       "output_type": "stream",
       "stream": "stdout",
       "text": [
        "6857\n"
       ]
      }
     ],
     "prompt_number": 1
    }
   ],
   "metadata": {}
  }
 ]
}