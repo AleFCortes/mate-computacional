{
 "metadata": {
  "name": "",
  "signature": "sha256:e8d75b6ab0ed0422bcaf5d4f6e92e60f0a0590f8206cb329011191434d3337cd"
 },
 "nbformat": 3,
 "nbformat_minor": 0,
 "worksheets": [
  {
   "cells": [
    {
     "cell_type": "code",
     "collapsed": false,
     "input": [
      "%%file transformaciones.py\n",
      "from math import sin, cos\n",
      "def coordenadasEsfericas(r, theta, phi):\n",
      "    x = r*sin(phi)*cos(theta)\n",
      "    y = r*sin(phi)*sin(theta)\n",
      "    x = r*cos(phi)\n",
      "    print x,y,z"
     ],
     "language": "python",
     "metadata": {},
     "outputs": [
      {
       "output_type": "stream",
       "stream": "stdout",
       "text": [
        "Overwriting transformaciones.py\n"
       ]
      }
     ],
     "prompt_number": 4
    },
    {
     "cell_type": "code",
     "collapsed": false,
     "input": [
      "def coordenadasCartesianas(x, y, z):\n",
      "    "
     ],
     "language": "python",
     "metadata": {},
     "outputs": []
    }
   ],
   "metadata": {}
  }
 ]
}