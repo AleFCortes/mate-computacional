{
 "metadata": {
  "name": "",
  "signature": "sha256:8991e8c1837647db7e2ab71caa642db1bee6c802a1fcc4228e2293d6985056fc"
 },
 "nbformat": 3,
 "nbformat_minor": 0,
 "worksheets": [
  {
   "cells": [
    {
     "cell_type": "heading",
     "level": 1,
     "metadata": {},
     "source": [
      "Examen Parcial"
     ]
    },
    {
     "cell_type": "heading",
     "level": 6,
     "metadata": {},
     "source": [
      "5 de marzo, 2015"
     ]
    },
    {
     "cell_type": "heading",
     "level": 2,
     "metadata": {},
     "source": [
      "Instrucciones"
     ]
    },
    {
     "cell_type": "markdown",
     "metadata": {},
     "source": [
      "- Crea una carpeta en tu directorio llamada `examen`.\n",
      "- Copia este examen a esa carpeta reci\u00e9n creada.\n",
      "- Copia los archivos con extensi\u00f3n `.m` de la misma manera."
     ]
    },
    {
     "cell_type": "heading",
     "level": 3,
     "metadata": {},
     "source": [
      "Definiciones"
     ]
    },
    {
     "cell_type": "markdown",
     "metadata": {},
     "source": [
      "- **Precisi\u00f3n** es el n\u00famero m\u00e1ximo de _bits_ diferentes de cero que es representable.\n",
      "- **Rango** es la diferencia entre el n\u00famero m\u00e1s negativo representable y el n\u00famero m\u00e1s positivo representable.\n",
      "- **Resoluci\u00f3n** es la magnitud m\u00e1s preque\u00f1a diferente de cero representable.\n",
      "- **Exactitud** es la magnitud e la m\u00e1xima diferencia entre el valor real y su representaci\u00f3n."
     ]
    },
    {
     "cell_type": "markdown",
     "metadata": {},
     "source": [
      "- Un n\u00famero $x$ en _single precision_ en el est\u00e1ndar **IEEE 754** se escribe:"
     ]
    },
    {
     "cell_type": "markdown",
     "metadata": {},
     "source": [
      "$$\n",
      "x = s 1.mmm \\ldots mmm \\times 2^{mmm \\ldots mmm}\n",
      "$$"
     ]
    },
    {
     "cell_type": "markdown",
     "metadata": {},
     "source": [
      "con un _bias_ de "
     ]
    },
    {
     "cell_type": "heading",
     "level": 1,
     "metadata": {},
     "source": [
      "Parte escrita"
     ]
    },
    {
     "cell_type": "heading",
     "level": 2,
     "metadata": {},
     "source": [
      "Problema 1"
     ]
    },
    {
     "cell_type": "markdown",
     "metadata": {},
     "source": [
      "* Escribir los siguientes n\u00fameros reales de manera _normalizada_"
     ]
    },
    {
     "cell_type": "markdown",
     "metadata": {},
     "source": [
      "    - $123.45$\n",
      "    - $6.3789 \\times 10^{5}$\n",
      "    - $5432.1987 \\times 10^{3}$\n",
      "    - $6.02 \\times 10^{23}$\n",
      "    - $0.000001$\n",
      "    - $1.0$"
     ]
    },
    {
     "cell_type": "heading",
     "level": 2,
     "metadata": {},
     "source": [
      "Problema 2"
     ]
    },
    {
     "cell_type": "markdown",
     "metadata": {},
     "source": [
      "- Escriba los siguientes n\u00fameros en su expansi\u00f3n en base $2$ y calcule su valor en base $10$ (suponga que no est\u00e1n signados)"
     ]
    },
    {
     "cell_type": "markdown",
     "metadata": {},
     "source": [
      "    - `1101`\n",
      "    - `11010`\n",
      "    - `00110011`"
     ]
    },
    {
     "cell_type": "heading",
     "level": 2,
     "metadata": {},
     "source": [
      "Problema 3"
     ]
    },
    {
     "cell_type": "markdown",
     "metadata": {},
     "source": [
      "- Escribe de forma normalizada a $y = + 1000.100111$ ."
     ]
    },
    {
     "cell_type": "markdown",
     "metadata": {},
     "source": [
      "- Escribe el mismo n\u00famero en formato **IEEE 754** en _single precision_."
     ]
    },
    {
     "cell_type": "markdown",
     "metadata": {},
     "source": [
      "- Escribe los siguientes n\u00fameros en el est\u00e1ndar **IEEE 754** a _double precision_"
     ]
    },
    {
     "cell_type": "markdown",
     "metadata": {},
     "source": [
      "- `1.0`\n",
      "- `1.5`\n",
      "- `-1.5`"
     ]
    },
    {
     "cell_type": "markdown",
     "metadata": {},
     "source": [
      "- \u00bfQu\u00e9 n\u00famero representa el siguiente flotante **IEEE 754** _double precision_?"
     ]
    },
    {
     "cell_type": "markdown",
     "metadata": {},
     "source": [
      "- `1 1000 0010 111 1000 0000 0000 0000 0000`"
     ]
    },
    {
     "cell_type": "heading",
     "level": 2,
     "metadata": {},
     "source": [
      "Problema 4"
     ]
    },
    {
     "cell_type": "markdown",
     "metadata": {},
     "source": [
      "* Representa $1$ en lo siguiente:\n",
      "\n",
      "    - En 8 bits con signo\n",
      "    - En 8 bits sin signo\n",
      "    - En 16 bits sin signo\n",
      "    - En 32 bits en el est\u00e1ndar **IEEE 754**\n",
      "    - En 64 bits en el est\u00e1ndar **IEEE 754**"
     ]
    },
    {
     "cell_type": "markdown",
     "metadata": {},
     "source": [
      "* Las siguientes dos cadenas binarias"
     ]
    },
    {
     "cell_type": "markdown",
     "metadata": {},
     "source": [
      "    - `0000 0000 0010 1010`\n",
      "    - `1000 0000 0010 1010`"
     ]
    },
    {
     "cell_type": "markdown",
     "metadata": {},
     "source": [
      "\u00bfQu\u00e9 n\u00famero representan s\u00ed ...\n",
      "\n",
      "    - ... son 16 bits sin signo?\n",
      "    - ... son 16 bits con signo?\n",
      "    - ... 2 cadenas de 8 bits sin signo?\n",
      "    - ... 2 cadenas de 8 bits con signo?"
     ]
    },
    {
     "cell_type": "heading",
     "level": 2,
     "metadata": {},
     "source": [
      "Problema 5"
     ]
    },
    {
     "cell_type": "heading",
     "level": 3,
     "metadata": {},
     "source": [
      "El mundo del Nintendo: 8 bits"
     ]
    },
    {
     "cell_type": "markdown",
     "metadata": {},
     "source": [
      "Supongamos que vamos a trabajar con `8 bits`"
     ]
    },
    {
     "cell_type": "markdown",
     "metadata": {},
     "source": [
      "$$\n",
      "x = \\pm 1.mmmm \\times 2^{bbb}\n",
      "$$"
     ]
    },
    {
     "cell_type": "markdown",
     "metadata": {},
     "source": [
      "donde el _bias_ $= 3$."
     ]
    },
    {
     "cell_type": "markdown",
     "metadata": {},
     "source": [
      "- \u00bfCu\u00e1l es el rango? \n",
      "- \u00bfCu\u00e1l es la precisi\u00f3n?\n",
      "- \u00bfCu\u00e1l es la resoluci\u00f3n?\n",
      "- \u00bfCu\u00e1ntos b\u00ednades hay?\n",
      "- \u00bfCu\u00e1ntos n\u00fameros por b\u00ednade hay?"
     ]
    },
    {
     "cell_type": "heading",
     "level": 1,
     "metadata": {},
     "source": [
      "Computadora"
     ]
    },
    {
     "cell_type": "heading",
     "level": 2,
     "metadata": {},
     "source": [
      "Problema 6"
     ]
    },
    {
     "cell_type": "heading",
     "level": 2,
     "metadata": {},
     "source": [
      "El mundo de Nintendo: 8 bits"
     ]
    },
    {
     "cell_type": "markdown",
     "metadata": {},
     "source": [
      "* Crea un programa en `python` o `GNU Octave` imprima todos los n\u00fameros que se pueden almacenar en `8 bits` (ver ejercicio anterior). "
     ]
    },
    {
     "cell_type": "markdown",
     "metadata": {},
     "source": [
      "La tabla debe de tener el siguiente formato:"
     ]
    },
    {
     "cell_type": "markdown",
     "metadata": {},
     "source": [
      "| representaci\u00f3n almacenada | real | flotante |\n",
      "|---------------------------|------|----------|"
     ]
    },
    {
     "cell_type": "code",
     "collapsed": false,
     "input": [
      "print 'representaci\u00f3n almacenada\\treal\\tflotante'\n",
      "\n",
      "def p(i, x):\n",
      "    b = bin(i)[2:]\n",
      "    return '0' * (x - len(b)) + b\n",
      "\n",
      "# itero sobre todos los signos, exponentes y mantisas.\n",
      "# para imprimir la versi\u00f3n real la pongo en el formato que la acepta float.fromhex\n",
      "\n",
      "for s in range(2**1):\n",
      "    for e in range(2**3):\n",
      "        for m in range(2**4):\n",
      "            print p(s,1) + ' ' + p(e,3) + ' ' + p(m,4) + '\\t',\n",
      "            if e != 7:\n",
      "                print str(float.fromhex(('-' if s == 1 else '') + '0x' + ('1.' if e != 0 else '0.') + hex(m)[2:] + 'p' + ('+' if e-3 >= 0 else '') + str(e-3))) + '\\t',\n",
      "                print str(('-' if s == 1 else '') + ('1.' if e != 0 else '0.') + hex(m)[2:] + 'x2^' + str(e-3))\n",
      "            else:\n",
      "                if m != 0:\n",
      "                    print 'NaN\\tNaN'\n",
      "                elif s == 0:\n",
      "                    print '0\\t+0'\n",
      "                else:\n",
      "                    print '0\\t-0'"
     ],
     "language": "python",
     "metadata": {},
     "outputs": [
      {
       "output_type": "stream",
       "stream": "stdout",
       "text": [
        "representaci\u00f3n almacenada\treal\tflotante\n",
        "0 000 0000\t0.0\t0.0x2^-3\n",
        "0 000 0001\t0.0078125\t0.1x2^-3\n",
        "0 000 0010\t0.015625\t0.2x2^-3\n",
        "0 000 0011\t0.0234375\t0.3x2^-3\n",
        "0 000 0100\t0.03125\t0.4x2^-3\n",
        "0 000 0101\t0.0390625\t0.5x2^-3\n",
        "0 000 0110\t0.046875\t0.6x2^-3\n",
        "0 000 0111\t0.0546875\t0.7x2^-3\n",
        "0 000 1000\t0.0625\t0.8x2^-3\n",
        "0 000 1001\t0.0703125\t0.9x2^-3\n",
        "0 000 1010\t0.078125\t0.ax2^-3\n",
        "0 000 1011\t0.0859375\t0.bx2^-3\n",
        "0 000 1100\t0.09375\t0.cx2^-3\n",
        "0 000 1101\t0.1015625\t0.dx2^-3\n",
        "0 000 1110\t0.109375\t0.ex2^-3\n",
        "0 000 1111\t0.1171875\t0.fx2^-3\n",
        "0 001 0000\t0.25\t1.0x2^-2\n",
        "0 001 0001\t0.265625\t1.1x2^-2\n",
        "0 001 0010\t0.28125\t1.2x2^-2\n",
        "0 001 0011\t0.296875\t1.3x2^-2\n",
        "0 001 0100\t0.3125\t1.4x2^-2\n",
        "0 001 0101\t0.328125\t1.5x2^-2\n",
        "0 001 0110\t0.34375\t1.6x2^-2\n",
        "0 001 0111\t0.359375\t1.7x2^-2\n",
        "0 001 1000\t0.375\t1.8x2^-2\n",
        "0 001 1001\t0.390625\t1.9x2^-2\n",
        "0 001 1010\t0.40625\t1.ax2^-2\n",
        "0 001 1011\t0.421875\t1.bx2^-2\n",
        "0 001 1100\t0.4375\t1.cx2^-2\n",
        "0 001 1101\t0.453125\t1.dx2^-2\n",
        "0 001 1110\t0.46875\t1.ex2^-2\n",
        "0 001 1111\t0.484375\t1.fx2^-2\n",
        "0 010 0000\t0.5\t1.0x2^-1\n",
        "0 010 0001\t0.53125\t1.1x2^-1\n",
        "0 010 0010\t0.5625\t1.2x2^-1\n",
        "0 010 0011\t0.59375\t1.3x2^-1\n",
        "0 010 0100\t0.625\t1.4x2^-1\n",
        "0 010 0101\t0.65625\t1.5x2^-1\n",
        "0 010 0110\t0.6875\t1.6x2^-1\n",
        "0 010 0111\t0.71875\t1.7x2^-1\n",
        "0 010 1000\t0.75\t1.8x2^-1\n",
        "0 010 1001\t0.78125\t1.9x2^-1\n",
        "0 010 1010\t0.8125\t1.ax2^-1\n",
        "0 010 1011\t0.84375\t1.bx2^-1\n",
        "0 010 1100\t0.875\t1.cx2^-1\n",
        "0 010 1101\t0.90625\t1.dx2^-1\n",
        "0 010 1110\t0.9375\t1.ex2^-1\n",
        "0 010 1111\t0.96875\t1.fx2^-1\n",
        "0 011 0000\t1.0\t1.0x2^0\n",
        "0 011 0001\t1.0625\t1.1x2^0\n",
        "0 011 0010\t1.125\t1.2x2^0\n",
        "0 011 0011\t1.1875\t1.3x2^0\n",
        "0 011 0100\t1.25\t1.4x2^0\n",
        "0 011 0101\t1.3125\t1.5x2^0\n",
        "0 011 0110\t1.375\t1.6x2^0\n",
        "0 011 0111\t1.4375\t1.7x2^0\n",
        "0 011 1000\t1.5\t1.8x2^0\n",
        "0 011 1001\t1.5625\t1.9x2^0\n",
        "0 011 1010\t1.625\t1.ax2^0\n",
        "0 011 1011\t1.6875\t1.bx2^0\n",
        "0 011 1100\t1.75\t1.cx2^0\n",
        "0 011 1101\t1.8125\t1.dx2^0\n",
        "0 011 1110\t1.875\t1.ex2^0\n",
        "0 011 1111\t1.9375\t1.fx2^0\n",
        "0 100 0000\t2.0\t1.0x2^1\n",
        "0 100 0001\t2.125\t1.1x2^1\n",
        "0 100 0010\t2.25\t1.2x2^1\n",
        "0 100 0011\t2.375\t1.3x2^1\n",
        "0 100 0100\t2.5\t1.4x2^1\n",
        "0 100 0101\t2.625\t1.5x2^1\n",
        "0 100 0110\t2.75\t1.6x2^1\n",
        "0 100 0111\t2.875\t1.7x2^1\n",
        "0 100 1000\t3.0\t1.8x2^1\n",
        "0 100 1001\t3.125\t1.9x2^1\n",
        "0 100 1010\t3.25\t1.ax2^1\n",
        "0 100 1011\t3.375\t1.bx2^1\n",
        "0 100 1100\t3.5\t1.cx2^1\n",
        "0 100 1101\t3.625\t1.dx2^1\n",
        "0 100 1110\t3.75\t1.ex2^1\n",
        "0 100 1111\t3.875\t1.fx2^1\n",
        "0 101 0000\t4.0\t1.0x2^2\n",
        "0 101 0001\t4.25\t1.1x2^2\n",
        "0 101 0010\t4.5\t1.2x2^2\n",
        "0 101 0011\t4.75\t1.3x2^2\n",
        "0 101 0100\t5.0\t1.4x2^2\n",
        "0 101 0101\t5.25\t1.5x2^2\n",
        "0 101 0110\t5.5\t1.6x2^2\n",
        "0 101 0111\t5.75\t1.7x2^2\n",
        "0 101 1000\t6.0\t1.8x2^2\n",
        "0 101 1001\t6.25\t1.9x2^2\n",
        "0 101 1010\t6.5\t1.ax2^2\n",
        "0 101 1011\t6.75\t1.bx2^2\n",
        "0 101 1100\t7.0\t1.cx2^2\n",
        "0 101 1101\t7.25\t1.dx2^2\n",
        "0 101 1110\t7.5\t1.ex2^2\n",
        "0 101 1111\t7.75\t1.fx2^2\n",
        "0 110 0000\t8.0\t1.0x2^3\n",
        "0 110 0001\t8.5\t1.1x2^3\n",
        "0 110 0010\t9.0\t1.2x2^3\n",
        "0 110 0011\t9.5\t1.3x2^3\n",
        "0 110 0100\t10.0\t1.4x2^3\n",
        "0 110 0101\t10.5\t1.5x2^3\n",
        "0 110 0110\t11.0\t1.6x2^3\n",
        "0 110 0111\t11.5\t1.7x2^3\n",
        "0 110 1000\t12.0\t1.8x2^3\n",
        "0 110 1001\t12.5\t1.9x2^3\n",
        "0 110 1010\t13.0\t1.ax2^3\n",
        "0 110 1011\t13.5\t1.bx2^3\n",
        "0 110 1100\t14.0\t1.cx2^3\n",
        "0 110 1101\t14.5\t1.dx2^3\n",
        "0 110 1110\t15.0\t1.ex2^3\n",
        "0 110 1111\t15.5\t1.fx2^3\n",
        "0 111 0000\t0\t+0\n",
        "0 111 0001\tNaN\tNaN\n",
        "0 111 0010\tNaN\tNaN\n",
        "0 111 0011\tNaN\tNaN\n",
        "0 111 0100\tNaN\tNaN\n",
        "0 111 0101\tNaN\tNaN\n",
        "0 111 0110\tNaN\tNaN\n",
        "0 111 0111\tNaN\tNaN\n",
        "0 111 1000\tNaN\tNaN\n",
        "0 111 1001\tNaN\tNaN\n",
        "0 111 1010\tNaN\tNaN\n",
        "0 111 1011\tNaN\tNaN\n",
        "0 111 1100\tNaN\tNaN\n",
        "0 111 1101\tNaN\tNaN\n",
        "0 111 1110\tNaN\tNaN\n",
        "0 111 1111\tNaN\tNaN\n",
        "1 000 0000\t-0.0\t-0.0x2^-3\n",
        "1 000 0001\t-0.0078125\t-0.1x2^-3\n",
        "1 000 0010\t-0.015625\t-0.2x2^-3\n",
        "1 000 0011\t-0.0234375\t-0.3x2^-3\n",
        "1 000 0100\t-0.03125\t-0.4x2^-3\n",
        "1 000 0101\t-0.0390625\t-0.5x2^-3\n",
        "1 000 0110\t-0.046875\t-0.6x2^-3\n",
        "1 000 0111\t-0.0546875\t-0.7x2^-3\n",
        "1 000 1000\t-0.0625\t-0.8x2^-3\n",
        "1 000 1001\t-0.0703125\t-0.9x2^-3\n",
        "1 000 1010\t-0.078125\t-0.ax2^-3\n",
        "1 000 1011\t-0.0859375\t-0.bx2^-3\n",
        "1 000 1100\t-0.09375\t-0.cx2^-3\n",
        "1 000 1101\t-0.1015625\t-0.dx2^-3\n",
        "1 000 1110\t-0.109375\t-0.ex2^-3\n",
        "1 000 1111\t-0.1171875\t-0.fx2^-3\n",
        "1 001 0000\t-0.25\t-1.0x2^-2\n",
        "1 001 0001\t-0.265625\t-1.1x2^-2\n",
        "1 001 0010\t-0.28125\t-1.2x2^-2\n",
        "1 001 0011\t-0.296875\t-1.3x2^-2\n",
        "1 001 0100\t-0.3125\t-1.4x2^-2\n",
        "1 001 0101\t-0.328125\t-1.5x2^-2\n",
        "1 001 0110\t-0.34375\t-1.6x2^-2\n",
        "1 001 0111\t-0.359375\t-1.7x2^-2\n",
        "1 001 1000\t-0.375\t-1.8x2^-2\n",
        "1 001 1001\t-0.390625\t-1.9x2^-2\n",
        "1 001 1010\t-0.40625\t-1.ax2^-2\n",
        "1 001 1011\t-0.421875\t-1.bx2^-2\n",
        "1 001 1100\t-0.4375\t-1.cx2^-2\n",
        "1 001 1101\t-0.453125\t-1.dx2^-2\n",
        "1 001 1110\t-0.46875\t-1.ex2^-2\n",
        "1 001 1111\t-0.484375\t-1.fx2^-2\n",
        "1 010 0000\t-0.5\t-1.0x2^-1\n",
        "1 010 0001\t-0.53125\t-1.1x2^-1\n",
        "1 010 0010\t-0.5625\t-1.2x2^-1\n",
        "1 010 0011\t-0.59375\t-1.3x2^-1\n",
        "1 010 0100\t-0.625\t-1.4x2^-1\n",
        "1 010 0101\t-0.65625\t-1.5x2^-1\n",
        "1 010 0110\t-0.6875\t-1.6x2^-1\n",
        "1 010 0111\t-0.71875\t-1.7x2^-1\n",
        "1 010 1000\t-0.75\t-1.8x2^-1\n",
        "1 010 1001\t-0.78125\t-1.9x2^-1\n",
        "1 010 1010\t-0.8125\t-1.ax2^-1\n",
        "1 010 1011\t-0.84375\t-1.bx2^-1\n",
        "1 010 1100\t-0.875\t-1.cx2^-1\n",
        "1 010 1101\t-0.90625\t-1.dx2^-1\n",
        "1 010 1110\t-0.9375\t-1.ex2^-1\n",
        "1 010 1111\t-0.96875\t-1.fx2^-1\n",
        "1 011 0000\t-1.0\t-1.0x2^0\n",
        "1 011 0001\t-1.0625\t-1.1x2^0\n",
        "1 011 0010\t-1.125\t-1.2x2^0\n",
        "1 011 0011\t-1.1875\t-1.3x2^0\n",
        "1 011 0100\t-1.25\t-1.4x2^0\n",
        "1 011 0101\t-1.3125\t-1.5x2^0\n",
        "1 011 0110\t-1.375\t-1.6x2^0\n",
        "1 011 0111\t-1.4375\t-1.7x2^0\n",
        "1 011 1000\t-1.5\t-1.8x2^0\n",
        "1 011 1001\t-1.5625\t-1.9x2^0\n",
        "1 011 1010\t-1.625\t-1.ax2^0\n",
        "1 011 1011\t-1.6875\t-1.bx2^0\n",
        "1 011 1100\t-1.75\t-1.cx2^0\n",
        "1 011 1101\t-1.8125\t-1.dx2^0\n",
        "1 011 1110\t-1.875\t-1.ex2^0\n",
        "1 011 1111\t-1.9375\t-1.fx2^0\n",
        "1 100 0000\t-2.0\t-1.0x2^1\n",
        "1 100 0001\t-2.125\t-1.1x2^1\n",
        "1 100 0010\t-2.25\t-1.2x2^1\n",
        "1 100 0011\t-2.375\t-1.3x2^1\n",
        "1 100 0100\t-2.5\t-1.4x2^1\n",
        "1 100 0101\t-2.625\t-1.5x2^1\n",
        "1 100 0110\t-2.75\t-1.6x2^1\n",
        "1 100 0111\t-2.875\t-1.7x2^1\n",
        "1 100 1000\t-3.0\t-1.8x2^1\n",
        "1 100 1001\t-3.125\t-1.9x2^1\n",
        "1 100 1010\t-3.25\t-1.ax2^1\n",
        "1 100 1011\t-3.375\t-1.bx2^1\n",
        "1 100 1100\t-3.5\t-1.cx2^1\n",
        "1 100 1101\t-3.625\t-1.dx2^1\n",
        "1 100 1110\t-3.75\t-1.ex2^1\n",
        "1 100 1111\t-3.875\t-1.fx2^1\n",
        "1 101 0000\t-4.0\t-1.0x2^2\n",
        "1 101 0001\t-4.25\t-1.1x2^2\n",
        "1 101 0010\t-4.5\t-1.2x2^2\n",
        "1 101 0011\t-4.75\t-1.3x2^2\n",
        "1 101 0100\t-5.0\t-1.4x2^2\n",
        "1 101 0101\t-5.25\t-1.5x2^2\n",
        "1 101 0110\t-5.5\t-1.6x2^2\n",
        "1 101 0111\t-5.75\t-1.7x2^2\n",
        "1 101 1000\t-6.0\t-1.8x2^2\n",
        "1 101 1001\t-6.25\t-1.9x2^2\n",
        "1 101 1010\t-6.5\t-1.ax2^2\n",
        "1 101 1011\t-6.75\t-1.bx2^2\n",
        "1 101 1100\t-7.0\t-1.cx2^2\n",
        "1 101 1101\t-7.25\t-1.dx2^2\n",
        "1 101 1110\t-7.5\t-1.ex2^2\n",
        "1 101 1111\t-7.75\t-1.fx2^2\n",
        "1 110 0000\t-8.0\t-1.0x2^3\n",
        "1 110 0001\t-8.5\t-1.1x2^3\n",
        "1 110 0010\t-9.0\t-1.2x2^3\n",
        "1 110 0011\t-9.5\t-1.3x2^3\n",
        "1 110 0100\t-10.0\t-1.4x2^3\n",
        "1 110 0101\t-10.5\t-1.5x2^3\n",
        "1 110 0110\t-11.0\t-1.6x2^3\n",
        "1 110 0111\t-11.5\t-1.7x2^3\n",
        "1 110 1000\t-12.0\t-1.8x2^3\n",
        "1 110 1001\t-12.5\t-1.9x2^3\n",
        "1 110 1010\t-13.0\t-1.ax2^3\n",
        "1 110 1011\t-13.5\t-1.bx2^3\n",
        "1 110 1100\t-14.0\t-1.cx2^3\n",
        "1 110 1101\t-14.5\t-1.dx2^3\n",
        "1 110 1110\t-15.0\t-1.ex2^3\n",
        "1 110 1111\t-15.5\t-1.fx2^3\n",
        "1 111 0000\t0\t-0\n",
        "1 111 0001\tNaN\tNaN\n",
        "1 111 0010\tNaN\tNaN\n",
        "1 111 0011\tNaN\tNaN\n",
        "1 111 0100\tNaN\tNaN\n",
        "1 111 0101\tNaN\tNaN\n",
        "1 111 0110\tNaN\tNaN\n",
        "1 111 0111\tNaN\tNaN\n",
        "1 111 1000\tNaN\tNaN\n",
        "1 111 1001\tNaN\tNaN\n",
        "1 111 1010\tNaN\tNaN\n",
        "1 111 1011\tNaN\tNaN\n",
        "1 111 1100\tNaN\tNaN\n",
        "1 111 1101\tNaN\tNaN\n",
        "1 111 1110\tNaN\tNaN\n",
        "1 111 1111\tNaN\tNaN\n"
       ]
      }
     ],
     "prompt_number": 29
    },
    {
     "cell_type": "markdown",
     "metadata": {},
     "source": [
      "* Grafica el n\u00famero de d\u00edgitos en un `b\u00ednade` usando un histograma."
     ]
    },
    {
     "cell_type": "markdown",
     "metadata": {},
     "source": [
      "* Grafica en un histograma la **densidad** de d\u00edgitos que existen por cada entero."
     ]
    },
    {
     "cell_type": "heading",
     "level": 2,
     "metadata": {},
     "source": [
      "Problema 7"
     ]
    },
    {
     "cell_type": "markdown",
     "metadata": {},
     "source": [
      "Observa el c\u00f3digo de `GNU Octave` siguiente:"
     ]
    },
    {
     "cell_type": "code",
     "collapsed": false,
     "input": [
      "!cat strange_floats_sp.m"
     ],
     "language": "python",
     "metadata": {},
     "outputs": [
      {
       "output_type": "stream",
       "stream": "stdout",
       "text": [
        "x = single(77777.0)\r\n",
        "y = single(7.0)\r\n",
        "inv_y = 1.0 / y\r\n",
        "\r\n",
        "z = x / y\r\n",
        "z1 = x * inv_y\r\n",
        "\r\n",
        "if (z != z1)\r\n",
        "  sprintf(\"%1.3f != %1.3f\", z, z1)\r\n",
        "  sprintf(\"%1.30f != %1.30f\", z, z1)\r\n",
        "else\r\n",
        "  sprintf(\"%1.3f == %1.3f\", z, z1)\r\n",
        "  sprintf(\"%1.30f == %1.30f\", z, z1)\r\n",
        "endif\r\n"
       ]
      }
     ],
     "prompt_number": 10
    },
    {
     "cell_type": "markdown",
     "metadata": {},
     "source": [
      "- \u00bfQu\u00e9 hace este c\u00f3digo?\n",
      "- Abre el programa `GNU Octave` y ejec\u00fatalo en la consola. \u00bfResult\u00f3 lo que esperabas?\n",
      "- `z`,  `z1` \u00bfSon `SP` o `DP`?"
     ]
    },
    {
     "cell_type": "markdown",
     "metadata": {},
     "source": [
      "Respuestas:\n",
      "\n",
      "* Computa x/y de dos maneras, una directamente y la otra tomando el inverso multiplicativo de y primero.\n",
      "* No.\n",
      "* SP."
     ]
    },
    {
     "cell_type": "markdown",
     "metadata": {},
     "source": [
      "<div class=\"alert alert-info\">\n",
      "**NOTA** `single` en `GNU Octave` y `Matlab` es la instrucci\u00f3n para indicarle al programa que trabaje en _single precision_.\n",
      "</div>"
     ]
    },
    {
     "cell_type": "markdown",
     "metadata": {},
     "source": [
      "<div class=\"alert alert-info\">\n",
      "**NOTA** Para ejecutar un _script_ en `GNU Octave` solo debes de teclear su nombre (obvio si lo tienes en tu carpeta)\n",
      "</div>"
     ]
    },
    {
     "cell_type": "markdown",
     "metadata": {},
     "source": [
      "- Comp\u00e1ralo con el _script_ `strange_floats_dp.m` \u00bfPor qu\u00e9 es la diferencia? Explica la salida de ambos programas."
     ]
    },
    {
     "cell_type": "markdown",
     "metadata": {},
     "source": [
      "Respuesta:\n",
      "\n",
      "Ahora s\u00ed contesta que son iguales. La explicaci\u00f3n es que single precision no puede representar los pasos intermedios y contesta distinto, a diferencia de double precision."
     ]
    },
    {
     "cell_type": "code",
     "collapsed": false,
     "input": [
      "!cat strange_floats_dp.m"
     ],
     "language": "python",
     "metadata": {},
     "outputs": [
      {
       "output_type": "stream",
       "stream": "stdout",
       "text": [
        "x = 77777.0\r\n",
        "y = 7.0\r\n",
        "inv_y = 1.0 / y\r\n",
        "\r\n",
        "z = x / y\r\n",
        "z1 = x * inv_y\r\n",
        "\r\n",
        "if (z != z1)\r\n",
        "  sprintf(\"%1.3f != %1.3f\", z, z1)\r\n",
        "  sprintf(\"%1.30f != %1.30f\", z, z1)\r\n",
        "else\r\n",
        "  sprintf(\"%1.3f == %1.3f\", z, z1)\r\n",
        "  sprintf(\"%1.30f == %1.30f\", z, z1)\r\n",
        "endif\r\n"
       ]
      }
     ],
     "prompt_number": 11
    },
    {
     "cell_type": "markdown",
     "metadata": {},
     "source": [
      "- `z`,  `z1` \u00bfSon `SP` o `DP`?"
     ]
    },
    {
     "cell_type": "markdown",
     "metadata": {},
     "source": [
      "Respuestas:\n",
      "\n",
      "* Son DP"
     ]
    },
    {
     "cell_type": "heading",
     "level": 2,
     "metadata": {},
     "source": [
      "Problema 8"
     ]
    },
    {
     "cell_type": "markdown",
     "metadata": {},
     "source": [
      "La _varianza_ de $n$ datos se define como"
     ]
    },
    {
     "cell_type": "markdown",
     "metadata": {},
     "source": [
      "$$\n",
      "s_n^2 = \\frac{1}{n - 1} \\sum^n_{i=1} (x_i - \\bar{x})^2\n",
      "$$"
     ]
    },
    {
     "cell_type": "markdown",
     "metadata": {},
     "source": [
      "donde $\\bar{x}$"
     ]
    },
    {
     "cell_type": "markdown",
     "metadata": {},
     "source": [
      "$$\n",
      "\\bar{x} = \\frac{1}{n} \\sum^n_{i = 1} x_i\n",
      "$$"
     ]
    },
    {
     "cell_type": "markdown",
     "metadata": {},
     "source": [
      "Esta definici\u00f3n es poco eficiente ya que requiere dos pasadas a los datos para calcular la _varianza_."
     ]
    },
    {
     "cell_type": "markdown",
     "metadata": {},
     "source": [
      "* Crea una funci\u00f3n an\u00f3nima en `numpy` o `GNU/Octave` que reproduzca este algoritmo."
     ]
    },
    {
     "cell_type": "code",
     "collapsed": false,
     "input": [
      "import numpy as np\n",
      "var = lambda a: 1.0 / (len(a)-1) * sum(map(lambda x: (x - np.mean(a))**2, a))"
     ],
     "language": "python",
     "metadata": {},
     "outputs": [],
     "prompt_number": 51
    },
    {
     "cell_type": "markdown",
     "metadata": {},
     "source": [
      "En los libros de texto se recomienda (o se reescribe) la definici\u00f3n de la siguiente manera:"
     ]
    },
    {
     "cell_type": "markdown",
     "metadata": {},
     "source": [
      "$$\n",
      "s_n^2 = \\frac{1}{n-1} \\left( \\sum^n_{i=1} x_i^2 -  \\frac{1}{n}\\left(\\sum^n_{i=1} x_i\\right)^2\\right)\n",
      "$$"
     ]
    },
    {
     "cell_type": "markdown",
     "metadata": {},
     "source": [
      "El cual es m\u00e1s eficiente computacionalmente hablando"
     ]
    },
    {
     "cell_type": "markdown",
     "metadata": {},
     "source": [
      "* Crea un programa en `numpy` o `GNU/Octave` que reproduzca este algoritmo."
     ]
    },
    {
     "cell_type": "code",
     "collapsed": false,
     "input": [
      "def var2(a):\n",
      "    sumsquaredovern = np.sum(a) ** 2 / len(a)\n",
      "    sumofsquares = sum(map(lambda x: x**2, a))\n",
      "    \n",
      "    return float(sumofsquares - sumsquaredovern) / (len(a)-1)"
     ],
     "language": "python",
     "metadata": {},
     "outputs": [],
     "prompt_number": 52
    },
    {
     "cell_type": "code",
     "collapsed": false,
     "input": [
      "print var([10000,10001,10002]), var2([10000,10001,10002])"
     ],
     "language": "python",
     "metadata": {},
     "outputs": [
      {
       "output_type": "stream",
       "stream": "stdout",
       "text": [
        "1.0 1.0\n"
       ]
      }
     ],
     "prompt_number": 53
    },
    {
     "cell_type": "heading",
     "level": 3,
     "metadata": {},
     "source": [
      "pero no truena! D:"
     ]
    },
    {
     "cell_type": "markdown",
     "metadata": {},
     "source": [
      "* Sean los datos $10000, 10001, 10002$, Realiza el c\u00e1lculo a mano y comp\u00e1ralo con los dos algoritmos. Expl\u00edca las diferencias y el posible error."
     ]
    },
    {
     "cell_type": "heading",
     "level": 2,
     "metadata": {},
     "source": [
      "Problema 9"
     ]
    },
    {
     "cell_type": "markdown",
     "metadata": {},
     "source": [
      "* Carga la funci\u00f3n `factorial` definida en el archivo `factorial.py`"
     ]
    },
    {
     "cell_type": "code",
     "collapsed": false,
     "input": [
      "%load factorial.py"
     ],
     "language": "python",
     "metadata": {},
     "outputs": [],
     "prompt_number": 48
    },
    {
     "cell_type": "code",
     "collapsed": false,
     "input": [
      "def factorial(n):\n",
      "    if n == 0:\n",
      "        return 1\n",
      "    elif n == 1:\n",
      "        return 1\n",
      "    else:\n",
      "        return factorial(n-1)*n"
     ],
     "language": "python",
     "metadata": {},
     "outputs": [],
     "prompt_number": 49
    },
    {
     "cell_type": "markdown",
     "metadata": {},
     "source": [
      "La serie de Maclaurin es un caso especial de la serie de Taylor de una funci\u00f3n $f$ alrededor de $0$"
     ]
    },
    {
     "cell_type": "markdown",
     "metadata": {},
     "source": [
      "$$\n",
      "f(x) = f(0) + f'(0) + \\frac{f''(0)}{2!} + \\ldots = \\sum^\\infty_{i=0}\\frac{1}{n\\!}f^{(n)}(0)\n",
      "$$"
     ]
    },
    {
     "cell_type": "markdown",
     "metadata": {},
     "source": [
      "En particular, la funci\u00f3n exponencial tiene la siguiente forma:"
     ]
    },
    {
     "cell_type": "markdown",
     "metadata": {},
     "source": [
      "$$\n",
      "e^x = 1 + x + \\frac{x^2}{2} + \\ldots = \\sum^\\infty_{i=0} \\frac{x^i}{i!}\n",
      "$$"
     ]
    },
    {
     "cell_type": "markdown",
     "metadata": {},
     "source": [
      "* Usando la funci\u00f3n `factorial` crea la funci\u00f3n `exp_maclaurin(x,n)`, que imprima lo siguiente:"
     ]
    },
    {
     "cell_type": "markdown",
     "metadata": {},
     "source": [
      "    print \"%12s\\t%12s\\t%12s\\t%12s\\t%20s\\t%20s\" % (\"i\", \"x\", \"x^i\", \"factorial(i)\", \"x^i/factorial(i)\", \"suma\")"
     ]
    },
    {
     "cell_type": "code",
     "collapsed": false,
     "input": [
      "# coment\u00e9 los prints\n",
      "\n",
      "def exp_maclaurin(x, n):\n",
      "    suma = 0.0\n",
      "    #print \"%12s\\t%12s\\t%12s\\t%12s\\t%20s\\t%20s\" % (\"i\", \"x\", \"x^i\", \"factorial(i)\", \"x^i/factorial(i)\", \"suma\")\n",
      "    \n",
      "    for i in range(n+1):\n",
      "        suma += x**i / factorial(i)\n",
      "        #print \"%12s\\t%12s\\t%12s\\t%12s\\t%20s\\t%20s\" % (i, x, x**i, factorial(i), x**i/factorial(i), suma)\n",
      "    \n",
      "    return suma"
     ],
     "language": "python",
     "metadata": {},
     "outputs": [],
     "prompt_number": 77
    },
    {
     "cell_type": "markdown",
     "metadata": {},
     "source": [
      "* Usando la funci\u00f3n `np.exp` calcula `0`, `1`, `5.5` y `-5.5`"
     ]
    },
    {
     "cell_type": "code",
     "collapsed": false,
     "input": [
      "print map(np.exp, [0,1,5.5,-5.5])"
     ],
     "language": "python",
     "metadata": {},
     "outputs": [
      {
       "output_type": "stream",
       "stream": "stdout",
       "text": [
        "[1.0, 2.7182818284590451, 244.69193226422038, 0.0040867714384640666]\n"
       ]
      }
     ],
     "prompt_number": 100
    },
    {
     "cell_type": "markdown",
     "metadata": {},
     "source": [
      "* Usando tu funci\u00f3n, calcula los mismos valores a orden 20 \u00bfEn cu\u00e1l falla? \u00bfPor qu\u00e9 crees que sea?"
     ]
    },
    {
     "cell_type": "code",
     "collapsed": false,
     "input": [
      "print map(lambda x: exp_maclaurin(x, 20), [0,1,5.5,-5.5])"
     ],
     "language": "python",
     "metadata": {},
     "outputs": [
      {
       "output_type": "stream",
       "stream": "stdout",
       "text": [
        "[1.0, 2.0, 244.69184059146986, 0.004141926339412548]\n"
       ]
      }
     ],
     "prompt_number": 101
    },
    {
     "cell_type": "markdown",
     "metadata": {},
     "source": [
      "* \u00bfC\u00f3mo resolver\u00edas este problema? Implementa tu soluci\u00f3n."
     ]
    },
    {
     "cell_type": "code",
     "collapsed": false,
     "input": [
      "# coment\u00e9 los prints\n",
      "\n",
      "def exp_maclaurin_fixed(x, n):\n",
      "    suma = 0.0\n",
      "    #print \"%12s\\t%12s\\t%12s\\t%12s\\t%20s\\t%20s\" % (\"i\", \"x\", \"x^i\", \"factorial(i)\", \"x^i/factorial(i)\", \"suma\")\n",
      "    \n",
      "    i = n-1\n",
      "    while i >= 0:\n",
      "        suma += x**i / factorial(i)\n",
      "        #print \"%12s\\t%12s\\t%12s\\t%12s\\t%20s\\t%20s\" % (i, x, x**i, factorial(i), x**i/factorial(i), suma)\n",
      "        i -= 1\n",
      "    \n",
      "    return suma"
     ],
     "language": "python",
     "metadata": {},
     "outputs": [],
     "prompt_number": 102
    },
    {
     "cell_type": "code",
     "collapsed": false,
     "input": [
      "print map(lambda x: exp_maclaurin_fixed(x, 20), [0,1,5.5,-5.5])"
     ],
     "language": "python",
     "metadata": {},
     "outputs": [
      {
       "output_type": "stream",
       "stream": "stdout",
       "text": [
        "[1.0, 2.0, 244.6915768799067, 0.00387821477627881]\n"
       ]
      }
     ],
     "prompt_number": 103
    },
    {
     "cell_type": "markdown",
     "metadata": {},
     "source": [
      "<div class=\"alert alert-info\">\n",
      "**HINT** Recuerda las leyes de los exponentes\n",
      "</div>"
     ]
    },
    {
     "cell_type": "heading",
     "level": 2,
     "metadata": {},
     "source": [
      "Problema 10"
     ]
    },
    {
     "cell_type": "markdown",
     "metadata": {},
     "source": [
      "- \u00bfQu\u00e9 pasa si usas 16 bits, 32 bits o 64 bits?\n",
      "- Implementa el **problema 8** usando el otro lenguaje que no usaste \u00bfEl resultado es diferente? "
     ]
    }
   ],
   "metadata": {}
  }
 ]
}