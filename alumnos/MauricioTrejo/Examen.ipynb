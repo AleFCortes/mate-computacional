{
 "metadata": {
  "name": "",
  "signature": "sha256:64719befde3adc65a923b443be7b21217290f3acb3c609f3cd7794e750096db1"
 },
 "nbformat": 3,
 "nbformat_minor": 0,
 "worksheets": [
  {
   "cells": [
    {
     "cell_type": "markdown",
     "metadata": {},
     "source": [
      "Problema 7"
     ]
    },
    {
     "cell_type": "code",
     "collapsed": false,
     "input": [
      "x = single(77777.0)\n",
      "y = single(7.0)\n",
      "inv_y = 1.0 / y\n",
      "\n",
      "z = x / y\n",
      "z1 = x * inv_y\n",
      "\n",
      "if (z != z1)\n",
      "  sprintf(\"%1.3f != %1.3f\", z, z1)\n",
      "  sprintf(\"%1.30f != %1.30f\", z, z1)\n",
      "else\n",
      "  sprintf(\"%1.3f == %1.3f\", z, z1)\n",
      "  sprintf(\"%1.30f == %1.30f\", z, z1)\n",
      "endif"
     ],
     "language": "python",
     "metadata": {},
     "outputs": [
      {
       "ename": "SyntaxError",
       "evalue": "invalid syntax (<ipython-input-20-14dbd1e1a55b>, line 8)",
       "output_type": "pyerr",
       "traceback": [
        "\u001b[1;36m  File \u001b[1;32m\"<ipython-input-20-14dbd1e1a55b>\"\u001b[1;36m, line \u001b[1;32m8\u001b[0m\n\u001b[1;33m    if (z != z1)\u001b[0m\n\u001b[1;37m                ^\u001b[0m\n\u001b[1;31mSyntaxError\u001b[0m\u001b[1;31m:\u001b[0m invalid syntax\n"
       ]
      }
     ],
     "prompt_number": 20
    },
    {
     "cell_type": "markdown",
     "metadata": {},
     "source": [
      "El codigo verifica que si z es distinto a z1 entonces imprime z y z1 con 3 decimales, despues los imprime con 30 decimales,\n",
      "si son iguales los imprime a 3 decimales y luego a 30 decimales. En este caso vemos que no son iguales y que tanto z como z1 es SP."
     ]
    },
    {
     "cell_type": "code",
     "collapsed": false,
     "input": [
      "x = 77777.0\n",
      "y = 7.0\n",
      "inv_y = 1.0 / y\n",
      "\n",
      "z = x / y\n",
      "z1 = x * inv_y\n",
      "\n",
      "if (z != z1)\n",
      "  sprintf(\"%1.3f != %1.3f\", z, z1)\n",
      "  sprintf(\"%1.30f != %1.30f\", z, z1)\n",
      "else\n",
      "  sprintf(\"%1.3f == %1.3f\", z, z1)\n",
      "  sprintf(\"%1.30f == %1.30f\", z, z1)\n",
      "endif"
     ],
     "language": "python",
     "metadata": {},
     "outputs": []
    },
    {
     "cell_type": "markdown",
     "metadata": {},
     "source": [
      "En este programa tanto z como z1 son DP lo que le da a la computadora m\u00e1s decimales\n",
      "con los cuales trabajar y acercarse a el resultado correcto."
     ]
    },
    {
     "cell_type": "code",
     "collapsed": false,
     "input": [
      "import numpy as np"
     ],
     "language": "python",
     "metadata": {},
     "outputs": []
    },
    {
     "cell_type": "code",
     "collapsed": false,
     "input": [
      "from sympy.interactive import printing\n",
      "printing.init_printing(use_latex=True)"
     ],
     "language": "python",
     "metadata": {},
     "outputs": [],
     "prompt_number": 5
    },
    {
     "cell_type": "code",
     "collapsed": false,
     "input": [
      "%%latex\n",
      "$$sn^2 = \\frac{1}{n - 1} \\sum^n_{i = 1} (x_i - \\bar{x})^2$$"
     ],
     "language": "python",
     "metadata": {},
     "outputs": [
      {
       "latex": [
        "$$sn^2 = \\frac{1}{n - 1} \\sum^n_{i = 1} (x_i - \\bar{x})^2$$"
       ],
       "metadata": {},
       "output_type": "display_data",
       "text": [
        "<IPython.core.display.Latex at 0x7fabe3ee9650>"
       ]
      }
     ],
     "prompt_number": 16
    },
    {
     "cell_type": "code",
     "collapsed": false,
     "input": [
      "%%latex\n",
      "$$\\bar{x} = \\frac{1}{n} \\sum^n_{i = 1} x_i$$"
     ],
     "language": "python",
     "metadata": {},
     "outputs": [
      {
       "latex": [
        "$$\\bar{x} = \\frac{1}{n} \\sum^n_{i = 1} x_i$$"
       ],
       "metadata": {},
       "output_type": "display_data",
       "text": [
        "<IPython.core.display.Latex at 0x7fabe3ee9410>"
       ]
      }
     ],
     "prompt_number": 13
    },
    {
     "cell_type": "code",
     "collapsed": false,
     "input": [],
     "language": "python",
     "metadata": {},
     "outputs": [],
     "prompt_number": 13
    },
    {
     "cell_type": "code",
     "collapsed": false,
     "input": [],
     "language": "python",
     "metadata": {},
     "outputs": [],
     "prompt_number": 13
    },
    {
     "cell_type": "code",
     "collapsed": false,
     "input": [
      "%%latex\n",
      "$$\n",
      "s_n^2 = \\frac{1}{n-1} \\left( \\sum^n_{i=1} x_i^2 -  \\frac{1}{n}\\left(\\sum^n_{i=1} x_i\\right)^2\\right)\n",
      "$$"
     ],
     "language": "python",
     "metadata": {},
     "outputs": [
      {
       "latex": [
        "$$\n",
        "s_n^2 = \\frac{1}{n-1} \\left( \\sum^n_{i=1} x_i^2 -  \\frac{1}{n}\\left(\\sum^n_{i=1} x_i\\right)^2\\right)\n",
        "$$"
       ],
       "metadata": {},
       "output_type": "display_data",
       "text": [
        "<IPython.core.display.Latex at 0x7fabe3ee9510>"
       ]
      }
     ],
     "prompt_number": 14
    },
    {
     "cell_type": "code",
     "collapsed": false,
     "input": [],
     "language": "python",
     "metadata": {},
     "outputs": []
    }
   ],
   "metadata": {}
  }
 ]
}