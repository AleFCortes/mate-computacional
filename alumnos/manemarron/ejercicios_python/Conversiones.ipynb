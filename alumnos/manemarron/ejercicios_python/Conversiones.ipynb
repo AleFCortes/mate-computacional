{
 "metadata": {
  "name": "",
  "signature": "sha256:ff3d6f08479c648808d78e24e4c43f5246d6ce1a97dc142f806f127993e94f6e"
 },
 "nbformat": 3,
 "nbformat_minor": 0,
 "worksheets": [
  {
   "cells": [
    {
     "cell_type": "heading",
     "level": 1,
     "metadata": {},
     "source": [
      "Conversiones entre decimal y binario"
     ]
    },
    {
     "cell_type": "heading",
     "level": 6,
     "metadata": {},
     "source": [
      "[Jos\u00e9 Manuel Marr\u00f3n Ruiz]"
     ]
    },
    {
     "cell_type": "code",
     "collapsed": false,
     "input": [
      "%load conversiones.py"
     ],
     "language": "python",
     "metadata": {},
     "outputs": [],
     "prompt_number": 33
    },
    {
     "cell_type": "code",
     "collapsed": false,
     "input": [
      "def decimalToBinTwosComplement(n,k):\n",
      "    \"\"\"\n",
      "    Funcion que transforma de decimal n a binario de k bits en complemento a 2\n",
      "    \"\"\"\n",
      "    try:\n",
      "        assert -2**(k-1)<=n<2**(k-1)\n",
      "        if n<0:\n",
      "            n+=2**k\n",
      "        binary=\"\"\n",
      "        while len(binary)<8:\n",
      "            binary=\"%s%s\"%(n%2,binary)\n",
      "            n/=2\n",
      "        return binary\n",
      "    except(AssertionError):\n",
      "        return \"Overflow\"\n",
      "\n",
      "def binTwosComplementToDecimal(binary):\n",
      "    \"\"\"\n",
      "    Funcion que transforma un numero binario en complemento a 2 a decimal\n",
      "    \"\"\"\n",
      "    try:\n",
      "        dec=0\n",
      "        for i in range(0,len(binary)):\n",
      "            c = int(binary[i])\n",
      "            if c!=0 and c!=1: raise Exception(\"No es binario\")\n",
      "            if i==0:\n",
      "                c=-c\n",
      "            dec+=c*2**(len(binary)-i-1)\n",
      "        return dec\n",
      "    except Exception as e:\n",
      "        print e"
     ],
     "language": "python",
     "metadata": {},
     "outputs": [],
     "prompt_number": 34
    },
    {
     "cell_type": "code",
     "collapsed": false,
     "input": [
      "binTwosComplementToDecimal('011111')"
     ],
     "language": "python",
     "metadata": {},
     "outputs": [
      {
       "metadata": {},
       "output_type": "pyout",
       "prompt_number": 38,
       "text": [
        "31"
       ]
      }
     ],
     "prompt_number": 38
    },
    {
     "cell_type": "code",
     "collapsed": false,
     "input": [],
     "language": "python",
     "metadata": {},
     "outputs": []
    }
   ],
   "metadata": {}
  }
 ]
}