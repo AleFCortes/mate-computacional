{
 "metadata": {
  "name": "",
  "signature": "sha256:094f85b5f6fedd84dbf8cd82fd04ad4c52c5e5b9145f277062b16df32bb91f4c"
 },
 "nbformat": 3,
 "nbformat_minor": 0,
 "worksheets": [
  {
   "cells": [
    {
     "cell_type": "heading",
     "level": 1,
     "metadata": {},
     "source": [
      "Raices"
     ]
    },
    {
     "cell_type": "code",
     "collapsed": false,
     "input": [
      "%matplotlib inline\n",
      "import sympy as sym\n",
      "import numpy as np\n",
      "import matplotlib.pyplot as plt"
     ],
     "language": "python",
     "metadata": {},
     "outputs": [],
     "prompt_number": 14
    },
    {
     "cell_type": "heading",
     "level": 3,
     "metadata": {},
     "source": [
      "M\u00e9todo de Newton"
     ]
    },
    {
     "cell_type": "code",
     "collapsed": false,
     "input": [
      "def newton_lambda(f,x0,tolerance,stop=50):\n",
      "    df = lambda x: (f(x + 0.001)-f(x)) / 0.001\n",
      "    \n",
      "    k=0\n",
      "    diff=1\n",
      "    while diff >= tolerance and k < stop:\n",
      "        k = k+1\n",
      "        x1 = x0 - (f(x0)/df(x0))\n",
      "        diff = abs(x1-x0)\n",
      "        x0 = x1\n",
      "    return x0 if k<stop else None"
     ],
     "language": "python",
     "metadata": {},
     "outputs": [],
     "prompt_number": 100
    },
    {
     "cell_type": "code",
     "collapsed": false,
     "input": [
      "t = np.linspace(-1, 1, 1000, endpoint=True)\n",
      "f1 = np.exp(-t)-t\n",
      "plt.xticks(np.arange(-1,1,0.2))\n",
      "plt.grid()\n",
      "plt.plot(t,f1)"
     ],
     "language": "python",
     "metadata": {},
     "outputs": [
      {
       "metadata": {},
       "output_type": "pyout",
       "prompt_number": 39,
       "text": [
        "[<matplotlib.lines.Line2D at 0x7fdbda950410>]"
       ]
      },
      {
       "metadata": {},
       "output_type": "display_data",
       "png": "[encoded data removed]",
       "text": [
        "<matplotlib.figure.Figure at 0x7fdbdae4acd0>"
       ]
      }
     ],
     "prompt_number": 39
    },
    {
     "cell_type": "code",
     "collapsed": false,
     "input": [
      "t2=np.linspace(-10, 10, 1000, endpoint=True)\n",
      "f2=(t2**10) - 1\n",
      "plt.grid()\n",
      "plt.plot(t2,f2)"
     ],
     "language": "python",
     "metadata": {},
     "outputs": [
      {
       "metadata": {},
       "output_type": "pyout",
       "prompt_number": 84,
       "text": [
        "[<matplotlib.lines.Line2D at 0x7fdbdac7ae10>]"
       ]
      },
      {
       "metadata": {},
       "output_type": "display_data",
       "png": "[encoded data removed]",
       "text": [
        "<matplotlib.figure.Figure at 0x7fdbdac7ae90>"
       ]
      }
     ],
     "prompt_number": 84
    },
    {
     "cell_type": "code",
     "collapsed": false,
     "input": [
      "import math"
     ],
     "language": "python",
     "metadata": {},
     "outputs": [],
     "prompt_number": 51
    },
    {
     "cell_type": "code",
     "collapsed": false,
     "input": [
      "f1 = lambda t: math.exp(-t) - t\n",
      "x0 = 0\n",
      "j=1\n",
      "while newton_lambda(f1,x0,10**-10,j) is None:\n",
      "    j+=1\n",
      "print j"
     ],
     "language": "python",
     "metadata": {},
     "outputs": [
      {
       "output_type": "stream",
       "stream": "stdout",
       "text": [
        "6\n"
       ]
      }
     ],
     "prompt_number": 116
    },
    {
     "cell_type": "code",
     "collapsed": false,
     "input": [
      "f2= lambda t: t**10 - 1\n",
      "x0 = 0.5\n",
      "i=1\n",
      "while newton_lambda(f2,x0,10**-10,i) is None:\n",
      "    i+=1\n",
      "print i"
     ],
     "language": "python",
     "metadata": {},
     "outputs": [
      {
       "output_type": "stream",
       "stream": "stdout",
       "text": [
        "46\n"
       ]
      }
     ],
     "prompt_number": 115
    },
    {
     "cell_type": "code",
     "collapsed": false,
     "input": [
      "def find_brackets(f,a,b,n):\n",
      "    length = (b-a)/float(n)\n",
      "    result = []\n",
      "    while a + length <= b:\n",
      "        if(f(a)*f(a+length)<0):\n",
      "            result.append((a,a+length))\n",
      "        a = a+length\n",
      "    return result"
     ],
     "language": "python",
     "metadata": {},
     "outputs": [],
     "prompt_number": 131
    },
    {
     "cell_type": "code",
     "collapsed": false,
     "input": [
      "f = lambda x: np.sin(10*x) + np.cos(3*x)\n",
      "j=0\n",
      "i=1\n",
      "while j<9:\n",
      "    bracks = find_brackets(f,3,6,i)\n",
      "    j=len(bracks)"
     ],
     "language": "python",
     "metadata": {},
     "outputs": [
      {
       "metadata": {},
       "output_type": "pyout",
       "prompt_number": 140,
       "text": [
        "[(3.262200000000165, 3.2625000000001654),\n",
        " (3.3657000000002304, 3.3660000000002306),\n",
        " (3.7455000000004697, 3.74580000000047),\n",
        " (4.228800000000774, 4.229100000000774),\n",
        " (4.263300000000796, 4.263600000000796),\n",
        " (4.712100000001079, 4.712400000001079),\n",
        " (5.160900000001361, 5.161200000001362),\n",
        " (5.195700000001383, 5.1960000000013835),\n",
        " (5.679000000001688, 5.679300000001688)]"
       ]
      }
     ],
     "prompt_number": 140
    },
    {
     "cell_type": "code",
     "collapsed": false,
     "input": [
      "def biseccion(func, a, b, tolerancia, stop):\n",
      "    k = 0\n",
      "    \n",
      "    x = (a + b)/2\n",
      "    \n",
      "    I = (b - a)/2\n",
      "    \n",
      "    assert func(a)*func(b) < 0, \"El signo de la funci\u00f3n en los extremos deber\u00eda de ser diferente\"\n",
      "    assert func(a) != 0, \"La ra\u00edz es %.5f\" % a\n",
      "    assert func(b) != 0, \"La ra\u00edz es %.5f\" % b\n",
      "    \n",
      "    while I >= tolerancia and k <= stop:\n",
      "        k = k + 1\n",
      "        \n",
      "        f_x = func(x)\n",
      "        f_a = func(a)\n",
      "        f_b = func(b)        \n",
      "        \n",
      "        \n",
      "        if(f_a*f_x < 0):\n",
      "            a, b = a, x\n",
      "        elif(f_x*f_b < 0):\n",
      "            a, b = x, b\n",
      "        \n",
      "        x = (a+b)/2\n",
      "        \n",
      "        I = (b - a)/2\n",
      "        \n",
      "    return x if k<=stop else None"
     ],
     "language": "python",
     "metadata": {},
     "outputs": [],
     "prompt_number": 144
    },
    {
     "cell_type": "code",
     "collapsed": false,
     "input": [
      "for interval in find_brackets(f,3,6,10000):\n",
      "    print biseccion(f,interval[0],interval[1],10**-10,1000)"
     ],
     "language": "python",
     "metadata": {},
     "outputs": [
      {
       "output_type": "stream",
       "stream": "stdout",
       "text": [
        "3.26242314026\n",
        "3.36599212883\n",
        "3.74574508703\n",
        "4.22906703365\n",
        "4.26359002984\n",
        "4.71238898041\n",
        "5.16118793085\n",
        "5.19571092703\n",
        "5.6790328738\n"
       ]
      }
     ],
     "prompt_number": 146
    },
    {
     "cell_type": "code",
     "collapsed": false,
     "input": [],
     "language": "python",
     "metadata": {},
     "outputs": []
    }
   ],
   "metadata": {}
  }
 ]
}