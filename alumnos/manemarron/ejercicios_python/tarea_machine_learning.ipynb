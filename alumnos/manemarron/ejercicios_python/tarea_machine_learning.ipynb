{
 "metadata": {
  "name": "",
  "signature": "sha256:a61d79ab25c159abe3f3f5dfb3fc70145ae9280a7c9cc142ecf2f087bcb45312"
 },
 "nbformat": 3,
 "nbformat_minor": 0,
 "worksheets": [
  {
   "cells": [
    {
     "cell_type": "heading",
     "level": 1,
     "metadata": {},
     "source": [
      "Tarea de Machine Learning"
     ]
    },
    {
     "cell_type": "code",
     "collapsed": false,
     "input": [
      "%matplotlib inline\n",
      "#Numpy, Sympy, Matplotlib\n",
      "import numpy as np\n",
      "import sympy as sym\n",
      "import matplotlib.pyplot as plt"
     ],
     "language": "python",
     "metadata": {},
     "outputs": [],
     "prompt_number": 18
    },
    {
     "cell_type": "code",
     "collapsed": false,
     "input": [
      "#Archivos m\u00edos\n",
      "from python_modules.utils import read_data\n",
      "from python_modules.regresion_lineal import RegresionLineal"
     ],
     "language": "python",
     "metadata": {},
     "outputs": [],
     "prompt_number": 19
    },
    {
     "cell_type": "code",
     "collapsed": false,
     "input": [
      "#Interactive\n",
      "from IPython.html.widgets import interact, fixed\n",
      "from IPython.html import widgets"
     ],
     "language": "python",
     "metadata": {},
     "outputs": [],
     "prompt_number": 20
    },
    {
     "cell_type": "heading",
     "level": 2,
     "metadata": {},
     "source": [
      "Pregunta 1"
     ]
    },
    {
     "cell_type": "markdown",
     "metadata": {},
     "source": [
      "**(a)** Usando **SimPy** demostrar que \n",
      "\n",
      "$$\n",
      "\\frac{\\partial}{\\partial \\beta_j} \\textbf{J}(\\beta) = \\frac{1}{m}\\sum_{i=1}^{m}\\left(\\hat{y}(x^{(i)}) - y(x^{(i)})\\right) \\cdot x^{(i)}_j\n",
      "$$"
     ]
    },
    {
     "cell_type": "heading",
     "level": 2,
     "metadata": {},
     "source": [
      "Pregunta 2"
     ]
    },
    {
     "cell_type": "markdown",
     "metadata": {},
     "source": [
      "Entrenar una regresi\u00f3n lineal. Grafique los datos y el mejor modelo. Explique como lleg\u00f3 a los valores de \u03b1. \u00bfCoinciden con los mostrados en la p\u00e1gina web?"
     ]
    },
    {
     "cell_type": "code",
     "collapsed": false,
     "input": [
      "chirps_data = read_data(\"../../../lecture_5/data/chirps.txt\")"
     ],
     "language": "python",
     "metadata": {},
     "outputs": [],
     "prompt_number": 21
    },
    {
     "cell_type": "markdown",
     "metadata": {},
     "source": [
      "Primero har\u00e9 una gr\u00e1fica de los datos."
     ]
    },
    {
     "cell_type": "code",
     "collapsed": false,
     "input": [
      "plt.scatter(chirps_data[:,1],chirps_data[:,0],label=\"\")\n",
      "plt.ylabel(\"Chirps per second\")\n",
      "plt.xlabel(\"Temperature (F)\")"
     ],
     "language": "python",
     "metadata": {},
     "outputs": [
      {
       "metadata": {},
       "output_type": "pyout",
       "prompt_number": 22,
       "text": [
        "<matplotlib.text.Text at 0x7ff35d1b6050>"
       ]
      },
      {
       "metadata": {},
       "output_type": "display_data",
       "png": "[encoded data removed]",
       "text": [
        "<matplotlib.figure.Figure at 0x7ff35d0c2b90>"
       ]
      }
     ],
     "prompt_number": 22
    },
    {
     "cell_type": "code",
     "collapsed": false,
     "input": [
      "def plotModel(rl,x,y,alpha=0.03):\n",
      "    rl.alpha = alpha\n",
      "    rl.gradientDescent(x,y)\n",
      "    rl.plot(x,y,\"Temperature (F)\",\"Chirps per second\")"
     ],
     "language": "python",
     "metadata": {},
     "outputs": [],
     "prompt_number": 23
    },
    {
     "cell_type": "code",
     "collapsed": false,
     "input": [
      "rl = RegresionLineal(max_iters=2)\n",
      "plotModel(rl,chirps_data[:,1],chirps_data[:,0])\n",
      "#interact(plotModel,rl=fixed(rl),x=fixed(chirps_data[:,0]),y=fixed(chirps_data[:,1]),alpha=[0,1,0.05],iteracion=[1,100,1])"
     ],
     "language": "python",
     "metadata": {},
     "outputs": [
      {
       "metadata": {},
       "output_type": "display_data",
       "png": "[encoded data removed]",
       "text": [
        "<matplotlib.figure.Figure at 0x7ff35d1b63d0>"
       ]
      }
     ],
     "prompt_number": 24
    },
    {
     "cell_type": "heading",
     "level": 2,
     "metadata": {},
     "source": [
      "Pregunta 3"
     ]
    },
    {
     "cell_type": "markdown",
     "metadata": {},
     "source": [
      "**(a)** Usando los datos del [cuarteto de Anscombe](http://en.wikipedia.org/wiki/Anscombe%27s_quartet) Calcule la regresi\u00f3n lineal \u00bfQu\u00e9 sucede?"
     ]
    },
    {
     "cell_type": "heading",
     "level": 2,
     "metadata": {},
     "source": [
      "Problema 4"
     ]
    },
    {
     "cell_type": "code",
     "collapsed": false,
     "input": [
      "decay_data = read_data(\"../../../lecture_5/data/radioactive_decay.txt\")\n",
      "decay_data"
     ],
     "language": "python",
     "metadata": {},
     "outputs": [
      {
       "metadata": {},
       "output_type": "pyout",
       "prompt_number": 29,
       "text": [
        "array([[  0.  ,  10.48],\n",
        "       [  1.  ,   7.54],\n",
        "       [  2.  ,   5.49],\n",
        "       [  3.  ,   4.02],\n",
        "       [  4.  ,   2.74],\n",
        "       [  5.  ,   2.02],\n",
        "       [  6.  ,   1.5 ],\n",
        "       [  7.  ,   1.09],\n",
        "       [  8.  ,   0.68],\n",
        "       [  9.  ,   0.57],\n",
        "       [ 10.  ,   0.37],\n",
        "       [ 11.  ,   0.31],\n",
        "       [ 12.  ,   0.19],\n",
        "       [ 13.  ,   0.15],\n",
        "       [ 14.  ,   0.13],\n",
        "       [ 15.  ,   0.11]])"
       ]
      }
     ],
     "prompt_number": 29
    },
    {
     "cell_type": "markdown",
     "metadata": {},
     "source": [
      "**(a)** Grafique los datos \u00bfQu\u00e9 forma tienen?"
     ]
    },
    {
     "cell_type": "code",
     "collapsed": false,
     "input": [
      "plt.scatter(decay_data[:,0],decay_data[:,1],label=\"data\")\n",
      "plt.xlabel(\"Time (s)\")\n",
      "plt.ylabel(\"Remaining mass\")\n",
      "plt.legend(loc=\"best\")"
     ],
     "language": "python",
     "metadata": {},
     "outputs": [
      {
       "metadata": {},
       "output_type": "pyout",
       "prompt_number": 31,
       "text": [
        "<matplotlib.legend.Legend at 0x7ff35d2df810>"
       ]
      },
      {
       "metadata": {},
       "output_type": "display_data",
       "png": "[encoded data removed]",
       "text": [
        "<matplotlib.figure.Figure at 0x7ff35d2df850>"
       ]
      }
     ],
     "prompt_number": 31
    },
    {
     "cell_type": "markdown",
     "metadata": {},
     "source": [
      "**(b)** \u00bfQu\u00e9 transformaci\u00f3n se le ocurre para linearizarlos? Explique y grafique de nuevo. Guarde los datos transformados en un archivo llamado `transform_radioactive_decay.txt`"
     ]
    },
    {
     "cell_type": "markdown",
     "metadata": {},
     "source": [
      "**(c)** Aplique la regresi\u00f3n lineal a este conjunto de datos transformado, leyendo los datos del archivo reci\u00e9n creado."
     ]
    },
    {
     "cell_type": "markdown",
     "metadata": {},
     "source": [
      "**(d)** \u00bfCu\u00e1les son los valores de $\\beta$ que mejor ajustan? \u00bfCu\u00e1les son el espacio sin transformar? Explique."
     ]
    }
   ],
   "metadata": {}
  }
 ]
}