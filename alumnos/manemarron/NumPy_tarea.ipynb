{
 "metadata": {
  "name": "",
  "signature": "sha256:a477f52b2ef45458ee8d08cbe6001f1206b1e9154c71f4da6cdd99c35801df78"
 },
 "nbformat": 3,
 "nbformat_minor": 0,
 "worksheets": [
  {
   "cells": [
    {
     "cell_type": "heading",
     "level": 1,
     "metadata": {},
     "source": [
      "Ejercicios de NumPy"
     ]
    },
    {
     "cell_type": "code",
     "collapsed": false,
     "input": [
      "%matplotlib inline\n",
      "import numpy as np\n",
      "import matplotlib as plt\n",
      "from decimal import Decimal"
     ],
     "language": "python",
     "metadata": {},
     "outputs": [],
     "prompt_number": 9
    },
    {
     "cell_type": "heading",
     "level": 2,
     "metadata": {},
     "source": [
      "Pregunta 1"
     ]
    },
    {
     "cell_type": "markdown",
     "metadata": {},
     "source": [
      "Crea los siguientes arreglos con los tipos correctos.\n",
      "- Un arreglo de $5 \\times 5$ cuya diagonal sean $[2.0, 3.0, 4.0, 5.0]$\n",
      "- Un arreglo de $4 \\times 4$ cuyo \u00faltimo rengl\u00f3n sea $[1,2,3,4]$ y el resto sean $0$."
     ]
    },
    {
     "cell_type": "code",
     "collapsed": false,
     "input": [
      "s=[]\n",
      "for i in xrange(1,6):\n",
      "    s.extend([i]*5)\n",
      "a=np.array(s,np.float128).reshape((5,5))\n",
      "print a\n",
      "print \"Diagonal: \"+str(a.diagonal())"
     ],
     "language": "python",
     "metadata": {},
     "outputs": [
      {
       "output_type": "stream",
       "stream": "stdout",
       "text": [
        "[[ 1.0  1.0  1.0  1.0  1.0]\n",
        " [ 2.0  2.0  2.0  2.0  2.0]\n",
        " [ 3.0  3.0  3.0  3.0  3.0]\n",
        " [ 4.0  4.0  4.0  4.0  4.0]\n",
        " [ 5.0  5.0  5.0  5.0  5.0]]\n",
        "Diagonal: [ 1.0  2.0  3.0  4.0  5.0]\n"
       ]
      }
     ],
     "prompt_number": 68
    },
    {
     "cell_type": "code",
     "collapsed": false,
     "input": [
      "b=np.zeros((3,4),int)\n",
      "b[-1:] = [1,2,3,4]\n",
      "print b"
     ],
     "language": "python",
     "metadata": {},
     "outputs": [
      {
       "output_type": "stream",
       "stream": "stdout",
       "text": [
        "[[0 0 0 0]\n",
        " [0 0 0 0]\n",
        " [1 2 3 4]]\n"
       ]
      }
     ],
     "prompt_number": 70
    },
    {
     "cell_type": "heading",
     "level": 2,
     "metadata": {},
     "source": [
      "Pregunta 2"
     ]
    },
    {
     "cell_type": "markdown",
     "metadata": {},
     "source": [
      "En este ejercicio realizaremos una criba de Erat\u00f3stenes"
     ]
    },
    {
     "cell_type": "code",
     "collapsed": false,
     "input": [
      "#se inicializa un arreglo booleano con 100 Trues y se tachan el 0 y el 1\n",
      "bool_arr = np.ones((100,), dtype=bool)\n",
      "bool_arr[0]=False\n",
      "bool_arr[1]=False\n",
      "\n",
      "# Dado que la raiz cuadrada del \u00faltimo n\u00famero podr\u00eda ser el m\u00e1ximo divisor primo diferente de 1 y el \u00faltimo n\u00famero,\n",
      "# es el \u00faltimo n\u00famero que se eval\u00faa, ya que todos los n\u00fameros no primos son abarcados como m\u00faltiplos de los primeros raiz(n)\n",
      "N_max = int(np.sqrt(len(bool_arr)))\n",
      "for j in range(2, N_max):\n",
      "    # El slicing toma todos los elementos desde 2j hasta el final del arreglo \n",
      "    # en saltos de tama\u00f1o j y los establece como False. Es decir, todos los m\u00faltiplos de j\n",
      "    # a partir de 2j ya no pueden ser primos\n",
      "    bool_arr[2*j::j] = False\n",
      "print bool_arr"
     ],
     "language": "python",
     "metadata": {},
     "outputs": [
      {
       "output_type": "stream",
       "stream": "stdout",
       "text": [
        "[False False  True  True False  True False  True False False False  True\n",
        " False  True False False False  True False  True False False False  True\n",
        " False False False False False  True False  True False False False False\n",
        " False  True False False False  True False  True False False False  True\n",
        " False False False False False  True False False False False False  True\n",
        " False  True False False False False False  True False False False  True\n",
        " False  True False False False False False  True False False False  True\n",
        " False False False False False  True False False False False False False\n",
        " False  True False False]\n"
       ]
      }
     ],
     "prompt_number": 77
    },
    {
     "cell_type": "code",
     "collapsed": false,
     "input": [
      "np.nonzero(bool_arr)"
     ],
     "language": "python",
     "metadata": {},
     "outputs": [
      {
       "metadata": {},
       "output_type": "pyout",
       "prompt_number": 78,
       "text": [
        "(array([ 2,  3,  5,  7, 11, 13, 17, 19, 23, 29, 31, 37, 41, 43, 47, 53, 59,\n",
        "        61, 67, 71, 73, 79, 83, 89, 97]),)"
       ]
      }
     ],
     "prompt_number": 78
    },
    {
     "cell_type": "code",
     "collapsed": false,
     "input": [
      "def criba_eratostenes(n):\n",
      "    bool_array=np.ones((n,),dtype=bool)\n",
      "    if n>0: bool_array[0]=False\n",
      "    if n>1: bool_array[1]=False\n",
      "    N_Max=int(np.sqrt(len(bool_array)))\n",
      "    for j in range(2,N_max):\n",
      "        bool_array[2*j::j]=False\n",
      "    return np.nonzero(bool_array)"
     ],
     "language": "python",
     "metadata": {},
     "outputs": [],
     "prompt_number": 81
    },
    {
     "cell_type": "code",
     "collapsed": false,
     "input": [
      "for max in [10,100,200]:\n",
      "    print criba_eratostenes(max)"
     ],
     "language": "python",
     "metadata": {},
     "outputs": [
      {
       "output_type": "stream",
       "stream": "stdout",
       "text": [
        "(array([2, 3, 5, 7]),)\n",
        "(array([ 2,  3,  5,  7, 11, 13, 17, 19, 23, 29, 31, 37, 41, 43, 47, 53, 59,\n",
        "       61, 67, 71, 73, 79, 83, 89, 97]),)\n",
        "(array([  2,   3,   5,   7,  11,  13,  17,  19,  23,  29,  31,  37,  41,\n",
        "        43,  47,  53,  59,  61,  67,  71,  73,  79,  83,  89,  97, 101,\n",
        "       103, 107, 109, 113, 121, 127, 131, 137, 139, 143, 149, 151, 157,\n",
        "       163, 167, 169, 173, 179, 181, 187, 191, 193, 197, 199]),)\n"
       ]
      }
     ],
     "prompt_number": 82
    },
    {
     "cell_type": "heading",
     "level": 2,
     "metadata": {},
     "source": [
      "Pregunta 3"
     ]
    },
    {
     "cell_type": "markdown",
     "metadata": {},
     "source": [
      "Crea un cubo rubik, partiendo de un arreglo de ceros y usando slicing dibuja cada una de las caras como si estuviera resuelto (cada colo un entero a partir del 1). Muestra con indexing que est\u00e1 resuelto (es decir, imprime las seis caras). \u00bfCu\u00e1ntos elementos del arreglo quedaron en 0?"
     ]
    },
    {
     "cell_type": "code",
     "collapsed": false,
     "input": [
      "rubiks = np.zeros((6,3,3),int)\n",
      "for i in xrange(1,7):\n",
      "    rubiks[i-1:i,:,:]=i\n",
      "    print rubiks[i-1]"
     ],
     "language": "python",
     "metadata": {},
     "outputs": [
      {
       "output_type": "stream",
       "stream": "stdout",
       "text": [
        "[[1 1 1]\n",
        " [1 1 1]\n",
        " [1 1 1]]\n",
        "[[2 2 2]\n",
        " [2 2 2]\n",
        " [2 2 2]]\n",
        "[[3 3 3]\n",
        " [3 3 3]\n",
        " [3 3 3]]\n",
        "[[4 4 4]\n",
        " [4 4 4]\n",
        " [4 4 4]]\n",
        "[[5 5 5]\n",
        " [5 5 5]\n",
        " [5 5 5]]\n",
        "[[6 6 6]\n",
        " [6 6 6]\n",
        " [6 6 6]]\n"
       ]
      }
     ],
     "prompt_number": 98
    },
    {
     "cell_type": "markdown",
     "metadata": {},
     "source": [
      "No qued\u00f3 ning\u00fan elemento en 0."
     ]
    },
    {
     "cell_type": "heading",
     "level": 2,
     "metadata": {},
     "source": [
      "Pregunta 4"
     ]
    },
    {
     "cell_type": "markdown",
     "metadata": {},
     "source": [
      "El **Sudoku** es un pasatiempo que consiste en un arreglo  $9 \\times 9$ de celdas, con d\u00edgitos del 1 al 9, de tal manera que no se repiten valores en cada columna, cada rengl\u00f3n y en cada subarreglo de $3\\times 3$."
     ]
    },
    {
     "cell_type": "markdown",
     "metadata": {},
     "source": [
      "(a) Crea una funci\u00f3n llamada `correcto` que reciba un `array` $1d$ de tama\u00f1o 9 e indique si est\u00e1 completo o no (i.e. incluye los n\u00fameros del 1 al 9."
     ]
    },
    {
     "cell_type": "code",
     "collapsed": false,
     "input": [
      "def correcto(arr):\n",
      "    \"\"\"\n",
      "    Verifica que un arreglo contenga del 1 al 9 sin repetir\n",
      "    \"\"\"\n",
      "    return np.array_equal(np.arange(1,10),np.sort(arr))"
     ],
     "language": "python",
     "metadata": {},
     "outputs": [],
     "prompt_number": 222
    },
    {
     "cell_type": "code",
     "collapsed": false,
     "input": [
      "# Prueba de que la funci\u00f3n da el resultado esperado\n",
      "a=[9,8,5,7,4,6,1,2,3]\n",
      "print str(a)+\": \"+str(correcto(np.array(a)))\n",
      "a=[1,2,2,3,4,5,6,7,8]\n",
      "print str(a)+\": \"+str(correcto(np.array(a)))"
     ],
     "language": "python",
     "metadata": {},
     "outputs": [
      {
       "output_type": "stream",
       "stream": "stdout",
       "text": [
        "[9, 8, 5, 7, 4, 6, 1, 2, 3]: True\n",
        "[1, 2, 2, 3, 4, 5, 6, 7, 8]: False\n"
       ]
      }
     ],
     "prompt_number": 227
    },
    {
     "cell_type": "markdown",
     "metadata": {},
     "source": [
      "(b) Crea una funci\u00f3n llamada `descomponer3x3` que reciba un `array` de enteros de $9\\times 9$ y lo separe en sus 9 subarreglos $3\\times3$."
     ]
    },
    {
     "cell_type": "code",
     "collapsed": false,
     "input": [
      "def descomponer3x3(arr):\n",
      "    \"\"\"\n",
      "    Funci\u00f3n que descompone un arreglo de 9x9 en subarreglos de 3x3 de izquierda a derecha y de arriba a abajo\n",
      "    \"\"\"\n",
      "    desc = []\n",
      "    for i in xrange(3):\n",
      "        for j in xrange(3):\n",
      "            desc.append(arr[3*i:3*(i+1),3*j:3*(j+1)])\n",
      "    return np.array(desc)\n",
      "\n",
      "def filas9x9(arr):\n",
      "    \"\"\"\n",
      "    Funci\u00f3n que obtiene las 9 filas de un arreglo de 9x9\n",
      "    \"\"\"\n",
      "    desc = []\n",
      "    for i in xrange(9):\n",
      "        desc.append(arr[i:i+1,:].reshape((9,)))\n",
      "    return np.array(desc)\n",
      "\n",
      "def columnas9x9(arr):\n",
      "    \"\"\"\n",
      "    Funci\u00f3n que obtiene las 9 columnas de un arreglo de 9x9\n",
      "    \"\"\"\n",
      "    desc = []\n",
      "    for i in xrange(9):\n",
      "        desc.append(arr[:,i:i+1].reshape((9,)))\n",
      "    return np.array(desc)"
     ],
     "language": "python",
     "metadata": {},
     "outputs": [],
     "prompt_number": 246
    },
    {
     "cell_type": "code",
     "collapsed": false,
     "input": [
      "print descomponer3x3(np.arange(81).reshape((9,9,)))\n",
      "print filas9x9(np.arange(81).reshape((9,9,)))\n",
      "print columnas9x9(np.arange(81).reshape((9,9,)))"
     ],
     "language": "python",
     "metadata": {},
     "outputs": [
      {
       "output_type": "stream",
       "stream": "stdout",
       "text": [
        "[[[ 0  1  2]\n",
        "  [ 9 10 11]\n",
        "  [18 19 20]]\n",
        "\n",
        " [[ 3  4  5]\n",
        "  [12 13 14]\n",
        "  [21 22 23]]\n",
        "\n",
        " [[ 6  7  8]\n",
        "  [15 16 17]\n",
        "  [24 25 26]]\n",
        "\n",
        " [[27 28 29]\n",
        "  [36 37 38]\n",
        "  [45 46 47]]\n",
        "\n",
        " [[30 31 32]\n",
        "  [39 40 41]\n",
        "  [48 49 50]]\n",
        "\n",
        " [[33 34 35]\n",
        "  [42 43 44]\n",
        "  [51 52 53]]\n",
        "\n",
        " [[54 55 56]\n",
        "  [63 64 65]\n",
        "  [72 73 74]]\n",
        "\n",
        " [[57 58 59]\n",
        "  [66 67 68]\n",
        "  [75 76 77]]\n",
        "\n",
        " [[60 61 62]\n",
        "  [69 70 71]\n",
        "  [78 79 80]]]\n",
        "[[ 0  1  2  3  4  5  6  7  8]\n",
        " [ 9 10 11 12 13 14 15 16 17]\n",
        " [18 19 20 21 22 23 24 25 26]\n",
        " [27 28 29 30 31 32 33 34 35]\n",
        " [36 37 38 39 40 41 42 43 44]\n",
        " [45 46 47 48 49 50 51 52 53]\n",
        " [54 55 56 57 58 59 60 61 62]\n",
        " [63 64 65 66 67 68 69 70 71]\n",
        " [72 73 74 75 76 77 78 79 80]]\n",
        "[[ 0  9 18 27 36 45 54 63 72]\n",
        " [ 1 10 19 28 37 46 55 64 73]\n",
        " [ 2 11 20 29 38 47 56 65 74]\n",
        " [ 3 12 21 30 39 48 57 66 75]\n",
        " [ 4 13 22 31 40 49 58 67 76]\n",
        " [ 5 14 23 32 41 50 59 68 77]\n",
        " [ 6 15 24 33 42 51 60 69 78]\n",
        " [ 7 16 25 34 43 52 61 70 79]\n",
        " [ 8 17 26 35 44 53 62 71 80]]\n"
       ]
      }
     ],
     "prompt_number": 247
    },
    {
     "cell_type": "markdown",
     "metadata": {},
     "source": [
      "(c) Crea la funci\u00f3n `esSolucion` que recibe un `array` de $9\\times 9$ y devuelve si es o no soluci\u00f3n del sudoku"
     ]
    },
    {
     "cell_type": "code",
     "collapsed": false,
     "input": [
      "def esSolucion(arr):\n",
      "    \"\"\"\n",
      "    Funci\u00f3n que determina si un arreglo de 9x9 es una solucion v\u00e1lida de sudoku\n",
      "    \"\"\"\n",
      "    if(arr.shape==(9,9)):\n",
      "        esSol = True\n",
      "        desc = descomponer3x3(arr)\n",
      "        filas = filas9x9(arr)\n",
      "        columnas = columnas9x9(arr)\n",
      "        for i in xrange(9):\n",
      "            if (not correcto(filas[i]) or\n",
      "                not correcto(columnas[i]) or\n",
      "                not correcto(desc[i].reshape(9,))):\n",
      "                esSol=False\n",
      "                break\n",
      "    else:\n",
      "        esSol=False\n",
      "    return esSol"
     ],
     "language": "python",
     "metadata": {},
     "outputs": [],
     "prompt_number": 251
    },
    {
     "cell_type": "code",
     "collapsed": false,
     "input": [
      "def shift(seq, n):\n",
      "    n = n % len(seq)\n",
      "    return seq[n:] + seq[:n]\n",
      "\n",
      "def testBadSudoku():\n",
      "    sudoku = [1,2,3,4,5,6,7,8,9]\n",
      "    sud = []\n",
      "    for i in xrange(9):\n",
      "        sud.append(shift(sudoku,-3*i))\n",
      "    print np.array(sud)\n",
      "    print esSolucion(np.array(sud))\n",
      "    \n",
      "def testGoodSudoku():\n",
      "    sudoku = [1,2,3,4,5,6,7,8,9]\n",
      "    sud =[]\n",
      "    for i in xrange(3):\n",
      "        sud.append(shift(sudoku,-3*i))\n",
      "    sudoku=shift(sudoku,1)\n",
      "    for i in xrange(3):\n",
      "        sud.append(shift(sudoku,-3*i))\n",
      "    sudoku=shift(sudoku,1)\n",
      "    for i in xrange(3):\n",
      "        sud.append(shift(sudoku,-3*i))\n",
      "    print np.array(sud)\n",
      "    print esSolucion(np.array(sud))"
     ],
     "language": "python",
     "metadata": {},
     "outputs": [],
     "prompt_number": 252
    },
    {
     "cell_type": "code",
     "collapsed": false,
     "input": [
      "testBadSudoku()"
     ],
     "language": "python",
     "metadata": {},
     "outputs": [
      {
       "output_type": "stream",
       "stream": "stdout",
       "text": [
        "[[1 2 3 4 5 6 7 8 9]\n",
        " [7 8 9 1 2 3 4 5 6]\n",
        " [4 5 6 7 8 9 1 2 3]\n",
        " [1 2 3 4 5 6 7 8 9]\n",
        " [7 8 9 1 2 3 4 5 6]\n",
        " [4 5 6 7 8 9 1 2 3]\n",
        " [1 2 3 4 5 6 7 8 9]\n",
        " [7 8 9 1 2 3 4 5 6]\n",
        " [4 5 6 7 8 9 1 2 3]]\n",
        "False\n"
       ]
      }
     ],
     "prompt_number": 253
    },
    {
     "cell_type": "code",
     "collapsed": false,
     "input": [
      "testGoodSudoku()"
     ],
     "language": "python",
     "metadata": {},
     "outputs": [
      {
       "output_type": "stream",
       "stream": "stdout",
       "text": [
        "[[1 2 3 4 5 6 7 8 9]\n",
        " [7 8 9 1 2 3 4 5 6]\n",
        " [4 5 6 7 8 9 1 2 3]\n",
        " [2 3 4 5 6 7 8 9 1]\n",
        " [8 9 1 2 3 4 5 6 7]\n",
        " [5 6 7 8 9 1 2 3 4]\n",
        " [3 4 5 6 7 8 9 1 2]\n",
        " [9 1 2 3 4 5 6 7 8]\n",
        " [6 7 8 9 1 2 3 4 5]]\n",
        "True\n"
       ]
      }
     ],
     "prompt_number": 254
    }
   ],
   "metadata": {}
  }
 ]
}