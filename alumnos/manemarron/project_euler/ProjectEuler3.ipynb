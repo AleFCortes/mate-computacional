{
 "metadata": {
  "name": "",
  "signature": "sha256:050cb3d4540e005d4e1a6fba50649fe17e1d43b1cc3de79c5b8f1ca912bf6fac"
 },
 "nbformat": 3,
 "nbformat_minor": 0,
 "worksheets": [
  {
   "cells": [
    {
     "cell_type": "heading",
     "level": 1,
     "metadata": {},
     "source": [
      "M\u00e1ximo factor primo"
     ]
    },
    {
     "cell_type": "heading",
     "level": 6,
     "metadata": {},
     "source": [
      "[resuelto por Jos\u00e9 Manuel Marr\u00f3n Ruiz]"
     ]
    },
    {
     "cell_type": "markdown",
     "metadata": {},
     "source": [
      " <i>(Para ver el problema original referirse a <a href=\"https://projecteuler.net/problem=3\">https://projecteuler.net/problem=3</a>)</i>"
     ]
    },
    {
     "cell_type": "markdown",
     "metadata": {},
     "source": [
      "El problema consiste en **encontrar el m\u00e1ximo factor primo de un n\u00famero entero positivo**. En el caso particular de este problema, se pide el c\u00e1lculo para el n\u00famero **600851475143**."
     ]
    },
    {
     "cell_type": "markdown",
     "metadata": {},
     "source": [
      "El caso de prueba que se otorga es para el n\u00famero **13195**, para el cual la descomposici\u00f3n en factores primos es **5, 7, 13 y 29**, por lo que el resultado para este caso ser\u00eda **29**."
     ]
    },
    {
     "cell_type": "markdown",
     "metadata": {},
     "source": [
      "<br/><br/>\n",
      "Antes que nada, implementar\u00e9 una funci\u00f3n que calcule todos los n\u00fameros primos menores al n\u00famero deseado, siguiendo el algoritmo de la criba de Erat\u00f3stenes."
     ]
    },
    {
     "cell_type": "code",
     "collapsed": false,
     "input": [
      "import math"
     ],
     "language": "python",
     "metadata": {},
     "outputs": [],
     "prompt_number": 35
    },
    {
     "cell_type": "code",
     "collapsed": false,
     "input": [
      "def getPrimes(n):\n",
      "    \"\"\"\n",
      "    Funci\u00f3n que devuelve todos primos menores o iguales a n\n",
      "    \"\"\"\n",
      "    if n==1:   \n",
      "        return [1]\n",
      "    elif n<1:\n",
      "        return []\n",
      "    isPrime = [True for i in range(2,n+1)] \n",
      "\n",
      "    for x in range(2,int(math.sqrt(n))+1):\n",
      "        if isPrime[x-2]:\n",
      "            y=x**2\n",
      "            while y < n+1:\n",
      "                isPrime[y-2]=False\n",
      "                y+=x\n",
      "    return [i for i in range(2,n+1) if isPrime[i-2]]"
     ],
     "language": "python",
     "metadata": {},
     "outputs": [],
     "prompt_number": 42
    },
    {
     "cell_type": "markdown",
     "metadata": {},
     "source": [
      "Explicar\u00e9 el c\u00f3digo anterior:\n",
      "<ol>\n",
      "<li>Para empezar, si n es 1, el \u00fanico primo menor o igual a 1 es 1</li>\n",
      "<li>Si n es menor a 1, no hay primos menores o iguales</li>\n",
      "<li>En otro caso:\n",
      "<ul>\n",
      " <li>Se utiliz\u00f3 un arreglo (lista) de valores booleanos que sirven para poder ir marcando cuales no son primos entre 2 y n. \n",
      "   Este arreglo se inicializ\u00f3 todo  en True. El True implica que el valor asociado a esa casilla s\u00ed es primo.</li>\n",
      " <li>Se iter\u00f3 desde el primer primo (2) hasta el mayor entero menor o igual a la raiz de n. Esto es porque ya que llegas a un primo, puedes ir marcando todos los compuestos relacionados con ese primo a partir de su cuadrado.<br/>\n",
      " Por ejemplo:<br/>\n",
      " <ul>\n",
      "   <li>Al ver que el 2 es primo, se van marcando el 4, 6, 8, 10,...</li>\n",
      "   <li>Al ver que el 3 es primo, como el 6 ya se marc\u00f3, se van marcando el 9, 12, 15, 18, ...</li>\n",
      "   <li>Al ver que el 5 es primo, como ya se marcaron el 10, el 15, y el 20, se van marcando el 25, 30, 35, ...</li>\n",
      "   </ul>\n",
      "   Y as\u00ed sucesivamente.</li>\n",
      " <li>Entonces se puede ver que a partir del primer entero mayor a la raiz de n, ya no se puede marcar ning\u00fan n\u00famero, ya que \n",
      "   para todo n\u00famero mayor a raiz de n, su cuadrado es mayor a n, y ya no son de nuestro inter\u00e9s</li>\n",
      " <li>Al final, por cada True en el arreglo, se mete su valor a una lista y esta se devuelve como resultado</li>\n",
      " </ul>\n",
      " </li>\n",
      "</ol>"
     ]
    },
    {
     "cell_type": "markdown",
     "metadata": {},
     "source": [
      "<br/><br/>\n",
      "Escribir\u00e9 una funci\u00f3n que devuelva como resultado la descomposici\u00f3n en factores primos del n\u00famero dado, y extraer\u00e9 el m\u00e1ximo como el \u00faltimo elemento de la lista resultante."
     ]
    },
    {
     "cell_type": "code",
     "collapsed": false,
     "input": [
      "def getPrimeFactors(n):\n",
      "    \"\"\"\n",
      "    Funci\u00f3n que devuelve la descomposici\u00f3n en primos del entero n.\n",
      "    En caso de que se de un n\u00famero negativo o no entero, la funci\u00f3n devolver\u00e1 una lista vac\u00eda\n",
      "    \"\"\"\n",
      "    prime_factors = []\n",
      "    \n",
      "    # se obtienen todos los primos menores a n\n",
      "    primes = getPrimes(n)\n",
      "    \n",
      "    # se itera sobre los primos, si n es m\u00faltiplo de alguno, \u00e9ste se agrega a la lista de factores\n",
      "    # y se divide a n entre \u00e9ste. Al llegar a 1, se sale del ciclo y regresa la lista de factores primos\n",
      "    for p in primes:\n",
      "        if n%p == 0:\n",
      "            prime_factors.append(p)\n",
      "            n/=p\n",
      "        if n<=1:\n",
      "            break\n",
      "    if n==1:\n",
      "        return prime_factors\n",
      "    return []"
     ],
     "language": "python",
     "metadata": {},
     "outputs": [],
     "prompt_number": 43
    },
    {
     "cell_type": "code",
     "collapsed": false,
     "input": [
      "getPrimeFactors(13195)"
     ],
     "language": "python",
     "metadata": {},
     "outputs": [
      {
       "metadata": {},
       "output_type": "pyout",
       "prompt_number": 40,
       "text": [
        "[5, 7, 13, 29]"
       ]
      }
     ],
     "prompt_number": 40
    },
    {
     "cell_type": "code",
     "collapsed": false,
     "input": [],
     "language": "python",
     "metadata": {},
     "outputs": []
    }
   ],
   "metadata": {}
  }
 ]
}