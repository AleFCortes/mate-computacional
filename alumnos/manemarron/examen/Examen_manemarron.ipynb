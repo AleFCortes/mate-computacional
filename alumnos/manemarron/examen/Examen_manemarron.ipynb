{
 "metadata": {
  "name": "",
  "signature": "sha256:15541cbf142503ff64d8ad51cf20bfc39f31b024848562e2dd0578f4566ef6e2"
 },
 "nbformat": 3,
 "nbformat_minor": 0,
 "worksheets": [
  {
   "cells": [
    {
     "cell_type": "heading",
     "level": 1,
     "metadata": {},
     "source": [
      "Examen"
     ]
    },
    {
     "cell_type": "code",
     "collapsed": false,
     "input": [
      "%matplotlib inline\n",
      "import numpy as np\n",
      "import matplotlib.pyplot as plt"
     ],
     "language": "python",
     "metadata": {},
     "outputs": [],
     "prompt_number": 1
    },
    {
     "cell_type": "heading",
     "level": 3,
     "metadata": {},
     "source": [
      "Pregunta 6"
     ]
    },
    {
     "cell_type": "code",
     "collapsed": false,
     "input": [
      "def num_8bits():\n",
      "    print \"%s\\t\\t%s\\t\\t\\t%s\"%(\"Representacion\",\"Real\",\"Flotante\")\n",
      "    for i in xrange(2**8):\n",
      "        repr=str(format(i,\"#010b\"))[2:]\n",
      "        f1=1\n",
      "        for j in xrange(4):\n",
      "            f1+=int(repr[j+1:j+2])*2**-(j+1)\n",
      "        exp=0\n",
      "        for j in xrange(3):\n",
      "            exp+=int(repr[j+5:j+6])*2**(2-j)\n",
      "        exp-=3\n",
      "        real=str(f1)+\" x 2^\"+str(exp)\n",
      "        flot=f1*2**(exp)*(-1)**int(repr[0])\n",
      "        print \"%s\\t\\t%s\\t\\t%s\"%(repr,real,flot)"
     ],
     "language": "python",
     "metadata": {},
     "outputs": [],
     "prompt_number": 44
    },
    {
     "cell_type": "code",
     "collapsed": false,
     "input": [
      "num_8bits()"
     ],
     "language": "python",
     "metadata": {},
     "outputs": [
      {
       "output_type": "stream",
       "stream": "stdout",
       "text": [
        "Representacion\t\tReal\t\t\tFlotante\n",
        "00000000\t\t1.0 x 2^-3\t\t0.125\n",
        "00000001\t\t1.0 x 2^-2\t\t0.25\n",
        "00000010\t\t1.0 x 2^-1\t\t0.5\n",
        "00000011\t\t1.0 x 2^0\t\t1.0\n",
        "00000100\t\t1.0 x 2^1\t\t2.0\n",
        "00000101\t\t1.0 x 2^2\t\t4.0\n",
        "00000110\t\t1.0 x 2^3\t\t8.0\n",
        "00000111\t\t1.0 x 2^4\t\t16.0\n",
        "00001000\t\t1.0625 x 2^-3\t\t0.1328125\n",
        "00001001\t\t1.0625 x 2^-2\t\t0.265625\n",
        "00001010\t\t1.0625 x 2^-1\t\t0.53125\n",
        "00001011\t\t1.0625 x 2^0\t\t1.0625\n",
        "00001100\t\t1.0625 x 2^1\t\t2.125\n",
        "00001101\t\t1.0625 x 2^2\t\t4.25\n",
        "00001110\t\t1.0625 x 2^3\t\t8.5\n",
        "00001111\t\t1.0625 x 2^4\t\t17.0\n",
        "00010000\t\t1.125 x 2^-3\t\t0.140625\n",
        "00010001\t\t1.125 x 2^-2\t\t0.28125\n",
        "00010010\t\t1.125 x 2^-1\t\t0.5625\n",
        "00010011\t\t1.125 x 2^0\t\t1.125\n",
        "00010100\t\t1.125 x 2^1\t\t2.25\n",
        "00010101\t\t1.125 x 2^2\t\t4.5\n",
        "00010110\t\t1.125 x 2^3\t\t9.0\n",
        "00010111\t\t1.125 x 2^4\t\t18.0\n",
        "00011000\t\t1.1875 x 2^-3\t\t0.1484375\n",
        "00011001\t\t1.1875 x 2^-2\t\t0.296875\n",
        "00011010\t\t1.1875 x 2^-1\t\t0.59375\n",
        "00011011\t\t1.1875 x 2^0\t\t1.1875\n",
        "00011100\t\t1.1875 x 2^1\t\t2.375\n",
        "00011101\t\t1.1875 x 2^2\t\t4.75\n",
        "00011110\t\t1.1875 x 2^3\t\t9.5\n",
        "00011111\t\t1.1875 x 2^4\t\t19.0\n",
        "00100000\t\t1.25 x 2^-3\t\t0.15625\n",
        "00100001\t\t1.25 x 2^-2\t\t0.3125\n",
        "00100010\t\t1.25 x 2^-1\t\t0.625\n",
        "00100011\t\t1.25 x 2^0\t\t1.25\n",
        "00100100\t\t1.25 x 2^1\t\t2.5\n",
        "00100101\t\t1.25 x 2^2\t\t5.0\n",
        "00100110\t\t1.25 x 2^3\t\t10.0\n",
        "00100111\t\t1.25 x 2^4\t\t20.0\n",
        "00101000\t\t1.3125 x 2^-3\t\t0.1640625\n",
        "00101001\t\t1.3125 x 2^-2\t\t0.328125\n",
        "00101010\t\t1.3125 x 2^-1\t\t0.65625\n",
        "00101011\t\t1.3125 x 2^0\t\t1.3125\n",
        "00101100\t\t1.3125 x 2^1\t\t2.625\n",
        "00101101\t\t1.3125 x 2^2\t\t5.25\n",
        "00101110\t\t1.3125 x 2^3\t\t10.5\n",
        "00101111\t\t1.3125 x 2^4\t\t21.0\n",
        "00110000\t\t1.375 x 2^-3\t\t0.171875\n",
        "00110001\t\t1.375 x 2^-2\t\t0.34375\n",
        "00110010\t\t1.375 x 2^-1\t\t0.6875\n",
        "00110011\t\t1.375 x 2^0\t\t1.375\n",
        "00110100\t\t1.375 x 2^1\t\t2.75\n",
        "00110101\t\t1.375 x 2^2\t\t5.5\n",
        "00110110\t\t1.375 x 2^3\t\t11.0\n",
        "00110111\t\t1.375 x 2^4\t\t22.0\n",
        "00111000\t\t1.4375 x 2^-3\t\t0.1796875\n",
        "00111001\t\t1.4375 x 2^-2\t\t0.359375\n",
        "00111010\t\t1.4375 x 2^-1\t\t0.71875\n",
        "00111011\t\t1.4375 x 2^0\t\t1.4375\n",
        "00111100\t\t1.4375 x 2^1\t\t2.875\n",
        "00111101\t\t1.4375 x 2^2\t\t5.75\n",
        "00111110\t\t1.4375 x 2^3\t\t11.5\n",
        "00111111\t\t1.4375 x 2^4\t\t23.0\n",
        "01000000\t\t1.5 x 2^-3\t\t0.1875\n",
        "01000001\t\t1.5 x 2^-2\t\t0.375\n",
        "01000010\t\t1.5 x 2^-1\t\t0.75\n",
        "01000011\t\t1.5 x 2^0\t\t1.5\n",
        "01000100\t\t1.5 x 2^1\t\t3.0\n",
        "01000101\t\t1.5 x 2^2\t\t6.0\n",
        "01000110\t\t1.5 x 2^3\t\t12.0\n",
        "01000111\t\t1.5 x 2^4\t\t24.0\n",
        "01001000\t\t1.5625 x 2^-3\t\t0.1953125\n",
        "01001001\t\t1.5625 x 2^-2\t\t0.390625\n",
        "01001010\t\t1.5625 x 2^-1\t\t0.78125\n",
        "01001011\t\t1.5625 x 2^0\t\t1.5625\n",
        "01001100\t\t1.5625 x 2^1\t\t3.125\n",
        "01001101\t\t1.5625 x 2^2\t\t6.25\n",
        "01001110\t\t1.5625 x 2^3\t\t12.5\n",
        "01001111\t\t1.5625 x 2^4\t\t25.0\n",
        "01010000\t\t1.625 x 2^-3\t\t0.203125\n",
        "01010001\t\t1.625 x 2^-2\t\t0.40625\n",
        "01010010\t\t1.625 x 2^-1\t\t0.8125\n",
        "01010011\t\t1.625 x 2^0\t\t1.625\n",
        "01010100\t\t1.625 x 2^1\t\t3.25\n",
        "01010101\t\t1.625 x 2^2\t\t6.5\n",
        "01010110\t\t1.625 x 2^3\t\t13.0\n",
        "01010111\t\t1.625 x 2^4\t\t26.0\n",
        "01011000\t\t1.6875 x 2^-3\t\t0.2109375\n",
        "01011001\t\t1.6875 x 2^-2\t\t0.421875\n",
        "01011010\t\t1.6875 x 2^-1\t\t0.84375\n",
        "01011011\t\t1.6875 x 2^0\t\t1.6875\n",
        "01011100\t\t1.6875 x 2^1\t\t3.375\n",
        "01011101\t\t1.6875 x 2^2\t\t6.75\n",
        "01011110\t\t1.6875 x 2^3\t\t13.5\n",
        "01011111\t\t1.6875 x 2^4\t\t27.0\n",
        "01100000\t\t1.75 x 2^-3\t\t0.21875\n",
        "01100001\t\t1.75 x 2^-2\t\t0.4375\n",
        "01100010\t\t1.75 x 2^-1\t\t0.875\n",
        "01100011\t\t1.75 x 2^0\t\t1.75\n",
        "01100100\t\t1.75 x 2^1\t\t3.5\n",
        "01100101\t\t1.75 x 2^2\t\t7.0\n",
        "01100110\t\t1.75 x 2^3\t\t14.0\n",
        "01100111\t\t1.75 x 2^4\t\t28.0\n",
        "01101000\t\t1.8125 x 2^-3\t\t0.2265625\n",
        "01101001\t\t1.8125 x 2^-2\t\t0.453125\n",
        "01101010\t\t1.8125 x 2^-1\t\t0.90625\n",
        "01101011\t\t1.8125 x 2^0\t\t1.8125\n",
        "01101100\t\t1.8125 x 2^1\t\t3.625\n",
        "01101101\t\t1.8125 x 2^2\t\t7.25\n",
        "01101110\t\t1.8125 x 2^3\t\t14.5\n",
        "01101111\t\t1.8125 x 2^4\t\t29.0\n",
        "01110000\t\t1.875 x 2^-3\t\t0.234375\n",
        "01110001\t\t1.875 x 2^-2\t\t0.46875\n",
        "01110010\t\t1.875 x 2^-1\t\t0.9375\n",
        "01110011\t\t1.875 x 2^0\t\t1.875\n",
        "01110100\t\t1.875 x 2^1\t\t3.75\n",
        "01110101\t\t1.875 x 2^2\t\t7.5\n",
        "01110110\t\t1.875 x 2^3\t\t15.0\n",
        "01110111\t\t1.875 x 2^4\t\t30.0\n",
        "01111000\t\t1.9375 x 2^-3\t\t0.2421875\n",
        "01111001\t\t1.9375 x 2^-2\t\t0.484375\n",
        "01111010\t\t1.9375 x 2^-1\t\t0.96875\n",
        "01111011\t\t1.9375 x 2^0\t\t1.9375\n",
        "01111100\t\t1.9375 x 2^1\t\t3.875\n",
        "01111101\t\t1.9375 x 2^2\t\t7.75\n",
        "01111110\t\t1.9375 x 2^3\t\t15.5\n",
        "01111111\t\t1.9375 x 2^4\t\t31.0\n",
        "10000000\t\t1.0 x 2^-3\t\t-0.125\n",
        "10000001\t\t1.0 x 2^-2\t\t-0.25\n",
        "10000010\t\t1.0 x 2^-1\t\t-0.5\n",
        "10000011\t\t1.0 x 2^0\t\t-1.0\n",
        "10000100\t\t1.0 x 2^1\t\t-2.0\n",
        "10000101\t\t1.0 x 2^2\t\t-4.0\n",
        "10000110\t\t1.0 x 2^3\t\t-8.0\n",
        "10000111\t\t1.0 x 2^4\t\t-16.0\n",
        "10001000\t\t1.0625 x 2^-3\t\t-0.1328125\n",
        "10001001\t\t1.0625 x 2^-2\t\t-0.265625\n",
        "10001010\t\t1.0625 x 2^-1\t\t-0.53125\n",
        "10001011\t\t1.0625 x 2^0\t\t-1.0625\n",
        "10001100\t\t1.0625 x 2^1\t\t-2.125\n",
        "10001101\t\t1.0625 x 2^2\t\t-4.25\n",
        "10001110\t\t1.0625 x 2^3\t\t-8.5\n",
        "10001111\t\t1.0625 x 2^4\t\t-17.0\n",
        "10010000\t\t1.125 x 2^-3\t\t-0.140625\n",
        "10010001\t\t1.125 x 2^-2\t\t-0.28125\n",
        "10010010\t\t1.125 x 2^-1\t\t-0.5625\n",
        "10010011\t\t1.125 x 2^0\t\t-1.125\n",
        "10010100\t\t1.125 x 2^1\t\t-2.25\n",
        "10010101\t\t1.125 x 2^2\t\t-4.5\n",
        "10010110\t\t1.125 x 2^3\t\t-9.0\n",
        "10010111\t\t1.125 x 2^4\t\t-18.0\n",
        "10011000\t\t1.1875 x 2^-3\t\t-0.1484375\n",
        "10011001\t\t1.1875 x 2^-2\t\t-0.296875\n",
        "10011010\t\t1.1875 x 2^-1\t\t-0.59375\n",
        "10011011\t\t1.1875 x 2^0\t\t-1.1875\n",
        "10011100\t\t1.1875 x 2^1\t\t-2.375\n",
        "10011101\t\t1.1875 x 2^2\t\t-4.75\n",
        "10011110\t\t1.1875 x 2^3\t\t-9.5\n",
        "10011111\t\t1.1875 x 2^4\t\t-19.0\n",
        "10100000\t\t1.25 x 2^-3\t\t-0.15625\n",
        "10100001\t\t1.25 x 2^-2\t\t-0.3125\n",
        "10100010\t\t1.25 x 2^-1\t\t-0.625\n",
        "10100011\t\t1.25 x 2^0\t\t-1.25\n",
        "10100100\t\t1.25 x 2^1\t\t-2.5\n",
        "10100101\t\t1.25 x 2^2\t\t-5.0\n",
        "10100110\t\t1.25 x 2^3\t\t-10.0\n",
        "10100111\t\t1.25 x 2^4\t\t-20.0\n",
        "10101000\t\t1.3125 x 2^-3\t\t-0.1640625\n",
        "10101001\t\t1.3125 x 2^-2\t\t-0.328125\n",
        "10101010\t\t1.3125 x 2^-1\t\t-0.65625\n",
        "10101011\t\t1.3125 x 2^0\t\t-1.3125\n",
        "10101100\t\t1.3125 x 2^1\t\t-2.625\n",
        "10101101\t\t1.3125 x 2^2\t\t-5.25\n",
        "10101110\t\t1.3125 x 2^3\t\t-10.5\n",
        "10101111\t\t1.3125 x 2^4\t\t-21.0\n",
        "10110000\t\t1.375 x 2^-3\t\t-0.171875\n",
        "10110001\t\t1.375 x 2^-2\t\t-0.34375\n",
        "10110010\t\t1.375 x 2^-1\t\t-0.6875\n",
        "10110011\t\t1.375 x 2^0\t\t-1.375\n",
        "10110100\t\t1.375 x 2^1\t\t-2.75\n",
        "10110101\t\t1.375 x 2^2\t\t-5.5\n",
        "10110110\t\t1.375 x 2^3\t\t-11.0\n",
        "10110111\t\t1.375 x 2^4\t\t-22.0\n",
        "10111000\t\t1.4375 x 2^-3\t\t-0.1796875\n",
        "10111001\t\t1.4375 x 2^-2\t\t-0.359375\n",
        "10111010\t\t1.4375 x 2^-1\t\t-0.71875\n",
        "10111011\t\t1.4375 x 2^0\t\t-1.4375\n",
        "10111100\t\t1.4375 x 2^1\t\t-2.875\n",
        "10111101\t\t1.4375 x 2^2\t\t-5.75\n",
        "10111110\t\t1.4375 x 2^3\t\t-11.5\n",
        "10111111\t\t1.4375 x 2^4\t\t-23.0\n",
        "11000000\t\t1.5 x 2^-3\t\t-0.1875\n",
        "11000001\t\t1.5 x 2^-2\t\t-0.375\n",
        "11000010\t\t1.5 x 2^-1\t\t-0.75\n",
        "11000011\t\t1.5 x 2^0\t\t-1.5\n",
        "11000100\t\t1.5 x 2^1\t\t-3.0\n",
        "11000101\t\t1.5 x 2^2\t\t-6.0\n",
        "11000110\t\t1.5 x 2^3\t\t-12.0\n",
        "11000111\t\t1.5 x 2^4\t\t-24.0\n",
        "11001000\t\t1.5625 x 2^-3\t\t-0.1953125\n",
        "11001001\t\t1.5625 x 2^-2\t\t-0.390625\n",
        "11001010\t\t1.5625 x 2^-1\t\t-0.78125\n",
        "11001011\t\t1.5625 x 2^0\t\t-1.5625\n",
        "11001100\t\t1.5625 x 2^1\t\t-3.125\n",
        "11001101\t\t1.5625 x 2^2\t\t-6.25\n",
        "11001110\t\t1.5625 x 2^3\t\t-12.5\n",
        "11001111\t\t1.5625 x 2^4\t\t-25.0\n",
        "11010000\t\t1.625 x 2^-3\t\t-0.203125\n",
        "11010001\t\t1.625 x 2^-2\t\t-0.40625\n",
        "11010010\t\t1.625 x 2^-1\t\t-0.8125\n",
        "11010011\t\t1.625 x 2^0\t\t-1.625\n",
        "11010100\t\t1.625 x 2^1\t\t-3.25\n",
        "11010101\t\t1.625 x 2^2\t\t-6.5\n",
        "11010110\t\t1.625 x 2^3\t\t-13.0\n",
        "11010111\t\t1.625 x 2^4\t\t-26.0\n",
        "11011000\t\t1.6875 x 2^-3\t\t-0.2109375\n",
        "11011001\t\t1.6875 x 2^-2\t\t-0.421875\n",
        "11011010\t\t1.6875 x 2^-1\t\t-0.84375\n",
        "11011011\t\t1.6875 x 2^0\t\t-1.6875\n",
        "11011100\t\t1.6875 x 2^1\t\t-3.375\n",
        "11011101\t\t1.6875 x 2^2\t\t-6.75\n",
        "11011110\t\t1.6875 x 2^3\t\t-13.5\n",
        "11011111\t\t1.6875 x 2^4\t\t-27.0\n",
        "11100000\t\t1.75 x 2^-3\t\t-0.21875\n",
        "11100001\t\t1.75 x 2^-2\t\t-0.4375\n",
        "11100010\t\t1.75 x 2^-1\t\t-0.875\n",
        "11100011\t\t1.75 x 2^0\t\t-1.75\n",
        "11100100\t\t1.75 x 2^1\t\t-3.5\n",
        "11100101\t\t1.75 x 2^2\t\t-7.0\n",
        "11100110\t\t1.75 x 2^3\t\t-14.0\n",
        "11100111\t\t1.75 x 2^4\t\t-28.0\n",
        "11101000\t\t1.8125 x 2^-3\t\t-0.2265625\n",
        "11101001\t\t1.8125 x 2^-2\t\t-0.453125\n",
        "11101010\t\t1.8125 x 2^-1\t\t-0.90625\n",
        "11101011\t\t1.8125 x 2^0\t\t-1.8125\n",
        "11101100\t\t1.8125 x 2^1\t\t-3.625\n",
        "11101101\t\t1.8125 x 2^2\t\t-7.25\n",
        "11101110\t\t1.8125 x 2^3\t\t-14.5\n",
        "11101111\t\t1.8125 x 2^4\t\t-29.0\n",
        "11110000\t\t1.875 x 2^-3\t\t-0.234375\n",
        "11110001\t\t1.875 x 2^-2\t\t-0.46875\n",
        "11110010\t\t1.875 x 2^-1\t\t-0.9375\n",
        "11110011\t\t1.875 x 2^0\t\t-1.875\n",
        "11110100\t\t1.875 x 2^1\t\t-3.75\n",
        "11110101\t\t1.875 x 2^2\t\t-7.5\n",
        "11110110\t\t1.875 x 2^3\t\t-15.0\n",
        "11110111\t\t1.875 x 2^4\t\t-30.0\n",
        "11111000\t\t1.9375 x 2^-3\t\t-0.2421875\n",
        "11111001\t\t1.9375 x 2^-2\t\t-0.484375\n",
        "11111010\t\t1.9375 x 2^-1\t\t-0.96875\n",
        "11111011\t\t1.9375 x 2^0\t\t-1.9375\n",
        "11111100\t\t1.9375 x 2^1\t\t-3.875\n",
        "11111101\t\t1.9375 x 2^2\t\t-7.75\n",
        "11111110\t\t1.9375 x 2^3\t\t-15.5\n",
        "11111111\t\t1.9375 x 2^4\t\t-31.0\n"
       ]
      }
     ],
     "prompt_number": 46
    },
    {
     "cell_type": "code",
     "collapsed": false,
     "input": [
      "mu, sigma = 100, 15\n",
      "x = mu + sigma * np.random.randn(10000)\n",
      "\n",
      "# Histograma de los datos\n",
      "n, bins, patches = plt.hist(x, 50, normed=1, facecolor='g', alpha=0.75)\n",
      "\n",
      "plt.xlabel(u'N\u00famero de inteligentes',fontsize=20)\n",
      "plt.ylabel('Probabilidad',fontsize=20)\n",
      "plt.title('Histograma de IQ',fontsize=20)\n",
      "\n",
      "# Texto en la posici\u00f3n pedida\n",
      "plt.text(45, .027, r'$\\mu=100,\\ \\sigma=15$', fontsize=20)\n",
      "plt.axis([40, 160, 0, 0.03])\n",
      "plt.xticks(fontsize=20)\n",
      "plt.yticks(fontsize=20)\n",
      "plt.grid();"
     ],
     "language": "python",
     "metadata": {},
     "outputs": [
      {
       "metadata": {},
       "output_type": "display_data",
       "png": "[encoded data removed]",
       "text": [
        "<matplotlib.figure.Figure at 0x7f69966af0d0>"
       ]
      }
     ],
     "prompt_number": 47
    },
    {
     "cell_type": "heading",
     "level": 3,
     "metadata": {},
     "source": [
      "Problema 7"
     ]
    },
    {
     "cell_type": "markdown",
     "metadata": {},
     "source": [
      "El c\u00f3digo primero convierte el n\u00famero 77777 a un flotante de precisi\u00f3n simple y el n\u00famero 7 a un flotante de precisi\u00f3n simple. Luego calcula el inverso multiplicativo de 7. Luego calcula la divisi\u00f3n entre 77777 y 7, y calcula la multiplicaci\u00f3n entre 77777 y el inverso multiplicativo de 7. Imprime los resultados de las 2 \u00faltimas operaciones."
     ]
    },
    {
     "cell_type": "code",
     "collapsed": false,
     "input": [
      "!octave strange_floats_sp.m"
     ],
     "language": "python",
     "metadata": {},
     "outputs": [
      {
       "output_type": "stream",
       "stream": "stdout",
       "text": [
        "GNU Octave, version 3.8.1\r\n",
        "Copyright (C) 2014 John W. Eaton and others.\r\n",
        "This is free software; see the source code for copying conditions.\r\n",
        "There is ABSOLUTELY NO WARRANTY; not even for MERCHANTABILITY or\r\n",
        "FITNESS FOR A PARTICULAR PURPOSE.  For details, type 'warranty'.\r\n",
        "\r\n",
        "Octave was configured for \"x86_64-pc-linux-gnu\".\r\n",
        "\r\n",
        "Additional information about Octave is available at http://www.octave.org.\r\n",
        "\r\n",
        "Please contribute if you find this software useful.\r\n",
        "For more information, visit http://www.octave.org/get-involved.html\r\n",
        "\r\n",
        "Read http://www.octave.org/bugs.html to learn how to submit bug reports.\r\n",
        "For information about changes from previous versions, type 'news'.\r\n",
        "\r\n",
        "x =  77777\r\n",
        "y =  7\r\n",
        "inv_y =  0.14286\r\n",
        "z =  11111\r\n",
        "z1 =    1.1111e+04\r\n",
        "ans = 11111.000 != 11111.001\r\n",
        "ans = 11111.000000000000000000000000000000 != 11111.000976562500000000000000000000\r\n"
       ]
      }
     ],
     "prompt_number": 48
    },
    {
     "cell_type": "markdown",
     "metadata": {},
     "source": [
      "z es SP, porque se est\u00e1n diviendo dos n\u00fameros en precisi\u00f3n simple.<br/>\n",
      "z1 es DP, porque inv_y es DP ya que se divide 1.0 (que es DP) entre y (que es SP)"
     ]
    },
    {
     "cell_type": "code",
     "collapsed": true,
     "input": [
      "!octave strange_floats_dp.m"
     ],
     "language": "python",
     "metadata": {},
     "outputs": [
      {
       "output_type": "stream",
       "stream": "stdout",
       "text": [
        "GNU Octave, version 3.8.1\r\n",
        "Copyright (C) 2014 John W. Eaton and others.\r\n",
        "This is free software; see the source code for copying conditions.\r\n",
        "There is ABSOLUTELY NO WARRANTY; not even for MERCHANTABILITY or\r\n",
        "FITNESS FOR A PARTICULAR PURPOSE.  For details, type 'warranty'.\r\n",
        "\r\n",
        "Octave was configured for \"x86_64-pc-linux-gnu\".\r\n",
        "\r\n",
        "Additional information about Octave is available at http://www.octave.org.\r\n",
        "\r\n",
        "Please contribute if you find this software useful.\r\n",
        "For more information, visit http://www.octave.org/get-involved.html\r\n",
        "\r\n",
        "Read http://www.octave.org/bugs.html to learn how to submit bug reports.\r\n",
        "For information about changes from previous versions, type 'news'.\r\n",
        "\r\n",
        "x =  77777\r\n",
        "y =  7\r\n",
        "inv_y =  0.14286\r\n",
        "z =  11111\r\n",
        "z1 =  11111\r\n",
        "ans = 11111.000 == 11111.000\r\n",
        "ans = 11111.000000000000000000000000000000 == 11111.000000000000000000000000000000\r\n"
       ]
      }
     ],
     "prompt_number": 49
    },
    {
     "cell_type": "code",
     "collapsed": false,
     "input": [],
     "language": "python",
     "metadata": {},
     "outputs": [],
     "prompt_number": 49
    },
    {
     "cell_type": "heading",
     "level": 3,
     "metadata": {},
     "source": [
      "Problema 8"
     ]
    },
    {
     "cell_type": "code",
     "collapsed": false,
     "input": [
      "s2=lambda x: (np.sum((x-(np.sum(x)/len(x)))**2))/(len(x)-1)"
     ],
     "language": "python",
     "metadata": {},
     "outputs": [],
     "prompt_number": 54
    },
    {
     "cell_type": "code",
     "collapsed": false,
     "input": [
      "print s2(np.array([1,1,1,1,1,1]))\n",
      "print s2(np.arange(10))"
     ],
     "language": "python",
     "metadata": {},
     "outputs": [
      {
       "output_type": "stream",
       "stream": "stdout",
       "text": [
        "0\n",
        "9\n"
       ]
      }
     ],
     "prompt_number": 55
    },
    {
     "cell_type": "code",
     "collapsed": false,
     "input": [
      "s2_mejorada=lambda x: (np.sum(x**2 - ((np.sum(x))**2)/len(x)))/(len(x)-1)"
     ],
     "language": "python",
     "metadata": {},
     "outputs": [],
     "prompt_number": 73
    },
    {
     "cell_type": "code",
     "collapsed": false,
     "input": [
      "print s2_mejorada(np.array([1000,1001,1002]))\n",
      "print s2_mejorada(np.arange(10))"
     ],
     "language": "python",
     "metadata": {},
     "outputs": [
      {
       "output_type": "stream",
       "stream": "stdout",
       "text": [
        "-3006002\n",
        "-193\n"
       ]
      }
     ],
     "prompt_number": 75
    },
    {
     "cell_type": "code",
     "collapsed": false,
     "input": [
      "print np.sum(np.array([1000,1001,1002]))**2/9\n",
      "print 1000**2\n",
      "print 1001**2\n",
      "print 1002**2"
     ],
     "language": "python",
     "metadata": {},
     "outputs": [
      {
       "output_type": "stream",
       "stream": "stdout",
       "text": [
        "1002001\n",
        "1000000\n",
        "1002001\n",
        "1004004\n"
       ]
      }
     ],
     "prompt_number": 72
    },
    {
     "cell_type": "markdown",
     "metadata": {},
     "source": [
      "Existe un error de precisi\u00f3n ya que no deberia de dar un n\u00famero negativo. Esto se da porque se est\u00e1n restando n\u00fameros parecidos como son 1001 y 1"
     ]
    }
   ],
   "metadata": {}
  }
 ]
}