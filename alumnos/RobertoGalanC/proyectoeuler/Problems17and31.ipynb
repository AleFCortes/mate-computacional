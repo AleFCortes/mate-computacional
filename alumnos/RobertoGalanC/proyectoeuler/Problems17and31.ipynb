{
 "metadata": {
  "name": "",
  "signature": "sha256:7a17a980209a0278eb2f94c42753e2044b9110aaf7fbbbfa63810a056528f29f"
 },
 "nbformat": 3,
 "nbformat_minor": 0,
 "worksheets": [
  {
   "cells": [
    {
     "cell_type": "code",
     "collapsed": false,
     "input": [
      "#problem 17\n",
      "uni = [0,3,3,5,4,4,3,5,5,4,3,6,6,8,8,7,7,9,8,8] \n",
      "dec = [0,3,6,6,5,5,5,7,6,6]\n",
      "cent = [0,10,10,12,11,11,10,12,12,11]\n",
      "m = 11\n",
      "\"\"\"\n",
      "tama\u00f1o de las letras, separadas por decenas, centenas unidades y mil\n",
      "\"\"\"\n",
      "uni = [0,3,3,5,4,4,3,5,5,4,3,6,6,8,8,7,7,9,8,8]\n",
      "dec = [0,3,6,6,5,5,5,7,6,6]\n",
      "cent = 7\n",
      "m = 11\n",
      " \n",
      "total = 0\n",
      "for i in range(1,1000):\n",
      "    u = i % 10 # singles digit\n",
      "    d = ((i % 100) - u) / 10 # tens digit\n",
      "    c = ((i % 1000) - (d * 10) - u) / 100 # hundreds digit\n",
      " \n",
      "    if c != 0:\n",
      "        total += uni[c] + H # \"S[a] hundred\n",
      "        if b != 0 or c != 0: \n",
      "            total += 3 # \"and\"\n",
      "    if d == 0 or d == 1: \n",
      "        total += S[d * 10 + u]\n",
      "    else: \n",
      "        total += dec[d] + uni[u]\n",
      " \n",
      "total += S[1] + T\n",
      " \n",
      "    "
     ],
     "language": "python",
     "metadata": {},
     "outputs": [
      {
       "output_type": "stream",
       "stream": "stdout",
       "text": [
        "35\n"
       ]
      }
     ],
     "prompt_number": 22
    },
    {
     "cell_type": "code",
     "collapsed": false,
     "input": [
      "S = [0,3,3,5,4,4,3,5,5,4,3,6,6,8,8,7,7,9,8,8]\n",
      "D = [0,3,6,6,5,5,5,7,6,6]\n",
      "H = 7\n",
      "T = 8\n",
      " \n",
      "total = 0\n",
      "for i in range(1,1000):\n",
      "    c = i % 10 # singles digit\n",
      "    b = ((i % 100) - c) / 10 # tens digit\n",
      "    a = ((i % 1000) - (b * 10) - c) / 100 # hundreds digit\n",
      " \n",
      "    if a != 0:\n",
      "        total += S[a] + H # \"S[a] hundred\n",
      "        if b != 0 or c != 0: total += 3 # \"and\"\n",
      "    if b == 0 or b == 1: total += S[b * 10 + c]\n",
      "    else: total += D[b] + S[c]\n",
      " \n",
      "total += S[1] + T\n",
      "print total"
     ],
     "language": "python",
     "metadata": {},
     "outputs": [
      {
       "output_type": "stream",
       "stream": "stdout",
       "text": [
        "21124\n"
       ]
      }
     ],
     "prompt_number": 23
    },
    {
     "cell_type": "code",
     "collapsed": false,
     "input": [],
     "language": "python",
     "metadata": {},
     "outputs": []
    }
   ],
   "metadata": {}
  }
 ]
}