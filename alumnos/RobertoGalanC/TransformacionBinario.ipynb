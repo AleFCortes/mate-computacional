{
 "metadata": {
  "name": "",
  "signature": "sha256:51d6e9f396a363036802fc76d4105a988ac8f241c0ee9ab64c0c8bd8c854885f"
 },
 "nbformat": 3,
 "nbformat_minor": 0,
 "worksheets": [
  {
   "cells": [
    {
     "cell_type": "code",
     "collapsed": false,
     "input": [
      "#decimal a binario \n",
      "def decimalbinario(x):\n",
      "    i=1\n",
      "    bin=0\n",
      "    while x>0:\n",
      "        a=x%2\n",
      "        bin=bin+(i*a)\n",
      "        x= x/2\n",
      "        i=i*10\n",
      "    return bin\n"
     ],
     "language": "python",
     "metadata": {},
     "outputs": [],
     "prompt_number": 34
    },
    {
     "cell_type": "code",
     "collapsed": false,
     "input": [
      "print decimalbinario(10)\n"
     ],
     "language": "python",
     "metadata": {},
     "outputs": [
      {
       "output_type": "stream",
       "stream": "stdout",
       "text": [
        "1010\n"
       ]
      }
     ],
     "prompt_number": 37
    },
    {
     "cell_type": "code",
     "collapsed": false,
     "input": [
      "#binario a decimal\n",
      "listabinario=[]\n",
      "def binariodecimal(x):\n",
      "     dec=0\n",
      "     while(x>0):\n",
      "        a=x%10\n",
      "        listabinario.append(a)\n",
      "        x=x/10\n",
      "     for i in range(0, len(listabinario),1):\n",
      "            dec = dec + listabinario[i]*(2**i)\n",
      "    \n",
      "     return dec"
     ],
     "language": "python",
     "metadata": {},
     "outputs": [],
     "prompt_number": 79
    },
    {
     "cell_type": "code",
     "collapsed": false,
     "input": [
      "print binariodecimal(110011010)"
     ],
     "language": "python",
     "metadata": {},
     "outputs": [
      {
       "output_type": "stream",
       "stream": "stdout",
       "text": [
        "410\n"
       ]
      }
     ],
     "prompt_number": 80
    },
    {
     "cell_type": "code",
     "collapsed": false,
     "input": [
      "#decimal a hexadecimal\n",
      "listahexa = []\n",
      "def decimalahex(x):\n",
      "    \n",
      "        "
     ],
     "language": "python",
     "metadata": {},
     "outputs": []
    }
   ],
   "metadata": {}
  }
 ]
}