{
 "metadata": {
  "name": "",
  "signature": "sha256:7791fbeb060be79ee3993615b7b0eac76a1ef2c1fdeac176a8e6cfaf2b44e1d7"
 },
 "nbformat": 3,
 "nbformat_minor": 0,
 "worksheets": [
  {
   "cells": [
    {
     "cell_type": "code",
     "collapsed": false,
     "input": [
      "#decimal a binario \n",
      "def decimalbinario(x):\n",
      "    i=1\n",
      "    bin=0\n",
      "    while x>0:\n",
      "        a=x%2\n",
      "        bin=bin+(i*a)\n",
      "        x= x/2\n",
      "        i=i*10\n",
      "    return bin\n"
     ],
     "language": "python",
     "metadata": {},
     "outputs": [],
     "prompt_number": 34
    },
    {
     "cell_type": "code",
     "collapsed": false,
     "input": [
      "print decimalbinario(10)\n"
     ],
     "language": "python",
     "metadata": {},
     "outputs": [
      {
       "output_type": "stream",
       "stream": "stdout",
       "text": [
        "1010\n"
       ]
      }
     ],
     "prompt_number": 37
    },
    {
     "cell_type": "code",
     "collapsed": false,
     "input": [
      "#binario a decimal\n",
      "listabinario=[]\n",
      "def binariodecimal(x):\n",
      "     dec=0\n",
      "     while(x>0):\n",
      "        a=x%10\n",
      "        listabinario.append(a)\n",
      "        x=x/10\n",
      "     for i in range(0, len(listabinario),1):\n",
      "            dec = dec + listabinario[i]*(2**i)\n",
      "    \n",
      "     return dec"
     ],
     "language": "python",
     "metadata": {},
     "outputs": [],
     "prompt_number": 6
    },
    {
     "cell_type": "code",
     "collapsed": false,
     "input": [
      "print binariodecimal(110011010)\n",
      "listabinario=[]"
     ],
     "language": "python",
     "metadata": {},
     "outputs": [
      {
       "output_type": "stream",
       "stream": "stdout",
       "text": [
        "410\n"
       ]
      }
     ],
     "prompt_number": 8
    },
    {
     "cell_type": "code",
     "collapsed": false,
     "input": [
      "#decimal a hexadecimal\n",
      "listabinario=[]\n",
      "def decimalhex(x):\n",
      "    while(x>0):\n",
      "        hex=0\n",
      "        a=x%10\n",
      "        listabinario.append(a)\n",
      "        x=x/10\n",
      "    for i in range(0,len(listabinario)/4,1):\n",
      "        p = binariodecimal(int(listabinario[0+4*i:3+4*i]))\n",
      "        if p==0:\n",
      "            hex=hex+0\n",
      "        elif p==1:\n",
      "            hex = hex + 1\n",
      "        elif p==2:\n",
      "            hex = hex + 2\n",
      "        elif p==3:\n",
      "            hex = hex + 3    \n",
      "        elif p==4:\n",
      "            hex = hex + 4\n",
      "        elif p==5:\n",
      "            hex = hex + 5\n",
      "        elif p==6:\n",
      "            hex = hex + 6\n",
      "        elif p==7:\n",
      "            hex = hex + 7\n",
      "        elif p==8:\n",
      "            hex = hex + 8\n",
      "        elif p==9:\n",
      "            hex = hex + 9\n",
      "        elif p==10:\n",
      "            hex = hex + 'A'\n",
      "        elif p==11:\n",
      "            hex = hex + 'B'\n",
      "        elif p==12:\n",
      "            hex = hex + 'C'\n",
      "        elif p==13:\n",
      "            hex = hex + 'D'\n",
      "        elif p==14:\n",
      "            hex = hex + 'E'\n",
      "        elif p==15:\n",
      "            hex = hex + 'F'\n",
      "    print hex   "
     ],
     "language": "python",
     "metadata": {},
     "outputs": [],
     "prompt_number": 21
    },
    {
     "cell_type": "code",
     "collapsed": false,
     "input": [
      "decimalhex(1010)"
     ],
     "language": "python",
     "metadata": {},
     "outputs": [
      {
       "ename": "TypeError",
       "evalue": "int() argument must be a string or a number, not 'list'",
       "output_type": "pyerr",
       "traceback": [
        "\u001b[1;31m---------------------------------------------------------------------------\u001b[0m\n\u001b[1;31mTypeError\u001b[0m                                 Traceback (most recent call last)",
        "\u001b[1;32m<ipython-input-22-35592f3a5a9f>\u001b[0m in \u001b[0;36m<module>\u001b[1;34m()\u001b[0m\n\u001b[1;32m----> 1\u001b[1;33m \u001b[0mdecimalhex\u001b[0m\u001b[1;33m(\u001b[0m\u001b[1;36m1010\u001b[0m\u001b[1;33m)\u001b[0m\u001b[1;33m\u001b[0m\u001b[0m\n\u001b[0m",
        "\u001b[1;32m<ipython-input-21-3cf12b3b9ef8>\u001b[0m in \u001b[0;36mdecimalhex\u001b[1;34m(x)\u001b[0m\n\u001b[0;32m      8\u001b[0m         \u001b[0mx\u001b[0m\u001b[1;33m=\u001b[0m\u001b[0mx\u001b[0m\u001b[1;33m/\u001b[0m\u001b[1;36m10\u001b[0m\u001b[1;33m\u001b[0m\u001b[0m\n\u001b[0;32m      9\u001b[0m     \u001b[1;32mfor\u001b[0m \u001b[0mi\u001b[0m \u001b[1;32min\u001b[0m \u001b[0mrange\u001b[0m\u001b[1;33m(\u001b[0m\u001b[1;36m0\u001b[0m\u001b[1;33m,\u001b[0m\u001b[0mlen\u001b[0m\u001b[1;33m(\u001b[0m\u001b[0mlistabinario\u001b[0m\u001b[1;33m)\u001b[0m\u001b[1;33m/\u001b[0m\u001b[1;36m4\u001b[0m\u001b[1;33m,\u001b[0m\u001b[1;36m1\u001b[0m\u001b[1;33m)\u001b[0m\u001b[1;33m:\u001b[0m\u001b[1;33m\u001b[0m\u001b[0m\n\u001b[1;32m---> 10\u001b[1;33m         \u001b[0mp\u001b[0m \u001b[1;33m=\u001b[0m \u001b[0mbinariodecimal\u001b[0m\u001b[1;33m(\u001b[0m\u001b[0mint\u001b[0m\u001b[1;33m(\u001b[0m\u001b[0mlistabinario\u001b[0m\u001b[1;33m[\u001b[0m\u001b[1;36m0\u001b[0m\u001b[1;33m+\u001b[0m\u001b[1;36m4\u001b[0m\u001b[1;33m*\u001b[0m\u001b[0mi\u001b[0m\u001b[1;33m:\u001b[0m\u001b[1;36m3\u001b[0m\u001b[1;33m+\u001b[0m\u001b[1;36m4\u001b[0m\u001b[1;33m*\u001b[0m\u001b[0mi\u001b[0m\u001b[1;33m]\u001b[0m\u001b[1;33m)\u001b[0m\u001b[1;33m)\u001b[0m\u001b[1;33m\u001b[0m\u001b[0m\n\u001b[0m\u001b[0;32m     11\u001b[0m         \u001b[1;32mif\u001b[0m \u001b[0mp\u001b[0m\u001b[1;33m==\u001b[0m\u001b[1;36m0\u001b[0m\u001b[1;33m:\u001b[0m\u001b[1;33m\u001b[0m\u001b[0m\n\u001b[0;32m     12\u001b[0m             \u001b[0mhex\u001b[0m\u001b[1;33m=\u001b[0m\u001b[0mhex\u001b[0m\u001b[1;33m+\u001b[0m\u001b[1;36m0\u001b[0m\u001b[1;33m\u001b[0m\u001b[0m\n",
        "\u001b[1;31mTypeError\u001b[0m: int() argument must be a string or a number, not 'list'"
       ]
      }
     ],
     "prompt_number": 22
    },
    {
     "cell_type": "code",
     "collapsed": false,
     "input": [],
     "language": "python",
     "metadata": {},
     "outputs": []
    }
   ],
   "metadata": {}
  }
 ]
}