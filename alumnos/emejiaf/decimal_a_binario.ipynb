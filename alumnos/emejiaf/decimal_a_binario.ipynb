{
 "metadata": {
  "name": "",
  "signature": "sha256:a3f5e236ff7c08b4bbe938b31bc80509bc624c6d25788e680fe065c06189223c"
 },
 "nbformat": 3,
 "nbformat_minor": 0,
 "worksheets": [
  {
   "cells": [
    {
     "cell_type": "code",
     "collapsed": false,
     "input": [
      "\n",
      "def dec_bin(entero):\n",
      "    assert(-128<entero<127), \"Overflow\" \n",
      "    \n",
      "    if entero==0: return ''\n",
      "    else:\n",
      "        return dec_bin(entero/2) + str(entero%2)\n",
      "    \n",
      "    "
     ],
     "language": "python",
     "metadata": {},
     "outputs": [],
     "prompt_number": 11
    },
    {
     "cell_type": "code",
     "collapsed": false,
     "input": [
      "file?"
     ],
     "language": "python",
     "metadata": {},
     "outputs": [],
     "prompt_number": 14
    }
   ],
   "metadata": {}
  }
 ]
}