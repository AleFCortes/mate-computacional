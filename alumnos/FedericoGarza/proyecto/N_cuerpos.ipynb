{
 "metadata": {
  "name": "",
  "signature": "sha256:bc665f7665054b4986f02109f408de70847e084c23244f241883f46ca2dd4cec"
 },
 "nbformat": 3,
 "nbformat_minor": 0,
 "worksheets": [
  {
   "cells": [
    {
     "cell_type": "code",
     "collapsed": false,
     "input": [
      "%pylab inline\n",
      "import numpy as np\n",
      "import matplotlib.pyplot as plt\n",
      "from __future__ import division"
     ],
     "language": "python",
     "metadata": {},
     "outputs": [
      {
       "output_type": "stream",
       "stream": "stdout",
       "text": [
        "Populating the interactive namespace from numpy and matplotlib\n"
       ]
      }
     ],
     "prompt_number": 1
    },
    {
     "cell_type": "code",
     "collapsed": false,
     "input": [
      "class Particula:\n",
      "    \n",
      "    def __init__(self, posicion, velocidad, masa):\n",
      "        self.masa = masa\n",
      "        self.posicion = posicion\n",
      "        self.velocidad = velocidad\n",
      "        self.posicion_x = posicion[:,0]\n",
      "        self.posicion_y = posicion[:, 1]\n",
      "        self.velocidad_x = velocidad[:, 0]\n",
      "        self.velocidad_y = velocidad[:, 1]\n",
      "        self.G = 6.67384e-11\n",
      "    \"\"\"    \n",
      "    def posicion_x(self):\n",
      "        return self.posicion[:, 0]\n",
      "    \n",
      "    def posicion_y(self):    \n",
      "        return self.posicion[:, 1]\n",
      "    \n",
      "    def velocidad_x(self):\n",
      "        return self.velocidad[:, 0]\n",
      "    \n",
      "    def velocidad_y(self):\n",
      "        return self.velocidad[:, 1]\n",
      "    \n",
      "    \"\"\"\n",
      "         \n",
      "    def mover(self, fuerza, dt):\n",
      "        self.N = len(self.posicion_x)\n",
      "        self.aceleracion_x = fuerza[0] / self.masa\n",
      "        self.aceleracion_y = fuerza[1] / self.masa\n",
      "        \n",
      "        \n",
      "        for i in range(0, self.N - 1):\n",
      "            self.velocidad_x[i+1] = self.velocidad_x[i] + (i+1)*(dt/self.N) * self.aceleracion_x\n",
      "            self.posicion_x[i+1] = self.velocidad_x[i] * (i+1)*(dt/self.N) + (0.5) * self.aceleracion_x * ((i+1)*dt/self.N)**2 + self.posicion_x[i]\n",
      "            \n",
      "            self.velocidad_y[i+1] = self.velocidad_y[i] + (i+1)*(dt/self.N) * self.aceleracion_y\n",
      "            self.posicion_y[i+1] = self.velocidad_y[i] * (i+1)*(dt/self.N) + (0.5) * self.aceleracion_y * ((i+1)*dt/self.N)**2 + self.posicion_y[i]\n",
      "        \n",
      "        \"\"\"\n",
      "        \n",
      "        i = 0\n",
      "        \n",
      "        self.velocidad_x[i+1] = self.velocidad_x[i] + dt * self.aceleracion_x\n",
      "        self.posicion_x[i+1] = self.velocidad_x[i] * dt + (0.5) * self.aceleracion_x * dt**2 + self.posicion_x[i]\n",
      "            \n",
      "        self.velocidad_y[i+1] = self.velocidad_y[i] + dt * self.aceleracion_y\n",
      "        self.posicion_y[i+1] = self.velocidad_y[i] * dt + (0.5) * self.aceleracion_y * dt**2 + self.posicion_y[i]\n",
      "        \n",
      "        \"\"\"\n",
      "\n",
      "    \n",
      "    def mover_tiempo_t(self, fuerza, dt, t):\n",
      "        self.t = t\n",
      "        self.N = len(self.posicion_x) - t\n",
      "        self.aceleracion_x = fuerza[0] / self.masa\n",
      "        self.aceleracion_y = fuerza[1] / self.masa\n",
      "        \n",
      "        for i in range(t-1, self.N - 1 + t):\n",
      "            self.velocidad_x[i+1] = self.velocidad_x[i] + (i+1)*(dt/self.N) * self.aceleracion_x\n",
      "            self.posicion_x[i+1] = self.velocidad_x[i] * (i+1)*(dt/self.N) + (0.5) * self.aceleracion_x * ((i+1)*dt/self.N)**2 + self.posicion_x[i]\n",
      "            \n",
      "            self.velocidad_y[i+1] = self.velocidad_y[i] + (i+1)*(dt/self.N) * self.aceleracion_y\n",
      "            self.posicion_y[i+1] = self.velocidad_y[i] * (i+1)*(dt/self.N) + (0.5) * self.aceleracion_y * ((i+1)*dt/self.N)**2 + self.posicion_y[i]\n",
      "\n",
      "    \n",
      "    def dibujar(self):\n",
      "        plt.figure(figsize = (10,8), dpi = 80)\n",
      "\n",
      "        plt.plot(self.posicion_x, self.posicion_y , label=\"Movimiento\", color=\"blue\")\n",
      "        plt.ylabel(\"Posicion Y (m)\")\n",
      "        plt.xlabel(\"Posicion X (m)\")\n",
      "        plt.legend(loc = 'upper left')\n",
      "        \n",
      "    def dibujar_pos_tiempo(self, tiempo):\n",
      "        plt.figure(figsize = (10,8), dpi = 80)\n",
      "\n",
      "        plt.plot(tiempo, self.posicion_x , label=u\"Posici\u00f3n vs tiempo\", color=\"red\")\n",
      "        plt.xlabel(\"Tiempo (s)\")\n",
      "        plt.ylabel(\"Posicion X (m)\")\n",
      "        plt.legend(loc = 'upper left')\n",
      "        \n",
      "    def distancia(self, otra_particula):\n",
      "        self.dim = len(self.posicion_x)\n",
      "        distancias = []\n",
      "        for i in range(0, self.dim): \n",
      "            distancias[i] = np.linalg.norm(self.posicion[i, :] - otra_particula.posicion[i, :])\n",
      "            \n",
      "        self.distancia = np.array(distancias)\n",
      "        \n",
      "        return self.distancia\n",
      "    \n",
      "    def fuerzaAplicada(self, otra_particula):\n",
      "        self.fuerza_gravitacional = (1/self.distancia(otra_particula)) * self.G * self.masa * otra_particula.masa\n",
      "        return self.fuerza_gravitacional"
     ],
     "language": "python",
     "metadata": {},
     "outputs": [],
     "prompt_number": 104
    },
    {
     "cell_type": "code",
     "collapsed": false,
     "input": [
      "# Probando s\u00f3lo dibujar"
     ],
     "language": "python",
     "metadata": {},
     "outputs": [],
     "prompt_number": 105
    },
    {
     "cell_type": "code",
     "collapsed": false,
     "input": [
      "dt = 83\n",
      "tiempo = np.zeros((1000,2))\n",
      "tiempo[:, 0] = linspace(0, dt, 1000)\n",
      "tiempo[:, 1] = linspace(0, dt, 1000)\n",
      "velocidad_1 = np.zeros((1000, 2))\n",
      "velocidad_1[0, 0] = 10\n",
      "velocidad_1[0, 1] = 20\n",
      "posicion_1 = velocidad_1*tiempo\n",
      "posicion_1[0, :] = 1"
     ],
     "language": "python",
     "metadata": {},
     "outputs": [],
     "prompt_number": 106
    },
    {
     "cell_type": "code",
     "collapsed": false,
     "input": [
      "particula_1 = Particula(posicion = posicion_1, velocidad = velocidad_1, masa = 10)"
     ],
     "language": "python",
     "metadata": {},
     "outputs": [],
     "prompt_number": 107
    },
    {
     "cell_type": "code",
     "collapsed": false,
     "input": [
      "for i in range(0,1000):\n",
      "    particula_1.mover(np.array([-10, 0]), dt)\n"
     ],
     "language": "python",
     "metadata": {},
     "outputs": [],
     "prompt_number": 111
    },
    {
     "cell_type": "code",
     "collapsed": false,
     "input": [
      "particula_1.dibujar()"
     ],
     "language": "python",
     "metadata": {},
     "outputs": [
      {
       "metadata": {},
       "output_type": "display_data",
       "png": "[encoded data removed]",
       "text": [
        "<matplotlib.figure.Figure at 0x7f482a47bf90>"
       ]
      }
     ],
     "prompt_number": 112
    },
    {
     "cell_type": "code",
     "collapsed": false,
     "input": [
      "particula_1.dibujar_pos_tiempo(tiempo[:,0])"
     ],
     "language": "python",
     "metadata": {},
     "outputs": [
      {
       "metadata": {},
       "output_type": "display_data",
       "png": "[encoded data removed]",
       "text": [
        "<matplotlib.figure.Figure at 0x7f482a484190>"
       ]
      }
     ],
     "prompt_number": 113
    },
    {
     "cell_type": "code",
     "collapsed": false,
     "input": [
      "#Usando otra part\u00edcula"
     ],
     "language": "python",
     "metadata": {},
     "outputs": [],
     "prompt_number": 103
    },
    {
     "cell_type": "code",
     "collapsed": false,
     "input": [
      "velocidad_2 = np.zeros((20, 2))\n",
      "velocidad_2[0, 0] = 10\n",
      "velocidad_2[0, 1] = 20\n",
      "posicion_2 = velocidad_2*tiempo"
     ],
     "language": "python",
     "metadata": {},
     "outputs": [],
     "prompt_number": 104
    },
    {
     "cell_type": "code",
     "collapsed": false,
     "input": [
      "particula_2 = Particula(posicion = posicion_2, velocidad = velocidad_2, masa = 100)"
     ],
     "language": "python",
     "metadata": {},
     "outputs": [],
     "prompt_number": 105
    },
    {
     "cell_type": "code",
     "collapsed": false,
     "input": [
      "f = particula_1.fuerzaAplicada(particula_2)"
     ],
     "language": "python",
     "metadata": {},
     "outputs": [
      {
       "ename": "IndexError",
       "evalue": "list assignment index out of range",
       "output_type": "pyerr",
       "traceback": [
        "\u001b[1;31m---------------------------------------------------------------------------\u001b[0m\n\u001b[1;31mIndexError\u001b[0m                                Traceback (most recent call last)",
        "\u001b[1;32m<ipython-input-109-28abcbeab645>\u001b[0m in \u001b[0;36m<module>\u001b[1;34m()\u001b[0m\n\u001b[1;32m----> 1\u001b[1;33m \u001b[0mf\u001b[0m \u001b[1;33m=\u001b[0m \u001b[0mparticula_1\u001b[0m\u001b[1;33m.\u001b[0m\u001b[0mfuerzaAplicada\u001b[0m\u001b[1;33m(\u001b[0m\u001b[0mparticula_2\u001b[0m\u001b[1;33m)\u001b[0m\u001b[1;33m\u001b[0m\u001b[0m\n\u001b[0m",
        "\u001b[1;32m<ipython-input-96-d9ebe723d9a1>\u001b[0m in \u001b[0;36mfuerzaAplicada\u001b[1;34m(self, otra_particula)\u001b[0m\n\u001b[0;32m     79\u001b[0m \u001b[1;33m\u001b[0m\u001b[0m\n\u001b[0;32m     80\u001b[0m     \u001b[1;32mdef\u001b[0m \u001b[0mfuerzaAplicada\u001b[0m\u001b[1;33m(\u001b[0m\u001b[0mself\u001b[0m\u001b[1;33m,\u001b[0m \u001b[0motra_particula\u001b[0m\u001b[1;33m)\u001b[0m\u001b[1;33m:\u001b[0m\u001b[1;33m\u001b[0m\u001b[0m\n\u001b[1;32m---> 81\u001b[1;33m         \u001b[0mself\u001b[0m\u001b[1;33m.\u001b[0m\u001b[0mfuerza_gravitacional\u001b[0m \u001b[1;33m=\u001b[0m \u001b[1;33m(\u001b[0m\u001b[1;36m1\u001b[0m\u001b[1;33m/\u001b[0m\u001b[0mself\u001b[0m\u001b[1;33m.\u001b[0m\u001b[0mdistancia\u001b[0m\u001b[1;33m(\u001b[0m\u001b[0motra_particula\u001b[0m\u001b[1;33m)\u001b[0m\u001b[1;33m)\u001b[0m \u001b[1;33m*\u001b[0m \u001b[0mself\u001b[0m\u001b[1;33m.\u001b[0m\u001b[0mG\u001b[0m \u001b[1;33m*\u001b[0m \u001b[0mself\u001b[0m\u001b[1;33m.\u001b[0m\u001b[0mmasa\u001b[0m \u001b[1;33m*\u001b[0m \u001b[0motra_particula\u001b[0m\u001b[1;33m.\u001b[0m\u001b[0mmasa\u001b[0m\u001b[1;33m\u001b[0m\u001b[0m\n\u001b[0m\u001b[0;32m     82\u001b[0m         \u001b[1;32mreturn\u001b[0m \u001b[0mself\u001b[0m\u001b[1;33m.\u001b[0m\u001b[0mfuerza_gravitacional\u001b[0m\u001b[1;33m\u001b[0m\u001b[0m\n",
        "\u001b[1;32m<ipython-input-96-d9ebe723d9a1>\u001b[0m in \u001b[0;36mdistancia\u001b[1;34m(self, otra_particula)\u001b[0m\n\u001b[0;32m     72\u001b[0m         \u001b[0mdistancias\u001b[0m \u001b[1;33m=\u001b[0m \u001b[1;33m[\u001b[0m\u001b[1;33m]\u001b[0m\u001b[1;33m\u001b[0m\u001b[0m\n\u001b[0;32m     73\u001b[0m         \u001b[1;32mfor\u001b[0m \u001b[0mi\u001b[0m \u001b[1;32min\u001b[0m \u001b[0mrange\u001b[0m\u001b[1;33m(\u001b[0m\u001b[1;36m0\u001b[0m\u001b[1;33m,\u001b[0m \u001b[0mself\u001b[0m\u001b[1;33m.\u001b[0m\u001b[0mdim\u001b[0m\u001b[1;33m)\u001b[0m\u001b[1;33m:\u001b[0m\u001b[1;33m\u001b[0m\u001b[0m\n\u001b[1;32m---> 74\u001b[1;33m             \u001b[0mdistancias\u001b[0m\u001b[1;33m[\u001b[0m\u001b[0mi\u001b[0m\u001b[1;33m]\u001b[0m \u001b[1;33m=\u001b[0m \u001b[0mnp\u001b[0m\u001b[1;33m.\u001b[0m\u001b[0mlinalg\u001b[0m\u001b[1;33m.\u001b[0m\u001b[0mnorm\u001b[0m\u001b[1;33m(\u001b[0m\u001b[0mself\u001b[0m\u001b[1;33m.\u001b[0m\u001b[0mposicion\u001b[0m\u001b[1;33m[\u001b[0m\u001b[0mi\u001b[0m\u001b[1;33m,\u001b[0m \u001b[1;33m:\u001b[0m\u001b[1;33m]\u001b[0m \u001b[1;33m-\u001b[0m \u001b[0motra_particula\u001b[0m\u001b[1;33m.\u001b[0m\u001b[0mposicion\u001b[0m\u001b[1;33m[\u001b[0m\u001b[0mi\u001b[0m\u001b[1;33m,\u001b[0m \u001b[1;33m:\u001b[0m\u001b[1;33m]\u001b[0m\u001b[1;33m)\u001b[0m\u001b[1;33m\u001b[0m\u001b[0m\n\u001b[0m\u001b[0;32m     75\u001b[0m \u001b[1;33m\u001b[0m\u001b[0m\n\u001b[0;32m     76\u001b[0m         \u001b[0mself\u001b[0m\u001b[1;33m.\u001b[0m\u001b[0mdistancia\u001b[0m \u001b[1;33m=\u001b[0m \u001b[0mnp\u001b[0m\u001b[1;33m.\u001b[0m\u001b[0marray\u001b[0m\u001b[1;33m(\u001b[0m\u001b[0mdistancias\u001b[0m\u001b[1;33m)\u001b[0m\u001b[1;33m\u001b[0m\u001b[0m\n",
        "\u001b[1;31mIndexError\u001b[0m: list assignment index out of range"
       ]
      }
     ],
     "prompt_number": 109
    },
    {
     "cell_type": "code",
     "collapsed": false,
     "input": [
      "particula_2.mover(np.array([-30,0]), 10)"
     ],
     "language": "python",
     "metadata": {},
     "outputs": [],
     "prompt_number": 110
    },
    {
     "cell_type": "code",
     "collapsed": false,
     "input": [
      "particula_2.dibujar()"
     ],
     "language": "python",
     "metadata": {},
     "outputs": [
      {
       "metadata": {},
       "output_type": "display_data",
       "png": "[encoded data removed]",
       "text": [
        "<matplotlib.figure.Figure at 0x7fb6903dbc90>"
       ]
      }
     ],
     "prompt_number": 111
    },
    {
     "cell_type": "code",
     "collapsed": false,
     "input": [
      "particula_1.distancia(particula_2)"
     ],
     "language": "python",
     "metadata": {},
     "outputs": [
      {
       "ename": "IndexError",
       "evalue": "list assignment index out of range",
       "output_type": "pyerr",
       "traceback": [
        "\u001b[1;31m---------------------------------------------------------------------------\u001b[0m\n\u001b[1;31mIndexError\u001b[0m                                Traceback (most recent call last)",
        "\u001b[1;32m<ipython-input-112-737f9ce26847>\u001b[0m in \u001b[0;36m<module>\u001b[1;34m()\u001b[0m\n\u001b[1;32m----> 1\u001b[1;33m \u001b[0mparticula_1\u001b[0m\u001b[1;33m.\u001b[0m\u001b[0mdistancia\u001b[0m\u001b[1;33m(\u001b[0m\u001b[0mparticula_2\u001b[0m\u001b[1;33m)\u001b[0m\u001b[1;33m\u001b[0m\u001b[0m\n\u001b[0m",
        "\u001b[1;32m<ipython-input-96-d9ebe723d9a1>\u001b[0m in \u001b[0;36mdistancia\u001b[1;34m(self, otra_particula)\u001b[0m\n\u001b[0;32m     72\u001b[0m         \u001b[0mdistancias\u001b[0m \u001b[1;33m=\u001b[0m \u001b[1;33m[\u001b[0m\u001b[1;33m]\u001b[0m\u001b[1;33m\u001b[0m\u001b[0m\n\u001b[0;32m     73\u001b[0m         \u001b[1;32mfor\u001b[0m \u001b[0mi\u001b[0m \u001b[1;32min\u001b[0m \u001b[0mrange\u001b[0m\u001b[1;33m(\u001b[0m\u001b[1;36m0\u001b[0m\u001b[1;33m,\u001b[0m \u001b[0mself\u001b[0m\u001b[1;33m.\u001b[0m\u001b[0mdim\u001b[0m\u001b[1;33m)\u001b[0m\u001b[1;33m:\u001b[0m\u001b[1;33m\u001b[0m\u001b[0m\n\u001b[1;32m---> 74\u001b[1;33m             \u001b[0mdistancias\u001b[0m\u001b[1;33m[\u001b[0m\u001b[0mi\u001b[0m\u001b[1;33m]\u001b[0m \u001b[1;33m=\u001b[0m \u001b[0mnp\u001b[0m\u001b[1;33m.\u001b[0m\u001b[0mlinalg\u001b[0m\u001b[1;33m.\u001b[0m\u001b[0mnorm\u001b[0m\u001b[1;33m(\u001b[0m\u001b[0mself\u001b[0m\u001b[1;33m.\u001b[0m\u001b[0mposicion\u001b[0m\u001b[1;33m[\u001b[0m\u001b[0mi\u001b[0m\u001b[1;33m,\u001b[0m \u001b[1;33m:\u001b[0m\u001b[1;33m]\u001b[0m \u001b[1;33m-\u001b[0m \u001b[0motra_particula\u001b[0m\u001b[1;33m.\u001b[0m\u001b[0mposicion\u001b[0m\u001b[1;33m[\u001b[0m\u001b[0mi\u001b[0m\u001b[1;33m,\u001b[0m \u001b[1;33m:\u001b[0m\u001b[1;33m]\u001b[0m\u001b[1;33m)\u001b[0m\u001b[1;33m\u001b[0m\u001b[0m\n\u001b[0m\u001b[0;32m     75\u001b[0m \u001b[1;33m\u001b[0m\u001b[0m\n\u001b[0;32m     76\u001b[0m         \u001b[0mself\u001b[0m\u001b[1;33m.\u001b[0m\u001b[0mdistancia\u001b[0m \u001b[1;33m=\u001b[0m \u001b[0mnp\u001b[0m\u001b[1;33m.\u001b[0m\u001b[0marray\u001b[0m\u001b[1;33m(\u001b[0m\u001b[0mdistancias\u001b[0m\u001b[1;33m)\u001b[0m\u001b[1;33m\u001b[0m\u001b[0m\n",
        "\u001b[1;31mIndexError\u001b[0m: list assignment index out of range"
       ]
      }
     ],
     "prompt_number": 112
    },
    {
     "cell_type": "code",
     "collapsed": false,
     "input": [
      "class Universo:\n",
      "    \n",
      "    def __init__(self, radio, N, particulas):\n",
      "        self.radio = radio\n",
      "        self.N = N\n",
      "        self.particulas = particulas\n",
      "    \n",
      "    def step(self, dt):\n",
      "        pass\n",
      "    \n",
      "    def dibujar(self):\n",
      "        plt.figure(figsize = (10, 10), dpi = 80)\n",
      "        X = np.linspace(-self.radio, self.radio, 1000)\n",
      "        Y = np.sqrt((self.radio)**2 - X**2)\n",
      "        plt.scatter(0,0, color = \"b\")\n",
      "        plt.plot(X, Y, label = u\"L\u00edmites del universo\", color = 'r',  linewidth = 2.5, linestyle = \"--\")\n",
      "        plt.plot(X, -Y, color = 'r',  linewidth = 2.5, linestyle = \"--\")\n",
      "        plt.legend(loc = \"upper right\")\n",
      "                   \n",
      "    def simular(self):\n",
      "        pass"
     ],
     "language": "python",
     "metadata": {},
     "outputs": [],
     "prompt_number": 108
    },
    {
     "cell_type": "code",
     "collapsed": false,
     "input": [
      "U = Universo(15, 10, 10)"
     ],
     "language": "python",
     "metadata": {},
     "outputs": []
    },
    {
     "cell_type": "code",
     "collapsed": false,
     "input": [
      "U.dibujar()"
     ],
     "language": "python",
     "metadata": {},
     "outputs": []
    },
    {
     "cell_type": "code",
     "collapsed": false,
     "input": [],
     "language": "python",
     "metadata": {},
     "outputs": []
    },
    {
     "cell_type": "code",
     "collapsed": false,
     "input": [],
     "language": "python",
     "metadata": {},
     "outputs": []
    },
    {
     "cell_type": "code",
     "collapsed": false,
     "input": [],
     "language": "python",
     "metadata": {},
     "outputs": []
    },
    {
     "cell_type": "code",
     "collapsed": false,
     "input": [],
     "language": "python",
     "metadata": {},
     "outputs": []
    },
    {
     "cell_type": "code",
     "collapsed": false,
     "input": [],
     "language": "python",
     "metadata": {},
     "outputs": []
    },
    {
     "cell_type": "code",
     "collapsed": false,
     "input": [],
     "language": "python",
     "metadata": {},
     "outputs": []
    },
    {
     "cell_type": "code",
     "collapsed": false,
     "input": [],
     "language": "python",
     "metadata": {},
     "outputs": []
    },
    {
     "cell_type": "code",
     "collapsed": false,
     "input": [],
     "language": "python",
     "metadata": {},
     "outputs": []
    },
    {
     "cell_type": "code",
     "collapsed": false,
     "input": [],
     "language": "python",
     "metadata": {},
     "outputs": []
    },
    {
     "cell_type": "code",
     "collapsed": false,
     "input": [],
     "language": "python",
     "metadata": {},
     "outputs": []
    },
    {
     "cell_type": "code",
     "collapsed": false,
     "input": [],
     "language": "python",
     "metadata": {},
     "outputs": []
    }
   ],
   "metadata": {}
  }
 ]
}