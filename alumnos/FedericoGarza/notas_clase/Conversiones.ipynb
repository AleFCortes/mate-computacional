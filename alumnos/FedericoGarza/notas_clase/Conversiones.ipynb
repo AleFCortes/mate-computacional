{
 "metadata": {
  "name": "",
  "signature": "sha256:db4f73882f0bfad4c1cc7da24c60aa3f2a61015d1f86941a74c9ab51394f21ac"
 },
 "nbformat": 3,
 "nbformat_minor": 0,
 "worksheets": [
  {
   "cells": [
    {
     "cell_type": "code",
     "collapsed": false,
     "input": [
      "def decimalToBinary(x):\n",
      "    assert(x>-129 and x<128)\n",
      "    binario=\"\"\n",
      "    for i in [7,6,5,4,3,2,1,0]:\n",
      "        if x%2**i==0:\n",
      "            binario=binario+\"1\"\n",
      "            x=x/2**i\n",
      "        else:\n",
      "            binario=binario+\"0\" \n",
      "    return cadena       "
     ],
     "language": "python",
     "metadata": {},
     "outputs": [],
     "prompt_number": 61
    },
    {
     "cell_type": "code",
     "collapsed": false,
     "input": [
      "decimalToBinary(-3)"
     ],
     "language": "python",
     "metadata": {},
     "outputs": [
      {
       "metadata": {},
       "output_type": "pyout",
       "prompt_number": 68,
       "text": [
        "'00000001'"
       ]
      }
     ],
     "prompt_number": 68
    },
    {
     "cell_type": "code",
     "collapsed": false,
     "input": [],
     "language": "python",
     "metadata": {},
     "outputs": [],
     "prompt_number": 51
    },
    {
     "cell_type": "code",
     "collapsed": false,
     "input": [],
     "language": "python",
     "metadata": {},
     "outputs": []
    }
   ],
   "metadata": {}
  }
 ]
}