{
 "metadata": {
  "name": "",
  "signature": "sha256:a8ca964a5a5397210329e16dcef667741349e33aefc0cc57f5fa2715a21b4392"
 },
 "nbformat": 3,
 "nbformat_minor": 0,
 "worksheets": [
  {
   "cells": [
    {
     "cell_type": "code",
     "collapsed": false,
     "input": [
      "#Ra\u00edces de funciones no lineales: usaremos m\u00e9todos iterativos para resolver f(x)=0"
     ],
     "language": "python",
     "metadata": {},
     "outputs": [],
     "prompt_number": 7
    },
    {
     "cell_type": "code",
     "collapsed": false,
     "input": [
      "%matplotlib inline\n",
      "import numpy as np\n",
      "import matplotlib.pyplot as plt"
     ],
     "language": "python",
     "metadata": {},
     "outputs": [],
     "prompt_number": 3
    },
    {
     "cell_type": "code",
     "collapsed": false,
     "input": [
      "#M\u00e9todo de la bisecci\u00f3n:\n",
      "#Usando teorema de Bolzano. \n",
      "#Un intervalo r de cambio de signo, se parte a la mitad en r1 y r2 y checamos cambios de signo en cada intervalo... repetimos.\n",
      "#Tenemos el problema de los n\u00fameros flotantes: p\u00e9rdida de precisi\u00f3n en la multiplicaci\u00f3n, cancelaci\u00f3n catastr\u00f3fica, etc.\n"
     ],
     "language": "python",
     "metadata": {},
     "outputs": [],
     "prompt_number": 9
    },
    {
     "cell_type": "code",
     "collapsed": false,
     "input": [
      "#Ejemplo:"
     ],
     "language": "python",
     "metadata": {},
     "outputs": [],
     "prompt_number": 10
    },
    {
     "cell_type": "code",
     "collapsed": false,
     "input": [
      "x = np.linspace(-0.5, 1.5, 100)\n",
      "y = x**2 - 1\n",
      "plt.plot(x, y, color=\"red\")\n",
      "ax = plt.gca()  \n",
      "ax.spines['right'].set_color('none')\n",
      "ax.spines['top'].set_color('none')\n",
      "ax.xaxis.set_ticks_position('bottom')\n",
      "ax.spines['bottom'].set_position(('data',0))\n",
      "ax.yaxis.set_ticks_position('left')\n",
      "ax.spines['left'].set_position(('data',0))"
     ],
     "language": "python",
     "metadata": {},
     "outputs": [
      {
       "metadata": {},
       "output_type": "display_data",
       "png": "[encoded data removed]",
       "text": [
        "<matplotlib.figure.Figure at 0x7fd8b884b990>"
       ]
      }
     ],
     "prompt_number": 11
    },
    {
     "cell_type": "code",
     "collapsed": false,
     "input": [
      "#FUNCIONES AN\u00d3MIMAS (Poderoso)"
     ],
     "language": "python",
     "metadata": {},
     "outputs": [],
     "prompt_number": 12
    },
    {
     "cell_type": "code",
     "collapsed": false,
     "input": [
      "f = lambda x: x**2-1 #Funci\u00f3n an\u00f3nima en Octave es f = @(x) x.**2 - 1"
     ],
     "language": "python",
     "metadata": {},
     "outputs": [],
     "prompt_number": 3
    },
    {
     "cell_type": "code",
     "collapsed": false,
     "input": [
      "f(-0.05)"
     ],
     "language": "python",
     "metadata": {},
     "outputs": [
      {
       "metadata": {},
       "output_type": "pyout",
       "prompt_number": 14,
       "text": [
        "-0.9975"
       ]
      }
     ],
     "prompt_number": 14
    },
    {
     "cell_type": "code",
     "collapsed": false,
     "input": [
      "f(-0.25)"
     ],
     "language": "python",
     "metadata": {},
     "outputs": [
      {
       "metadata": {},
       "output_type": "pyout",
       "prompt_number": 15,
       "text": [
        "-0.9375"
       ]
      }
     ],
     "prompt_number": 15
    },
    {
     "cell_type": "code",
     "collapsed": false,
     "input": [
      "f(1.25)"
     ],
     "language": "python",
     "metadata": {},
     "outputs": [
      {
       "metadata": {},
       "output_type": "pyout",
       "prompt_number": 16,
       "text": [
        "0.5625"
       ]
      }
     ],
     "prompt_number": 16
    },
    {
     "cell_type": "code",
     "collapsed": false,
     "input": [
      "#An\u00e1logo a una funci\u00f3n an\u00f3nima:\n",
      "#def f(x):\n",
      "#   x**2-1"
     ],
     "language": "python",
     "metadata": {},
     "outputs": [],
     "prompt_number": 18
    },
    {
     "cell_type": "code",
     "collapsed": false,
     "input": [
      "#Implementaci\u00f3n"
     ],
     "language": "python",
     "metadata": {},
     "outputs": [],
     "prompt_number": 19
    },
    {
     "cell_type": "code",
     "collapsed": false,
     "input": [
      "def biseccion(func, a, b, stop): #Stop es el n\u00famero de pasos\n",
      "    x= (a + b)/2\n",
      "    \n",
      "    assert f(a)*f(b) < 0, \"El signo de la funci\u00f3n en los extremos deber\u00eda de ser diferente\"\n",
      "    assert f(a) != 0, \"La ra\u00edz es %.5f\" % a\n",
      "    assert f(b) != 0, \"La ra\u00edz es %.5f\" % b\n",
      "    \n",
      "    print \"%s\\t%12s\\t%12s\" % (\"k\", \"I(a,b)\", \"x\") # %s cadena, \\t%12 tabulador 12 \n",
      "    print \"%d\\tI(%.5f, %.5f)\\t%.5f\" % (0,a, b, x) # %d d\u00edgito, %.5 decimal\n",
      "    \n",
      "    for k in range(stop):        # Rango da de 1 hasta stop-1\n",
      "        f_x = f(x)            # Se coloca el c\u00e1lculo separado para optimizar las operaciones\n",
      "        f_a = f(a)\n",
      "        f_b = f(b)      \n",
      "\n",
      "        if(f_a*f_x < 0):\n",
      "            a, b = a, x\n",
      "        elif(f_x*f_b < 0):\n",
      "            a, b = x, b\n",
      "        x = (a+b)/2\n",
      "        \n",
      "        print \"%d\\tI(%.5f, %.5f)\\t%.16f\" % (k+1, a, b, x) # .16 N\u00famero m\u00e1ximo de decimales soportado"
     ],
     "language": "python",
     "metadata": {},
     "outputs": [],
     "prompt_number": 83
    },
    {
     "cell_type": "code",
     "collapsed": false,
     "input": [
      "biseccion(func = f, a = -0.25, b = 1.25, stop = 10)"
     ],
     "language": "python",
     "metadata": {},
     "outputs": [
      {
       "output_type": "stream",
       "stream": "stdout",
       "text": [
        "k\t      I(a,b)\t           x\n",
        "0\tI(-0.25000, 1.25000)\t0.50000\n",
        "1\tI(0.50000, 1.25000)\t0.8750000000000000\n",
        "2\tI(0.87500, 1.25000)\t1.0625000000000000\n",
        "3\tI(0.87500, 1.06250)\t0.9687500000000000\n",
        "4\tI(0.96875, 1.06250)\t1.0156250000000000\n",
        "5\tI(0.96875, 1.01562)\t0.9921875000000000\n",
        "6\tI(0.99219, 1.01562)\t1.0039062500000000\n",
        "7\tI(0.99219, 1.00391)\t0.9980468750000000\n",
        "8\tI(0.99805, 1.00391)\t1.0009765625000000\n",
        "9\tI(0.99805, 1.00098)\t0.9995117187500000\n",
        "10\tI(0.99951, 1.00098)\t1.0002441406250000\n"
       ]
      }
     ],
     "prompt_number": 84
    },
    {
     "cell_type": "code",
     "collapsed": false,
     "input": [
      "#Implementaci\u00f3n con Numpy"
     ],
     "language": "python",
     "metadata": {},
     "outputs": [],
     "prompt_number": 85
    },
    {
     "cell_type": "code",
     "collapsed": false,
     "input": [
      "f(np.array([0,1,2]))"
     ],
     "language": "python",
     "metadata": {},
     "outputs": [
      {
       "metadata": {},
       "output_type": "pyout",
       "prompt_number": 86,
       "text": [
        "array([-1,  0,  3])"
       ]
      }
     ],
     "prompt_number": 86
    },
    {
     "cell_type": "code",
     "collapsed": false,
     "input": [
      "# Usando numpy"
     ],
     "language": "python",
     "metadata": {},
     "outputs": [],
     "prompt_number": 87
    },
    {
     "cell_type": "code",
     "collapsed": false,
     "input": [
      "def biseccionNumpy(func, a, b, stop): #Stop es el n\u00famero de pasos\n",
      "    x= (a + b)/2\n",
      "    \n",
      "    assert f(a)*f(b) < 0, \"El signo de la funci\u00f3n en los extremos deber\u00eda de ser diferente\"\n",
      "    assert f(a) != 0, \"La ra\u00edz es %.5f\" % a\n",
      "    assert f(b) != 0, \"La ra\u00edz es %.5f\" % b\n",
      "    \n",
      "    print \"%s\\t%12s\\t%12s\" % (\"k\", \"I(a,b)\", \"x\") # %s cadena, \\t%12 tabulador 12 \n",
      "    print \"%d\\tI(%.5f, %.5f)\\t%.5f\" % (0,a, b, x) # %d d\u00edgito, %.5 decimal\n",
      "    \n",
      "    for k in range(stop):        # Rango va de 1 hasta stop-1\n",
      "                \n",
      "        arreglo=f(np.array([a, x, b]))\n",
      "        \n",
      "        if(arreglo[0]*arreglo[1] < 0):\n",
      "            a, b = a, x\n",
      "        elif(arreglo[1]*arreglo[2] < 0):\n",
      "            a, b = x, b\n",
      "        x = (a + b)/2\n",
      "        \n",
      "        print \"%d\\tI(%.5f, %.5f)\\t%.16f\" % (k+1, a, b, x) # .16 N\u00famero m\u00e1ximo de decimales soportado"
     ],
     "language": "python",
     "metadata": {},
     "outputs": [],
     "prompt_number": 15
    },
    {
     "cell_type": "code",
     "collapsed": false,
     "input": [
      "biseccionNumpy(func = f, a = -.25, b = 1.25, stop = 10)"
     ],
     "language": "python",
     "metadata": {},
     "outputs": [
      {
       "output_type": "stream",
       "stream": "stdout",
       "text": [
        "k\t      I(a,b)\t           x\n",
        "0\tI(-0.25000, 1.25000)\t0.50000\n",
        "1\tI(0.50000, 1.25000)\t0.8750000000000000\n",
        "2\tI(0.87500, 1.25000)\t1.0625000000000000\n",
        "3\tI(0.87500, 1.06250)\t0.9687500000000000\n",
        "4\tI(0.96875, 1.06250)\t1.0156250000000000\n",
        "5\tI(0.96875, 1.01562)\t0.9921875000000000\n",
        "6\tI(0.99219, 1.01562)\t1.0039062500000000\n",
        "7\tI(0.99219, 1.00391)\t0.9980468750000000\n",
        "8\tI(0.99805, 1.00391)\t1.0009765625000000\n",
        "9\tI(0.99805, 1.00098)\t0.9995117187500000\n",
        "10\tI(0.99951, 1.00098)\t1.0002441406250000\n"
       ]
      }
     ],
     "prompt_number": 89
    },
    {
     "cell_type": "code",
     "collapsed": false,
     "input": [
      "# Hacer gr\u00e1fica de acercamiento de los valores en el gr\u00e1fico original"
     ],
     "language": "python",
     "metadata": {},
     "outputs": [],
     "prompt_number": 90
    },
    {
     "cell_type": "code",
     "collapsed": false,
     "input": [
      "def imprimeGrafica(a, b, r):\n",
      "    x = np.linspace(-0.5, 1.5, 100)\n",
      "    y = x**2 - 1\n",
      "    plt.plot(x, y, color=\"red\")\n",
      "    plt.plot(r, r**2-1, 'b.-')\n",
      "    plt.xlim(a,b)\n",
      "    ax = plt.gca()  \n",
      "    ax.spines['right'].set_color('none')\n",
      "    ax.spines['top'].set_color('none')\n",
      "    ax.xaxis.set_ticks_position('bottom')\n",
      "    ax.spines['bottom'].set_position(('data',0))\n",
      "    ax.yaxis.set_ticks_position('left')\n",
      "    ax.spines['left'].set_position(('data',0))"
     ],
     "language": "python",
     "metadata": {},
     "outputs": [],
     "prompt_number": 94
    },
    {
     "cell_type": "code",
     "collapsed": false,
     "input": [
      "def biseccionImprimeGrafica(func, a, b, stop): #Stop es el n\u00famero de pasos\n",
      "    x= (a + b)/2\n",
      "    \n",
      "    assert f(a)*f(b) < 0, \"El signo de la funci\u00f3n en los extremos deber\u00eda de ser diferente\"\n",
      "    assert f(a) != 0, \"La ra\u00edz es %.5f\" % a\n",
      "    assert f(b) != 0, \"La ra\u00edz es %.5f\" % b\n",
      "    \n",
      "    print \"%s\\t%12s\\t%12s\" % (\"k\", \"I(a,b)\", \"x\") # %s cadena, \\t%12 tabulador 12 \n",
      "    print \"%d\\tI(%.5f, %.5f)\\t%.5f\" % (0,a, b, x) # %d d\u00edgito, %.5 decimal\n",
      "    \n",
      "    for k in range(stop):        # Rango da de 1 hasta stop-1\n",
      "        f_x = f(x)            # Se coloca el c\u00e1lculo separado para optimizar las operaciones\n",
      "        f_a = f(a)\n",
      "        f_b = f(b)      \n",
      "        \n",
      "        imprimeGrafica(a = a, b = b, r = x)\n",
      "        \n",
      "        if(f_a*f_x < 0):\n",
      "            a, b = a, x\n",
      "        elif(f_x*f_b < 0):\n",
      "            a, b = x, b\n",
      "        x = (a+b)/2\n",
      "        \n",
      "        print \"%d\\tI(%.5f, %.5f)\\t%.16f\" % (k+1, a, b, x) # .16 N\u00famero m\u00e1ximo de decimales soportado"
     ],
     "language": "python",
     "metadata": {},
     "outputs": [],
     "prompt_number": 95
    },
    {
     "cell_type": "code",
     "collapsed": false,
     "input": [
      "# Observar que este m\u00e9todo no es tan eficiente pues si le das los puntos -2 y 2 el c\u00f3digo truena"
     ],
     "language": "python",
     "metadata": {},
     "outputs": [],
     "prompt_number": 80
    },
    {
     "cell_type": "code",
     "collapsed": false,
     "input": [
      "# Con tolerancia"
     ],
     "language": "python",
     "metadata": {},
     "outputs": [],
     "prompt_number": 1
    },
    {
     "cell_type": "code",
     "collapsed": false,
     "input": [
      "def biseccion(func, a, b, tolerancia, stop):\n",
      "    k = 0\n",
      "    \n",
      "    x = (a + b)/2\n",
      "    \n",
      "    I = (b - a)/2\n",
      "    \n",
      "    assert func(a)*func(b) < 0, \"El signo de la funci\u00f3n en los extremos deber\u00eda de ser diferente\"\n",
      "    assert func(a) != 0, \"La ra\u00edz es %.5f\" % a\n",
      "    assert func(b) != 0, \"La ra\u00edz es %.5f\" % b\n",
      "    \n",
      "    print \"%s\\t%12s\\t%12s\" % (\"k\",\"I(a,b)\", \"x\")\n",
      "    print \"%s\\tI(%.5f, %.5f)\\t%.5f\" % (\"0\",a, b, x)\n",
      "    \n",
      "    while I >= tolerancia and k <= stop:\n",
      "        k = k + 1\n",
      "        \n",
      "        f_x = func(x)\n",
      "        f_a = func(a)\n",
      "        f_b = func(b)        \n",
      "        \n",
      "        \n",
      "        if(f_a*f_x < 0):\n",
      "            a, b = a, x\n",
      "        elif(f_x*f_b < 0):\n",
      "            a, b = x, b\n",
      "        \n",
      "        x = (a+b)/2\n",
      "        \n",
      "        I = (b - a)/2\n",
      "        \n",
      "        print \"%d\\tI(%.5f, %.5f)\\t%.12f\" % (k,a, b, x)"
     ],
     "language": "python",
     "metadata": {},
     "outputs": [],
     "prompt_number": 4
    },
    {
     "cell_type": "code",
     "collapsed": false,
     "input": [
      "biseccion(func = f, a = -0.25, b = 1.25, tolerancia = 1e-4, stop = 100)"
     ],
     "language": "python",
     "metadata": {},
     "outputs": [
      {
       "output_type": "stream",
       "stream": "stdout",
       "text": [
        "k\t      I(a,b)\t           x\n",
        "0\tI(-0.25000, 1.25000)\t0.50000\n",
        "1\tI(0.50000, 1.25000)\t0.875000000000\n",
        "2\tI(0.87500, 1.25000)\t1.062500000000\n",
        "3\tI(0.87500, 1.06250)\t0.968750000000\n",
        "4\tI(0.96875, 1.06250)\t1.015625000000\n",
        "5\tI(0.96875, 1.01562)\t0.992187500000\n",
        "6\tI(0.99219, 1.01562)\t1.003906250000\n",
        "7\tI(0.99219, 1.00391)\t0.998046875000\n",
        "8\tI(0.99805, 1.00391)\t1.000976562500\n",
        "9\tI(0.99805, 1.00098)\t0.999511718750\n",
        "10\tI(0.99951, 1.00098)\t1.000244140625\n",
        "11\tI(0.99951, 1.00024)\t0.999877929688\n",
        "12\tI(0.99988, 1.00024)\t1.000061035156\n",
        "13\tI(0.99988, 1.00006)\t0.999969482422\n"
       ]
      }
     ],
     "prompt_number": 5
    },
    {
     "cell_type": "code",
     "collapsed": false,
     "input": [
      "#  M\u00e9todo de Newton"
     ],
     "language": "python",
     "metadata": {},
     "outputs": [],
     "prompt_number": 6
    },
    {
     "cell_type": "code",
     "collapsed": false,
     "input": [
      "# Para aplicar el m\u00e9todo de Newton y de la bisecci\u00f3n simult\u00e1neamente, es necesario estar en el intervalo de la mitad del periodo\n",
      "# de oscilaci\u00f3n"
     ],
     "language": "python",
     "metadata": {},
     "outputs": [],
     "prompt_number": 7
    },
    {
     "cell_type": "code",
     "collapsed": false,
     "input": [
      "import sympy as sym\n",
      "\n",
      "# Para que se vean bonitas\n",
      "from sympy.interactive import printing\n",
      "printing.init_printing(use_latex=True)"
     ],
     "language": "python",
     "metadata": {},
     "outputs": [],
     "prompt_number": 8
    },
    {
     "cell_type": "code",
     "collapsed": false,
     "input": [
      "x=sym.Symbol('x')"
     ],
     "language": "python",
     "metadata": {},
     "outputs": [],
     "prompt_number": 15
    },
    {
     "cell_type": "code",
     "collapsed": false,
     "input": [
      "x"
     ],
     "language": "python",
     "metadata": {},
     "outputs": [
      {
       "latex": [
        "$$x$$"
       ],
       "metadata": {},
       "output_type": "pyout",
       "png": "[encoded data removed]",
       "prompt_number": 16,
       "text": [
        "x"
       ]
      }
     ],
     "prompt_number": 16
    },
    {
     "cell_type": "code",
     "collapsed": false,
     "input": [
      "f = x**2-1 \n",
      "f"
     ],
     "language": "python",
     "metadata": {},
     "outputs": [
      {
       "latex": [
        "$$x^{2} - 1$$"
       ],
       "metadata": {},
       "output_type": "pyout",
       "png": "[encoded data removed]",
       "prompt_number": 29,
       "text": [
        " 2    \n",
        "x  - 1"
       ]
      }
     ],
     "prompt_number": 29
    },
    {
     "cell_type": "code",
     "collapsed": false,
     "input": [
      "type(f) # Sin el -1, el tipo es power"
     ],
     "language": "python",
     "metadata": {},
     "outputs": [
      {
       "metadata": {},
       "output_type": "pyout",
       "prompt_number": 51,
       "text": [
        "sympy.core.add.Add"
       ]
      }
     ],
     "prompt_number": 51
    },
    {
     "cell_type": "code",
     "collapsed": false,
     "input": [
      "._bases_"
     ],
     "language": "python",
     "metadata": {},
     "outputs": [
      {
       "ename": "SyntaxError",
       "evalue": "invalid syntax (<ipython-input-53-524afda5a4fd>, line 1)",
       "output_type": "pyerr",
       "traceback": [
        "\u001b[1;36m  File \u001b[1;32m\"<ipython-input-53-524afda5a4fd>\"\u001b[1;36m, line \u001b[1;32m1\u001b[0m\n\u001b[1;33m    ._bases_\u001b[0m\n\u001b[1;37m    ^\u001b[0m\n\u001b[1;31mSyntaxError\u001b[0m\u001b[1;31m:\u001b[0m invalid syntax\n"
       ]
      }
     ],
     "prompt_number": 53
    },
    {
     "cell_type": "code",
     "collapsed": false,
     "input": [
      "type(f)._bases_"
     ],
     "language": "python",
     "metadata": {},
     "outputs": [
      {
       "ename": "AttributeError",
       "evalue": "type object 'Add' has no attribute '_bases_'",
       "output_type": "pyerr",
       "traceback": [
        "\u001b[1;31m---------------------------------------------------------------------------\u001b[0m\n\u001b[1;31mAttributeError\u001b[0m                            Traceback (most recent call last)",
        "\u001b[1;32m<ipython-input-54-cb1b8b5956e9>\u001b[0m in \u001b[0;36m<module>\u001b[1;34m()\u001b[0m\n\u001b[1;32m----> 1\u001b[1;33m \u001b[0mtype\u001b[0m\u001b[1;33m(\u001b[0m\u001b[0mf\u001b[0m\u001b[1;33m)\u001b[0m\u001b[1;33m.\u001b[0m\u001b[0m_bases_\u001b[0m\u001b[1;33m\u001b[0m\u001b[0m\n\u001b[0m",
        "\u001b[1;31mAttributeError\u001b[0m: type object 'Add' has no attribute '_bases_'"
       ]
      }
     ],
     "prompt_number": 54
    },
    {
     "cell_type": "code",
     "collapsed": false,
     "input": [
      "type(f)._bases_[0] in (sym.expr.Expr, sym.operations.AssocOp)"
     ],
     "language": "python",
     "metadata": {},
     "outputs": [
      {
       "ename": "AttributeError",
       "evalue": "type object 'Add' has no attribute '_bases_'",
       "output_type": "pyerr",
       "traceback": [
        "\u001b[1;31m---------------------------------------------------------------------------\u001b[0m\n\u001b[1;31mAttributeError\u001b[0m                            Traceback (most recent call last)",
        "\u001b[1;32m<ipython-input-55-1378338f7cf7>\u001b[0m in \u001b[0;36m<module>\u001b[1;34m()\u001b[0m\n\u001b[1;32m----> 1\u001b[1;33m \u001b[0mtype\u001b[0m\u001b[1;33m(\u001b[0m\u001b[0mf\u001b[0m\u001b[1;33m)\u001b[0m\u001b[1;33m.\u001b[0m\u001b[0m_bases_\u001b[0m\u001b[1;33m[\u001b[0m\u001b[1;36m0\u001b[0m\u001b[1;33m]\u001b[0m \u001b[1;32min\u001b[0m \u001b[1;33m(\u001b[0m\u001b[0msym\u001b[0m\u001b[1;33m.\u001b[0m\u001b[0mexpr\u001b[0m\u001b[1;33m.\u001b[0m\u001b[0mExpr\u001b[0m\u001b[1;33m,\u001b[0m \u001b[0msym\u001b[0m\u001b[1;33m.\u001b[0m\u001b[0moperations\u001b[0m\u001b[1;33m.\u001b[0m\u001b[0mAssocOp\u001b[0m\u001b[1;33m)\u001b[0m\u001b[1;33m\u001b[0m\u001b[0m\n\u001b[0m",
        "\u001b[1;31mAttributeError\u001b[0m: type object 'Add' has no attribute '_bases_'"
       ]
      }
     ],
     "prompt_number": 55
    },
    {
     "cell_type": "code",
     "collapsed": false,
     "input": [
      "df = sym.diff(f,x)\n",
      "df"
     ],
     "language": "python",
     "metadata": {},
     "outputs": [
      {
       "latex": [
        "$$2 x$$"
       ],
       "metadata": {},
       "output_type": "pyout",
       "png": "[encoded data removed]",
       "prompt_number": 56,
       "text": [
        "2\u22c5x"
       ]
      }
     ],
     "prompt_number": 56
    },
    {
     "cell_type": "code",
     "collapsed": false,
     "input": [
      "F = sym.lambdify(x,f, modules=\"numpy\") # Para que funcione como lambda\n",
      "F"
     ],
     "language": "python",
     "metadata": {},
     "outputs": [
      {
       "metadata": {},
       "output_type": "pyout",
       "prompt_number": 57,
       "text": [
        "<function numpy.<lambda>>"
       ]
      }
     ],
     "prompt_number": 57
    },
    {
     "cell_type": "code",
     "collapsed": false,
     "input": [
      "F(-0.3)"
     ],
     "language": "python",
     "metadata": {},
     "outputs": [
      {
       "latex": [
        "$$-0.91$$"
       ],
       "metadata": {},
       "output_type": "pyout",
       "png": "[encoded data removed]",
       "prompt_number": 58,
       "text": [
        "-0.91"
       ]
      }
     ],
     "prompt_number": 58
    },
    {
     "cell_type": "code",
     "collapsed": false,
     "input": [
      "DF = sym.lambdify(x, df, modules=\"numpy\")\n",
      "DF"
     ],
     "language": "python",
     "metadata": {},
     "outputs": [
      {
       "metadata": {},
       "output_type": "pyout",
       "prompt_number": 59,
       "text": [
        "<function numpy.<lambda>>"
       ]
      }
     ],
     "prompt_number": 59
    },
    {
     "cell_type": "code",
     "collapsed": false,
     "input": [
      "#  M\u00e9todo de Newton (notar que truena cuando la derivad a es cero)"
     ],
     "language": "python",
     "metadata": {},
     "outputs": [],
     "prompt_number": 60
    },
    {
     "cell_type": "code",
     "collapsed": false,
     "input": [
      "def newton(f, x0, tolerancia, stop):\n",
      "    assert type(f).__bases__[0]  in (sym.expr.Expr, sym.operations.AssocOp), \"La funci\u00f3n no es una expresi\u00f3n simb\u00f3lica ... :/\"\n",
      "    \n",
      "    # Derivamos la expresi\u00f3n\n",
      "    df = sym.diff(f, x)\n",
      "    \n",
      "    # Convertimos en funciones las expresiones\n",
      "    F = sym.lambdify(x,f, modules=\"numpy\")\n",
      "    DF = sym.lambdify(x, df, modules=\"numpy\")\n",
      "    \n",
      "    # Inicializamos el contador\n",
      "    k = 0\n",
      "    \n",
      "    # Inicializamos abs(x1-x0) en un n\u00famero mayor que la tolerancia\n",
      "    diff = 1\n",
      "    print \"{: >5} {: >10} {: >10} {: >10} {: >11} {: >10}\".format(\"k\", \"x0\", \"F(x0)\", \"DF(x0)\", \"abs(x1-x0)\", \"x1\")\n",
      "    \n",
      "    while diff >= tolerancia and k <= stop:\n",
      "        k = k + 1\n",
      "\n",
      "        x1 = x0 - (float(F(x0)/DF(x0)))\n",
      "        print \"{: >5} {: >10.5f} {: >10.5f} {: >10.5f} {: >10.5f} {: >11.5f}\".format(k, x0, F(x0), DF(x0), diff, x1)\n",
      "        \n",
      "        diff = abs(x1 - x0)\n",
      "        \n",
      "        x0 = x1\n",
      "        \n",
      "    if k > stop:\n",
      "        print \"El m\u00e9todo de Newton no convergi\u00f3: para la tolerancia especificada, se alcanzaron el m\u00e1ximo n\u00famero de iteraciones\"\n",
      "    \n",
      "    print \"\\n\\nLa ra\u00edz es %2.12f\" % x0"
     ],
     "language": "python",
     "metadata": {},
     "outputs": [],
     "prompt_number": 61
    },
    {
     "cell_type": "code",
     "collapsed": false,
     "input": [
      "newton(f, x0=0.3, tolerancia=1e-12, stop=100)"
     ],
     "language": "python",
     "metadata": {},
     "outputs": [
      {
       "output_type": "stream",
       "stream": "stdout",
       "text": [
        "    k         x0      F(x0)     DF(x0)  abs(x1-x0)         x1\n",
        "    1    0.30000   -0.91000    0.60000    1.00000     1.81667\n",
        "    2    1.81667    2.30028    3.63333    1.51667     1.18356\n",
        "    3    1.18356    0.40082    2.36713    0.63310     1.01423\n",
        "    4    1.01423    0.02867    2.02847    0.16933     1.00010\n",
        "    5    1.00010    0.00020    2.00020    0.01413     1.00000\n",
        "    6    1.00000    0.00000    2.00000    0.00010     1.00000\n",
        "    7    1.00000    0.00000    2.00000    0.00000     1.00000\n",
        "\n",
        "\n",
        "La ra\u00edz es 1.000000000000\n"
       ]
      }
     ],
     "prompt_number": 62
    },
    {
     "cell_type": "code",
     "collapsed": false,
     "input": [
      "# Newton sin expresiones simb\u00f3licas"
     ],
     "language": "python",
     "metadata": {},
     "outputs": [],
     "prompt_number": 63
    },
    {
     "cell_type": "code",
     "collapsed": false,
     "input": [
      "def newton2(f, derivada, x0, tolerancia, stop):\n",
      "    \n",
      "    # Inicializamos el contador\n",
      "    k = 0\n",
      "    \n",
      "    # Inicializamos abs(x1-x0) en un n\u00famero mayor que la tolerancia\n",
      "    diff = 1\n",
      "    print \"{: >5} {: >10} {: >10} {: >10} {: >11} {: >10}\".format(\"k\", \"x0\", \"F(x0)\", \"DF(x0)\", \"abs(x1-x0)\", \"x1\")\n",
      "    \n",
      "    while diff >= tolerancia and k <= stop:\n",
      "        k = k + 1\n",
      "\n",
      "        x1 = x0 - (float(f(x0)/derivada(x0)))\n",
      "        print \"{: >5} {: >10.5f} {: >10.5f} {: >10.5f} {: >10.5f} {: >11.5f}\".format(k, x0, f(x0), derivada(x0), diff, x1)\n",
      "        \n",
      "        diff = abs(x1 - x0)\n",
      "        \n",
      "        x0 = x1\n",
      "        \n",
      "    if k > stop:\n",
      "        print \"El m\u00e9todo de Newton no convergi\u00f3: para la tolerancia especificada, se alcanzaron el m\u00e1ximo n\u00famero de iteraciones\"\n",
      "    \n",
      "    print \"\\n\\nLa ra\u00edz es %2.12f\" % x0"
     ],
     "language": "python",
     "metadata": {},
     "outputs": [],
     "prompt_number": 23
    },
    {
     "cell_type": "code",
     "collapsed": false,
     "input": [
      "g = lambda x: x**2-1\n",
      "g_prima = lambda x: 2*x"
     ],
     "language": "python",
     "metadata": {},
     "outputs": [],
     "prompt_number": 66
    },
    {
     "cell_type": "code",
     "collapsed": false,
     "input": [
      "newton2(f = g, derivada = g_prima, x0 = 0.3, tolerancia = 1e-12, stop = 100)"
     ],
     "language": "python",
     "metadata": {},
     "outputs": [
      {
       "output_type": "stream",
       "stream": "stdout",
       "text": [
        "    k         x0      F(x0)     DF(x0)  abs(x1-x0)         x1\n",
        "    1    0.30000   -0.91000    0.60000    1.00000     1.81667\n",
        "    2    1.81667    2.30028    3.63333    1.51667     1.18356\n",
        "    3    1.18356    0.40082    2.36713    0.63310     1.01423\n",
        "    4    1.01423    0.02867    2.02847    0.16933     1.00010\n",
        "    5    1.00010    0.00020    2.00020    0.01413     1.00000\n",
        "    6    1.00000    0.00000    2.00000    0.00010     1.00000\n",
        "    7    1.00000    0.00000    2.00000    0.00000     1.00000\n",
        "\n",
        "\n",
        "La ra\u00edz es 1.000000000000\n"
       ]
      }
     ],
     "prompt_number": 68
    },
    {
     "cell_type": "code",
     "collapsed": false,
     "input": [
      "# f(x)=e**-x - x, x0=0"
     ],
     "language": "python",
     "metadata": {},
     "outputs": [],
     "prompt_number": 75
    },
    {
     "cell_type": "code",
     "collapsed": false,
     "input": [
      "import math"
     ],
     "language": "python",
     "metadata": {},
     "outputs": [],
     "prompt_number": 4
    },
    {
     "cell_type": "code",
     "collapsed": false,
     "input": [
      "x = np.linspace(-20, 20, 100)\n",
      "y = np.exp(-x) - x\n",
      "plt.plot(x, y, color=\"red\")\n",
      "plt.ylim(-2,2)\n",
      "plt.xlim(0,5)\n",
      "ax = plt.gca()  \n",
      "ax.spines['right'].set_color('none')\n",
      "ax.spines['top'].set_color('none')\n",
      "ax.xaxis.set_ticks_position('bottom')\n",
      "ax.spines['bottom'].set_position(('data',0))\n",
      "ax.yaxis.set_ticks_position('left')\n",
      "ax.spines['left'].set_position(('data',0))"
     ],
     "language": "python",
     "metadata": {},
     "outputs": [
      {
       "metadata": {},
       "output_type": "display_data",
       "png": "[encoded data removed]",
       "text": [
        "<matplotlib.figure.Figure at 0x7f08bb30d890>"
       ]
      }
     ],
     "prompt_number": 16
    },
    {
     "cell_type": "code",
     "collapsed": false,
     "input": [
      "f = lambda x: np.exp(-x) - x\n",
      "f_prima = lambda x: (-1)*np.exp(-x) - 1"
     ],
     "language": "python",
     "metadata": {},
     "outputs": [],
     "prompt_number": 35
    },
    {
     "cell_type": "code",
     "collapsed": false,
     "input": [
      "biseccionNumpy(func = f, a =.1 , b = 1, stop = 10)"
     ],
     "language": "python",
     "metadata": {},
     "outputs": [
      {
       "output_type": "stream",
       "stream": "stdout",
       "text": [
        "k\t      I(a,b)\t           x\n",
        "0\tI(0.10000, 1.00000)\t0.55000\n",
        "1\tI(0.55000, 1.00000)\t0.7750000000000000\n",
        "2\tI(0.55000, 0.77500)\t0.6625000000000001\n",
        "3\tI(0.55000, 0.66250)\t0.6062500000000001\n",
        "4\tI(0.55000, 0.60625)\t0.5781250000000000\n",
        "5\tI(0.55000, 0.57812)\t0.5640625000000000\n",
        "6\tI(0.56406, 0.57812)\t0.5710937500000000\n",
        "7\tI(0.56406, 0.57109)\t0.5675781250000000\n",
        "8\tI(0.56406, 0.56758)\t0.5658203125000001\n",
        "9\tI(0.56582, 0.56758)\t0.5666992187500001\n",
        "10\tI(0.56670, 0.56758)\t0.5671386718750000\n"
       ]
      }
     ],
     "prompt_number": 36
    },
    {
     "cell_type": "code",
     "collapsed": false,
     "input": [
      "newton2(f = f, derivada = f_prima, x0 = 0, tolerancia = 10e-10, stop = 100)"
     ],
     "language": "python",
     "metadata": {},
     "outputs": [
      {
       "output_type": "stream",
       "stream": "stdout",
       "text": [
        "    k         x0      F(x0)     DF(x0)  abs(x1-x0)         x1\n",
        "    1    0.00000    1.00000   -2.00000    1.00000     0.50000\n",
        "    2    0.50000    0.10653   -1.60653    0.50000     0.56631\n",
        "    3    0.56631    0.00130   -1.56762    0.06631     0.56714\n",
        "    4    0.56714    0.00000   -1.56714    0.00083     0.56714\n",
        "    5    0.56714    0.00000   -1.56714    0.00000     0.56714\n",
        "\n",
        "\n",
        "La ra\u00edz es 0.567143290410\n"
       ]
      }
     ],
     "prompt_number": 37
    },
    {
     "cell_type": "code",
     "collapsed": false,
     "input": [
      "#  f(x)=x**10-1, x0=0.5"
     ],
     "language": "python",
     "metadata": {},
     "outputs": [],
     "prompt_number": 26
    },
    {
     "cell_type": "code",
     "collapsed": false,
     "input": [
      "x = np.linspace(-20, 20, 1000)\n",
      "y = x**10 - 1\n",
      "plt.plot(x, y, color=\"red\")\n",
      "plt.ylim(-2,2)\n",
      "plt.xlim(-2,2)\n",
      "ax = plt.gca()  \n",
      "ax.spines['right'].set_color('none')\n",
      "ax.spines['top'].set_color('none')\n",
      "ax.xaxis.set_ticks_position('bottom')\n",
      "ax.spines['bottom'].set_position(('data',0))\n",
      "ax.yaxis.set_ticks_position('left')\n",
      "ax.spines['left'].set_position(('data',0))"
     ],
     "language": "python",
     "metadata": {},
     "outputs": [
      {
       "metadata": {},
       "output_type": "display_data",
       "png": "[encoded data removed]",
       "text": [
        "<matplotlib.figure.Figure at 0x7f08bb5d1290>"
       ]
      }
     ],
     "prompt_number": 42
    },
    {
     "cell_type": "code",
     "collapsed": false,
     "input": [
      "f = lambda x: x**10 - 1\n",
      "f_prima = lambda x: 10*(x**9)"
     ],
     "language": "python",
     "metadata": {},
     "outputs": [],
     "prompt_number": 38
    },
    {
     "cell_type": "code",
     "collapsed": false,
     "input": [
      "biseccionNumpy(func = f, a =-1.5 , b = -0.5, stop = 10)"
     ],
     "language": "python",
     "metadata": {},
     "outputs": [
      {
       "output_type": "stream",
       "stream": "stdout",
       "text": [
        "k\t      I(a,b)\t           x\n",
        "0\tI(-1.50000, -0.50000)\t-1.00000\n",
        "1\tI(-1.50000, -0.50000)\t-1.0000000000000000\n",
        "2\tI(-1.50000, -0.50000)\t-1.0000000000000000\n",
        "3\tI(-1.50000, -0.50000)\t-1.0000000000000000\n",
        "4\tI(-1.50000, -0.50000)\t-1.0000000000000000\n",
        "5\tI(-1.50000, -0.50000)\t-1.0000000000000000\n",
        "6\tI(-1.50000, -0.50000)\t-1.0000000000000000\n",
        "7\tI(-1.50000, -0.50000)\t-1.0000000000000000\n",
        "8\tI(-1.50000, -0.50000)\t-1.0000000000000000\n",
        "9\tI(-1.50000, -0.50000)\t-1.0000000000000000\n",
        "10\tI(-1.50000, -0.50000)\t-1.0000000000000000\n"
       ]
      }
     ],
     "prompt_number": 39
    },
    {
     "cell_type": "code",
     "collapsed": false,
     "input": [
      "biseccionNumpy(func = f, a =0.5 , b = 1.5, stop = 10)"
     ],
     "language": "python",
     "metadata": {},
     "outputs": [
      {
       "output_type": "stream",
       "stream": "stdout",
       "text": [
        "k\t      I(a,b)\t           x\n",
        "0\tI(0.50000, 1.50000)\t1.00000\n",
        "1\tI(0.50000, 1.50000)\t1.0000000000000000\n",
        "2\tI(0.50000, 1.50000)\t1.0000000000000000\n",
        "3\tI(0.50000, 1.50000)\t1.0000000000000000\n",
        "4\tI(0.50000, 1.50000)\t1.0000000000000000\n",
        "5\tI(0.50000, 1.50000)\t1.0000000000000000\n",
        "6\tI(0.50000, 1.50000)\t1.0000000000000000\n",
        "7\tI(0.50000, 1.50000)\t1.0000000000000000\n",
        "8\tI(0.50000, 1.50000)\t1.0000000000000000\n",
        "9\tI(0.50000, 1.50000)\t1.0000000000000000\n",
        "10\tI(0.50000, 1.50000)\t1.0000000000000000\n"
       ]
      }
     ],
     "prompt_number": 40
    },
    {
     "cell_type": "code",
     "collapsed": false,
     "input": [
      "newton2(f = f, derivada = f_prima, x0 = 0.5, tolerancia = 10e-10, stop = 100)"
     ],
     "language": "python",
     "metadata": {},
     "outputs": [
      {
       "output_type": "stream",
       "stream": "stdout",
       "text": [
        "    k         x0      F(x0)     DF(x0)  abs(x1-x0)         x1\n",
        "    1    0.50000   -0.99902    0.01953    1.00000    51.65000\n",
        "    2   51.65000 135114904483913696.00000 26159710451871000.00000   51.15000    46.48500\n",
        "    3   46.48500 47111654129711536.00000 10134807815362276.00000    5.16500    41.83650\n",
        "    4   41.83650 16426818072478544.00000 3926432199748675.00000    4.64850    37.65285\n",
        "    5   37.65285 5727677301318307.00000 1521180282851977.50000    4.18365    33.88757\n",
        "    6   33.88757 1997117586819845.25000 589336409039671.62500    3.76528    30.49881\n",
        "    7   30.49881 696351844868619.50000 228320999775653.68750    3.38876    27.44893\n",
        "    8   27.44893 242802875029547.34375 88456233382052.81250    3.04988    24.70403\n",
        "    9   24.70403 84660127717097.56250 34269757191973.17188    2.74489    22.23363\n",
        "   10   22.23363 29519161271064.09766 13276806089225.67578    2.47040    20.01027\n",
        "   11   20.01027 10292695105054.69727 5143706707446.16211    2.22336    18.00924\n",
        "   12   18.00924 3588840873655.11279 1992777367871.56519    2.00103    16.20832\n",
        "   13   16.20832 1251351437592.92236 772042782329.15015    1.80092    14.58749\n",
        "   14   14.58749 436319267276.52893 299105192259.11896    1.62083    13.12874\n",
        "   15   13.12874 152135121499.29126 115879479847.73253    1.45875    11.81586\n",
        "   16   11.81586 53046236848.53293 44894084747.96925    1.31287    10.63428\n",
        "   17   10.63428 18496079117.25769 17392888266.59357    1.18159     9.57085\n",
        "   18    9.57085 6449184014.30769 6738361277.73035    1.06343     8.61376\n",
        "   19    8.61376 2248691421.76276 2610579221.68175    0.95708     7.75239\n",
        "   20    7.75239 784070216.94259 1011391879.08695    0.86138     6.97715\n",
        "   21    6.97715 273388379.90851 391833936.86624    0.77524     6.27943\n",
        "   22    6.27943 95324633.58406 151804495.98278    0.69771     5.65149\n",
        "   23    5.65149 33237644.27729 58812172.68302    0.62794     5.08634\n",
        "   24    5.08634 11589249.69530 22785041.38553    0.56515     4.57771\n",
        "   25    4.57771 4040921.24179 8827392.63715    0.50863     4.11994\n",
        "   26    4.11994 1408981.85125 3419913.61840    0.45777     3.70794\n",
        "   27    3.70794 491281.33012 1324945.54673    0.41199     3.33715\n",
        "   28    3.33715 171298.94394 513312.09645    0.37079     3.00344\n",
        "   29    3.00344 59727.98466 198868.78435    0.33371     2.70310\n",
        "   30    2.70310 20825.59662 77047.13161    0.30034     2.43280\n",
        "   31    2.43280 7261.17265 29851.07068    0.27030     2.18955\n",
        "   32    2.18955 2531.55048 11566.50899    0.24325     1.97069\n",
        "   33    1.97069  882.43325 4482.87228    0.21887     1.77384\n",
        "   34    1.77384  307.42177 1738.72348    0.19685     1.59703\n",
        "   35    1.59703  106.92807  675.80433    0.17681     1.43881\n",
        "   36    1.43881   37.02141  264.25634    0.15822     1.29871\n",
        "   37    1.29871   12.64980  105.10266    0.14010     1.17835\n",
        "   38    1.17835    4.16132   43.80104    0.12036     1.08335\n",
        "   39    1.08335    1.22683   20.55503    0.09500     1.02366\n",
        "   40    1.02366    0.26351   12.34296    0.05969     1.00232\n",
        "   41    1.00232    0.02340   10.21038    0.02135     1.00002\n",
        "   42    1.00002    0.00024   10.00215    0.00229     1.00000\n",
        "   43    1.00000    0.00000   10.00000    0.00002     1.00000\n",
        "   44    1.00000    0.00000   10.00000    0.00000     1.00000\n",
        "\n",
        "\n",
        "La ra\u00edz es 1.000000000000\n"
       ]
      }
     ],
     "prompt_number": 43
    },
    {
     "cell_type": "code",
     "collapsed": false,
     "input": [
      "def find_brackets(f, a, b, n):\n",
      "    # Primero medimos cu\u00e1nto debe valer cada subintervalo\n",
      "    intervalos = []\n",
      "    c, d = 0, 0\n",
      "    I = float(abs(a - b))/n\n",
      "    for i in range(0, n+1):\n",
      "        x_i = a + I\n",
      "        if f(a)*f(x_i) < 0:\n",
      "            c, d = a, x_i\n",
      "            print c, d\n",
      "            intervalos.append([c,d])\n",
      "        i+=1\n",
      "        a=x_i\n",
      "    return intervalos"
     ],
     "language": "python",
     "metadata": {},
     "outputs": [],
     "prompt_number": 135
    },
    {
     "cell_type": "code",
     "collapsed": false,
     "input": [
      "f = lambda x: np.sin(10*x) + np.cos(3*x)"
     ],
     "language": "python",
     "metadata": {},
     "outputs": [],
     "prompt_number": 154
    },
    {
     "cell_type": "code",
     "collapsed": false,
     "input": [
      "inter = find_brackets(f = h, a = 3, b = 6, n = 100)"
     ],
     "language": "python",
     "metadata": {},
     "outputs": [
      {
       "output_type": "stream",
       "stream": "stdout",
       "text": [
        "3.24 3.27\n",
        "3.36 3.39\n",
        "3.72 3.75\n",
        "4.2 4.23\n",
        "4.26 4.29\n",
        "4.71 4.74\n",
        "5.16 5.19\n",
        "5.19 5.22\n",
        "5.67 5.7\n"
       ]
      }
     ],
     "prompt_number": 177
    },
    {
     "cell_type": "code",
     "collapsed": false,
     "input": [
      "x = np.linspace(-20, 20, 1000000)\n",
      "y = np.sin(10*x) + np.cos(3*x)\n",
      "plt.plot(x, y, color=\"red\")\n",
      "plt.ylim(-2, 2)\n",
      "plt.xlim(3, 6)\n",
      "ax = plt.gca()  \n",
      "ax.spines['right'].set_color('none')\n",
      "ax.spines['top'].set_color('none')\n",
      "ax.xaxis.set_ticks_position('bottom')\n",
      "ax.spines['bottom'].set_position(('data',0))\n",
      "ax.yaxis.set_ticks_position('left')\n",
      "ax.spines['left'].set_position(('data',0))"
     ],
     "language": "python",
     "metadata": {},
     "outputs": [
      {
       "metadata": {},
       "output_type": "display_data",
       "png": "[encoded data removed]",
       "text": [
        "<matplotlib.figure.Figure at 0x7f08bb2a63d0>"
       ]
      }
     ],
     "prompt_number": 185
    },
    {
     "cell_type": "code",
     "collapsed": false,
     "input": [
      "j = lambda x: x**2 - 1"
     ],
     "language": "python",
     "metadata": {},
     "outputs": [],
     "prompt_number": 179
    },
    {
     "cell_type": "code",
     "collapsed": false,
     "input": [
      "find_brackets(f = j, a = -5, b = 5, n = 2)"
     ],
     "language": "python",
     "metadata": {},
     "outputs": [
      {
       "output_type": "stream",
       "stream": "stdout",
       "text": [
        "-5 0.0\n",
        "0.0 5.0\n"
       ]
      },
      {
       "metadata": {},
       "output_type": "pyout",
       "prompt_number": 180,
       "text": [
        "[[-5, 0.0], [0.0, 5.0]]"
       ]
      }
     ],
     "prompt_number": 180
    },
    {
     "cell_type": "code",
     "collapsed": false,
     "input": [
      "#  M\u00e9todo de la bisecci\u00f3n para encontrar las ra\u00edces"
     ],
     "language": "python",
     "metadata": {},
     "outputs": [],
     "prompt_number": 181
    },
    {
     "cell_type": "code",
     "collapsed": false,
     "input": [
      "for i in range(0, len(inter)):\n",
      "    biseccionNumpy(func = f, a = inter[i][0] , b = inter[i][1], stop = 10)"
     ],
     "language": "python",
     "metadata": {},
     "outputs": [
      {
       "output_type": "stream",
       "stream": "stdout",
       "text": [
        "k\t      I(a,b)\t           x\n",
        "0\tI(3.24000, 3.27000)\t3.25500\n",
        "1\tI(3.25500, 3.27000)\t3.2624999999999984\n",
        "2\tI(3.25500, 3.26250)\t3.2587499999999983\n",
        "3\tI(3.25875, 3.26250)\t3.2606249999999983\n",
        "4\tI(3.26062, 3.26250)\t3.2615624999999984\n",
        "5\tI(3.26156, 3.26250)\t3.2620312499999984\n",
        "6\tI(3.26203, 3.26250)\t3.2622656249999986\n",
        "7\tI(3.26227, 3.26250)\t3.2623828124999985\n",
        "8\tI(3.26238, 3.26250)\t3.2624414062499985\n",
        "9\tI(3.26238, 3.26244)\t3.2624121093749983\n",
        "10\tI(3.26241, 3.26244)\t3.2624267578124986\n",
        "k\t      I(a,b)\t           x\n",
        "0\tI(3.36000, 3.39000)\t3.37500\n",
        "1\tI(3.36000, 3.37500)\t3.3674999999999975\n",
        "2\tI(3.36000, 3.36750)\t3.3637499999999978\n",
        "3\tI(3.36375, 3.36750)\t3.3656249999999979\n",
        "4\tI(3.36562, 3.36750)\t3.3665624999999979\n",
        "5\tI(3.36562, 3.36656)\t3.3660937499999979\n",
        "6\tI(3.36562, 3.36609)\t3.3658593749999977\n",
        "7\tI(3.36586, 3.36609)\t3.3659765624999975\n",
        "8\tI(3.36598, 3.36609)\t3.3660351562499979\n",
        "9\tI(3.36598, 3.36604)\t3.3660058593749977\n",
        "10\tI(3.36598, 3.36601)\t3.3659912109374979\n",
        "k\t      I(a,b)\t           x\n",
        "0\tI(3.72000, 3.75000)\t3.73500\n",
        "1\tI(3.73500, 3.75000)\t3.7424999999999953\n",
        "2\tI(3.74250, 3.75000)\t3.7462499999999954\n",
        "3\tI(3.74250, 3.74625)\t3.7443749999999953\n",
        "4\tI(3.74437, 3.74625)\t3.7453124999999954\n",
        "5\tI(3.74531, 3.74625)\t3.7457812499999954\n",
        "6\tI(3.74531, 3.74578)\t3.7455468749999952\n",
        "7\tI(3.74555, 3.74578)\t3.7456640624999951\n",
        "8\tI(3.74566, 3.74578)\t3.7457226562499955\n",
        "9\tI(3.74572, 3.74578)\t3.7457519531249952\n",
        "10\tI(3.74572, 3.74575)\t3.7457373046874953\n",
        "k\t      I(a,b)\t           x\n",
        "0\tI(4.20000, 4.23000)\t4.21500\n",
        "1\tI(4.21500, 4.23000)\t4.2224999999999948\n",
        "2\tI(4.22250, 4.23000)\t4.2262499999999950\n",
        "3\tI(4.22625, 4.23000)\t4.2281249999999950\n",
        "4\tI(4.22812, 4.23000)\t4.2290624999999951\n",
        "5\tI(4.22906, 4.23000)\t4.2295312499999955\n",
        "6\tI(4.22906, 4.22953)\t4.2292968749999957\n",
        "7\tI(4.22906, 4.22930)\t4.2291796874999950\n",
        "8\tI(4.22906, 4.22918)\t4.2291210937499955\n",
        "9\tI(4.22906, 4.22912)\t4.2290917968749948\n",
        "10\tI(4.22906, 4.22909)\t4.2290771484374954\n",
        "k\t      I(a,b)\t           x\n",
        "0\tI(4.26000, 4.29000)\t4.27500\n",
        "1\tI(4.26000, 4.27500)\t4.2674999999999947\n",
        "2\tI(4.26000, 4.26750)\t4.2637499999999946\n",
        "3\tI(4.26000, 4.26375)\t4.2618749999999945\n",
        "4\tI(4.26187, 4.26375)\t4.2628124999999946\n",
        "5\tI(4.26281, 4.26375)\t4.2632812499999950\n",
        "6\tI(4.26328, 4.26375)\t4.2635156249999948\n",
        "7\tI(4.26352, 4.26375)\t4.2636328124999947\n",
        "8\tI(4.26352, 4.26363)\t4.2635742187499943\n",
        "9\tI(4.26357, 4.26363)\t4.2636035156249950\n",
        "10\tI(4.26357, 4.26360)\t4.2635888671874946\n",
        "k\t      I(a,b)\t           x\n",
        "0\tI(4.71000, 4.74000)\t4.72500\n",
        "1\tI(4.71000, 4.72500)\t4.7174999999999994\n",
        "2\tI(4.71000, 4.71750)\t4.7137499999999992\n",
        "3\tI(4.71000, 4.71375)\t4.7118749999999991\n",
        "4\tI(4.71187, 4.71375)\t4.7128124999999992\n",
        "5\tI(4.71187, 4.71281)\t4.7123437499999987\n",
        "6\tI(4.71234, 4.71281)\t4.7125781249999985\n",
        "7\tI(4.71234, 4.71258)\t4.7124609374999986\n",
        "8\tI(4.71234, 4.71246)\t4.7124023437499982\n",
        "9\tI(4.71234, 4.71240)\t4.7123730468749985\n",
        "10\tI(4.71237, 4.71240)\t4.7123876953124988\n",
        "k\t      I(a,b)\t           x\n",
        "0\tI(5.16000, 5.19000)\t5.17500\n",
        "1\tI(5.16000, 5.17500)\t5.1675000000000022\n",
        "2\tI(5.16000, 5.16750)\t5.1637500000000021\n",
        "3\tI(5.16000, 5.16375)\t5.1618750000000020\n",
        "4\tI(5.16000, 5.16188)\t5.1609375000000028\n",
        "5\tI(5.16094, 5.16188)\t5.1614062500000024\n",
        "6\tI(5.16094, 5.16141)\t5.1611718750000026\n",
        "7\tI(5.16117, 5.16141)\t5.1612890625000025\n",
        "8\tI(5.16117, 5.16129)\t5.1612304687500021\n",
        "9\tI(5.16117, 5.16123)\t5.1612011718750024\n",
        "10\tI(5.16117, 5.16120)\t5.1611865234375021\n",
        "k\t      I(a,b)\t           x\n",
        "0\tI(5.19000, 5.22000)\t5.20500\n",
        "1\tI(5.19000, 5.20500)\t5.1975000000000033\n",
        "2\tI(5.19000, 5.19750)\t5.1937500000000032\n",
        "3\tI(5.19375, 5.19750)\t5.1956250000000033\n",
        "4\tI(5.19563, 5.19750)\t5.1965625000000033\n",
        "5\tI(5.19563, 5.19656)\t5.1960937500000028\n",
        "6\tI(5.19563, 5.19609)\t5.1958593750000031\n",
        "7\tI(5.19563, 5.19586)\t5.1957421875000032\n",
        "8\tI(5.19563, 5.19574)\t5.1956835937500028\n",
        "9\tI(5.19568, 5.19574)\t5.1957128906250034\n",
        "10\tI(5.19568, 5.19571)\t5.1956982421875031\n",
        "k\t      I(a,b)\t           x\n",
        "0\tI(5.67000, 5.70000)\t5.68500\n",
        "1\tI(5.67000, 5.68500)\t5.6775000000000073\n",
        "2\tI(5.67750, 5.68500)\t5.6812500000000075\n",
        "3\tI(5.67750, 5.68125)\t5.6793750000000074\n",
        "4\tI(5.67750, 5.67938)\t5.6784375000000074\n",
        "5\tI(5.67844, 5.67938)\t5.6789062500000078\n",
        "6\tI(5.67891, 5.67938)\t5.6791406250000076\n",
        "7\tI(5.67891, 5.67914)\t5.6790234375000077\n",
        "8\tI(5.67902, 5.67914)\t5.6790820312500081\n",
        "9\tI(5.67902, 5.67908)\t5.6790527343750075\n",
        "10\tI(5.67902, 5.67905)\t5.6790380859375080\n"
       ]
      }
     ],
     "prompt_number": 182
    },
    {
     "cell_type": "code",
     "collapsed": false,
     "input": [],
     "language": "python",
     "metadata": {},
     "outputs": []
    }
   ],
   "metadata": {}
  }
 ]
}