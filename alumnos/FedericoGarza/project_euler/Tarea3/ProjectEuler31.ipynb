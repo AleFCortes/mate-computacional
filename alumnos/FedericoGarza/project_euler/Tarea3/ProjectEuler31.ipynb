{
 "metadata": {
  "name": "",
  "signature": "sha256:b0af7ae72a5cc6bef0e62cb249b849910c9c81752bed1cdb6491c3f280b0e301"
 },
 "nbformat": 3,
 "nbformat_minor": 0,
 "worksheets": [
  {
   "cells": [
    {
     "cell_type": "heading",
     "level": 1,
     "metadata": {},
     "source": [
      "Coin sums"
     ]
    },
    {
     "cell_type": "heading",
     "level": 2,
     "metadata": {},
     "source": [
      "Problema 31"
     ]
    },
    {
     "cell_type": "markdown",
     "metadata": {},
     "source": [
      "El problema nos pide calcular las combinaciones de monedas de 1p, 2p, 5p, 10p, 20p, 50p, 100p y 200p para formar la cantidad de 200p, sin restricci\u00f3n del n\u00famero de monedas.\n",
      "\n",
      "Si denotamos $a_{i}$ para $i=1,...,8$ como el n\u00famero de monedas de valor 1p, 2p, 5p, 10p, 20p, 50p, 100p y 200p respectivamente, debemos encontrar todas las soluciones enteras de la ecuaci\u00f3n:\n",
      "\n",
      "\\begin{equation*}\n",
      "a_{1}+2a_{2}+5a_{3}+10a_{4}+20a_{5}+50a_{6}+100a_{7}+200a_{8}=200\n",
      "\\end{equation*}\n",
      "\n",
      "Podemos aproximar *intervalos adecuados* para cada $a_{i}$ de donde obtendremos los rangos para combinar los valores y ver si cumplen nuestra ecuaci\u00f3n. Si fijamos $a_{i_{0}}$ con $1\\le i_{0}\\le8$ tal que los dem\u00e1s valores $a_{j}=0$ con $i_{0}\\not=j$ tenemos las siguientes *cotas*:\n",
      "\n",
      "\\begin{equation*}\n",
      "a_{1}\\le200  \\wedge  a_{2}\\le100  \\wedge  a_{3}\\le40  \\wedge  a_{4}\\le20  \\wedge  a_{5}\\le10  \\wedge a_{6}\\le4  \\wedge a_{7}\\le2  \\wedge  a_{8}\\le1\n",
      "\\end{equation*}\n",
      "\n",
      "Ahora, cada vez que usamos una moneda, la cantidad a la que debemos llegar es distinta; en particular $200-a_{i}$. As\u00ed, en la medida que usamos monedas los *rangos* van acort\u00e1ndose. Por ejemplo si $a_{1}=6$, ahora $a_{2}\\le97$\n"
     ]
    },
    {
     "cell_type": "code",
     "collapsed": false,
     "input": [
      "valorAcotado=0\n",
      "combinaciones=0\n",
      "for a1 in range(0,201):\n",
      "    valorAcotado=200-a1\n",
      "    for a2 in range(0,101):\n",
      "        valorAcotado=200-a1-a2\n",
      "        for a3 in range(0,41):\n",
      "            valorAcotado=200-a1-a2-a3\n",
      "            for a4 in range(0,21):\n",
      "                valorAcotado=200-a1-a2-a3-a4\n",
      "                for a5 in range(0,11):\n",
      "                    valorAcotado=200-a1-a2-a3-a4-a5\n",
      "                    for a6 in range(0,5):\n",
      "                        valorAcotado=200-a1-a2-a3-a4-a5-a6\n",
      "                        for a7 in range(0,3):\n",
      "                            h=valorAcotado=200-a1-a2-a3-a4-a5-a6-a7\n",
      "                            for a8 in range(0,2):\n",
      "                                if h>=0:\n",
      "                                    combinaciones+=1\n",
      "print numeroCombinaciones"
     ],
     "language": "python",
     "metadata": {},
     "outputs": [
      {
       "ename": "KeyboardInterrupt",
       "evalue": "",
       "output_type": "pyerr",
       "traceback": [
        "\u001b[1;31m---------------------------------------------------------------------------\u001b[0m\n\u001b[1;31mKeyboardInterrupt\u001b[0m                         Traceback (most recent call last)",
        "\u001b[1;32m<ipython-input-9-f9fa4868bc69>\u001b[0m in \u001b[0;36m<module>\u001b[1;34m()\u001b[0m\n\u001b[0;32m     15\u001b[0m                         \u001b[1;32mfor\u001b[0m \u001b[0ma7\u001b[0m \u001b[1;32min\u001b[0m \u001b[0mrange\u001b[0m\u001b[1;33m(\u001b[0m\u001b[1;36m0\u001b[0m\u001b[1;33m,\u001b[0m\u001b[1;36m3\u001b[0m\u001b[1;33m)\u001b[0m\u001b[1;33m:\u001b[0m\u001b[1;33m\u001b[0m\u001b[0m\n\u001b[0;32m     16\u001b[0m                             \u001b[0mh\u001b[0m\u001b[1;33m=\u001b[0m\u001b[0mvalorAcotado\u001b[0m\u001b[1;33m=\u001b[0m\u001b[1;36m200\u001b[0m\u001b[1;33m-\u001b[0m\u001b[0ma1\u001b[0m\u001b[1;33m-\u001b[0m\u001b[0ma2\u001b[0m\u001b[1;33m-\u001b[0m\u001b[0ma3\u001b[0m\u001b[1;33m-\u001b[0m\u001b[0ma4\u001b[0m\u001b[1;33m-\u001b[0m\u001b[0ma5\u001b[0m\u001b[1;33m-\u001b[0m\u001b[0ma6\u001b[0m\u001b[1;33m-\u001b[0m\u001b[0ma7\u001b[0m\u001b[1;33m\u001b[0m\u001b[0m\n\u001b[1;32m---> 17\u001b[1;33m                             \u001b[1;32mfor\u001b[0m \u001b[0ma8\u001b[0m \u001b[1;32min\u001b[0m \u001b[0mrange\u001b[0m\u001b[1;33m(\u001b[0m\u001b[1;36m0\u001b[0m\u001b[1;33m,\u001b[0m\u001b[1;36m2\u001b[0m\u001b[1;33m)\u001b[0m\u001b[1;33m:\u001b[0m\u001b[1;33m\u001b[0m\u001b[0m\n\u001b[0m\u001b[0;32m     18\u001b[0m                                 \u001b[1;32mif\u001b[0m \u001b[0mh\u001b[0m\u001b[1;33m>=\u001b[0m\u001b[1;36m0\u001b[0m\u001b[1;33m:\u001b[0m\u001b[1;33m\u001b[0m\u001b[0m\n\u001b[0;32m     19\u001b[0m                                     \u001b[0mcombinaciones\u001b[0m\u001b[1;33m+=\u001b[0m\u001b[1;36m1\u001b[0m\u001b[1;33m\u001b[0m\u001b[0m\n",
        "\u001b[1;31mKeyboardInterrupt\u001b[0m: "
       ]
      }
     ],
     "prompt_number": 9
    },
    {
     "cell_type": "markdown",
     "metadata": {},
     "source": [
      "Inmediatamente vemos que tarda la vida en reponder (en mi computadora ni siquiera muestra el resultado).\n",
      "Busquemos *mejorar* los rangos."
     ]
    },
    {
     "cell_type": "code",
     "collapsed": false,
     "input": [
      "def combinaciones()"
     ],
     "language": "python",
     "metadata": {},
     "outputs": [
      {
       "ename": "SyntaxError",
       "evalue": "invalid syntax (<ipython-input-5-8db1673ee39d>, line 1)",
       "output_type": "pyerr",
       "traceback": [
        "\u001b[1;36m  File \u001b[1;32m\"<ipython-input-5-8db1673ee39d>\"\u001b[1;36m, line \u001b[1;32m1\u001b[0m\n\u001b[1;33m    def combinaciones()\u001b[0m\n\u001b[1;37m                       ^\u001b[0m\n\u001b[1;31mSyntaxError\u001b[0m\u001b[1;31m:\u001b[0m invalid syntax\n"
       ]
      }
     ],
     "prompt_number": 5
    },
    {
     "cell_type": "code",
     "collapsed": false,
     "input": [],
     "language": "python",
     "metadata": {},
     "outputs": [
      {
       "metadata": {},
       "output_type": "pyout",
       "prompt_number": 8,
       "text": [
        "[0, 200, 400, 600, 800, 1000, 1200, 1400, 1600, 1800, 2000]"
       ]
      }
     ],
     "prompt_number": 8
    },
    {
     "cell_type": "code",
     "collapsed": false,
     "input": [],
     "language": "python",
     "metadata": {},
     "outputs": []
    }
   ],
   "metadata": {}
  }
 ]
}