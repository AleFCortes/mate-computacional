{
 "metadata": {
  "name": "",
  "signature": "sha256:4eb16b8209d61633bd66212d99419f5d29415b90e932280bba4f3d7b3f769349"
 },
 "nbformat": 3,
 "nbformat_minor": 0,
 "worksheets": [
  {
   "cells": [
    {
     "cell_type": "heading",
     "level": 1,
     "metadata": {},
     "source": [
      "Ejercicio de NumPy"
     ]
    },
    {
     "cell_type": "code",
     "collapsed": false,
     "input": [
      "%pylab inline\n",
      "import numpy as np"
     ],
     "language": "python",
     "metadata": {},
     "outputs": [
      {
       "output_type": "stream",
       "stream": "stdout",
       "text": [
        "Populating the interactive namespace from numpy and matplotlib\n"
       ]
      }
     ],
     "prompt_number": 1
    },
    {
     "cell_type": "heading",
     "level": 2,
     "metadata": {},
     "source": [
      "Pregunta 1"
     ]
    },
    {
     "cell_type": "markdown",
     "metadata": {},
     "source": [
      "Crea los siguientes arreglos con los tipos correctos. "
     ]
    },
    {
     "cell_type": "markdown",
     "metadata": {},
     "source": [
      "- Un arreglo de $5 \\times 5$ cuya diagonal sean $[2.0, 3.0, 4.0, 5.0]$\n",
      "- Un arreglo de $4 \\times 4$ cuyo \u00faltimo rengl\u00f3n sea $[1,2,3,4]$ y el resto sean $0$."
     ]
    },
    {
     "cell_type": "code",
     "collapsed": false,
     "input": [
      "#Observar que la diagonal de un arreglo de 5x5 no puede tener cuatro elemetos; asumi\u0155e que falta el 1\n",
      "arreglo5x5=np.array(diag([1,2,3,4,5]), dtype=float)\n",
      "arreglo5x5"
     ],
     "language": "python",
     "metadata": {},
     "outputs": [
      {
       "metadata": {},
       "output_type": "pyout",
       "prompt_number": 2,
       "text": [
        "array([[ 1.,  0.,  0.,  0.,  0.],\n",
        "       [ 0.,  2.,  0.,  0.,  0.],\n",
        "       [ 0.,  0.,  3.,  0.,  0.],\n",
        "       [ 0.,  0.,  0.,  4.,  0.],\n",
        "       [ 0.,  0.,  0.,  0.,  5.]])"
       ]
      }
     ],
     "prompt_number": 2
    },
    {
     "cell_type": "code",
     "collapsed": false,
     "input": [
      "arreglo4=np.zeros((4,4), dtype=int)\n",
      "arreglo4[3,]=[1,2,3,4]\n",
      "arreglo4"
     ],
     "language": "python",
     "metadata": {},
     "outputs": [
      {
       "metadata": {},
       "output_type": "pyout",
       "prompt_number": 3,
       "text": [
        "array([[0, 0, 0, 0],\n",
        "       [0, 0, 0, 0],\n",
        "       [0, 0, 0, 0],\n",
        "       [1, 2, 3, 4]])"
       ]
      }
     ],
     "prompt_number": 3
    },
    {
     "cell_type": "heading",
     "level": 2,
     "metadata": {},
     "source": [
      "Problema 2"
     ]
    },
    {
     "cell_type": "markdown",
     "metadata": {},
     "source": [
      "En este ejercicio realizaremos una [**criba de Erat\u00f3stenes**](http://en.wikipedia.org/wiki/Sieve_of_Eratosthenes)"
     ]
    },
    {
     "cell_type": "markdown",
     "metadata": {},
     "source": [
      "(a) Crea un arreglo de booleanos de **shape** `(100,)`, con todos sus elementos `True`.  El \u00edndice representa el n\u00famero."
     ]
    },
    {
     "cell_type": "code",
     "collapsed": false,
     "input": [
      "bool_arr = np.ones((100,), dtype=bool)\n",
      "bool_arr"
     ],
     "language": "python",
     "metadata": {},
     "outputs": [
      {
       "metadata": {},
       "output_type": "pyout",
       "prompt_number": 4,
       "text": [
        "array([ True,  True,  True,  True,  True,  True,  True,  True,  True,\n",
        "        True,  True,  True,  True,  True,  True,  True,  True,  True,\n",
        "        True,  True,  True,  True,  True,  True,  True,  True,  True,\n",
        "        True,  True,  True,  True,  True,  True,  True,  True,  True,\n",
        "        True,  True,  True,  True,  True,  True,  True,  True,  True,\n",
        "        True,  True,  True,  True,  True,  True,  True,  True,  True,\n",
        "        True,  True,  True,  True,  True,  True,  True,  True,  True,\n",
        "        True,  True,  True,  True,  True,  True,  True,  True,  True,\n",
        "        True,  True,  True,  True,  True,  True,  True,  True,  True,\n",
        "        True,  True,  True,  True,  True,  True,  True,  True,  True,\n",
        "        True,  True,  True,  True,  True,  True,  True,  True,  True,  True], dtype=bool)"
       ]
      }
     ],
     "prompt_number": 4
    },
    {
     "cell_type": "markdown",
     "metadata": {},
     "source": [
      "(b) \"Tacha\" los elementos `0` y `1`."
     ]
    },
    {
     "cell_type": "code",
     "collapsed": false,
     "input": [
      "bool_arr[0]=False\n",
      "bool_arr[1]=False"
     ],
     "language": "python",
     "metadata": {},
     "outputs": [],
     "prompt_number": 5
    },
    {
     "cell_type": "markdown",
     "metadata": {},
     "source": [
      "(c) Para cada entero subsiguiente, tacha sus m\u00faltiplos. Una manera de hacerlo es el c\u00f3digo que se muestra. Explica que hace el c\u00f3digo, sobre todo explica que hace el *slicing*."
     ]
    },
    {
     "cell_type": "code",
     "collapsed": false,
     "input": [
      "N_max = int(np.sqrt(len(bool_arr))) #Se define una variable que incluya la ra\u00edz redondeada del tama\u00f1o del arreglo para eliminar los\n",
      "for j in range(2, N_max): #n\u00famero primos anteriores al n\u00famero indicado por el tama\u00f1o del arreglo\n",
      "    bool_arr[2*j::j] = False #Modifica el elemento 2*j (indicado) y todos los elementos del arreglo 2*j+j, (2*j+j)+j...\n",
      "                            #Esto es para quitar los m\u00faltiplos de los n\u00fameros del 2 al N_max"
     ],
     "language": "python",
     "metadata": {},
     "outputs": [],
     "prompt_number": 6
    },
    {
     "cell_type": "code",
     "collapsed": false,
     "input": [
      "bool_arr"
     ],
     "language": "python",
     "metadata": {},
     "outputs": [
      {
       "metadata": {},
       "output_type": "pyout",
       "prompt_number": 7,
       "text": [
        "array([False, False,  True,  True, False,  True, False,  True, False,\n",
        "       False, False,  True, False,  True, False, False, False,  True,\n",
        "       False,  True, False, False, False,  True, False, False, False,\n",
        "       False, False,  True, False,  True, False, False, False, False,\n",
        "       False,  True, False, False, False,  True, False,  True, False,\n",
        "       False, False,  True, False, False, False, False, False,  True,\n",
        "       False, False, False, False, False,  True, False,  True, False,\n",
        "       False, False, False, False,  True, False, False, False,  True,\n",
        "       False,  True, False, False, False, False, False,  True, False,\n",
        "       False, False,  True, False, False, False, False, False,  True,\n",
        "       False, False, False, False, False, False, False,  True, False, False], dtype=bool)"
       ]
      }
     ],
     "prompt_number": 7
    },
    {
     "cell_type": "code",
     "collapsed": false,
     "input": [
      "pedro=np.array(range(0,100))\n",
      "pedro[8::4]"
     ],
     "language": "python",
     "metadata": {},
     "outputs": [
      {
       "metadata": {},
       "output_type": "pyout",
       "prompt_number": 8,
       "text": [
        "array([ 8, 12, 16, 20, 24, 28, 32, 36, 40, 44, 48, 52, 56, 60, 64, 68, 72,\n",
        "       76, 80, 84, 88, 92, 96])"
       ]
      }
     ],
     "prompt_number": 8
    },
    {
     "cell_type": "markdown",
     "metadata": {},
     "source": [
      "(d) Mira la documentacion de `np.nonzero` para imprimir todos los n\u00fameros primos."
     ]
    },
    {
     "cell_type": "code",
     "collapsed": false,
     "input": [
      "?np.nonzero"
     ],
     "language": "python",
     "metadata": {},
     "outputs": [],
     "prompt_number": 9
    },
    {
     "cell_type": "code",
     "collapsed": false,
     "input": [
      "np.nonzero(bool_arr) #Devuelve en un arreglo los \u00edndices de los valores no cero (False=0) del argumento"
     ],
     "language": "python",
     "metadata": {},
     "outputs": [
      {
       "metadata": {},
       "output_type": "pyout",
       "prompt_number": 10,
       "text": [
        "(array([ 2,  3,  5,  7, 11, 13, 17, 19, 23, 29, 31, 37, 41, 43, 47, 53, 59,\n",
        "        61, 67, 71, 73, 79, 83, 89, 97]),)"
       ]
      }
     ],
     "prompt_number": 10
    },
    {
     "cell_type": "markdown",
     "metadata": {},
     "source": [
      "(e) Encapsula lo que acabamos de hacer en una funci\u00f3n llamada `criba_eratostenes`, que reciba como argumento `maximo` el cual representa el tama\u00f1o del `array`. Muestra el resultado para `maximo = {10, 100, 200}`, usando un `for`."
     ]
    },
    {
     "cell_type": "code",
     "collapsed": false,
     "input": [
      "def criba_eratostenes(maximo):\n",
      "    bool_arr=np.ones((maximo,), dtype=bool)\n",
      "    bool_arr[0]=False\n",
      "    bool_arr[1]=False\n",
      "    N_max = int(np.sqrt(len(bool_arr)))\n",
      "    for j in range(2, N_max):\n",
      "        bool_arr[2*j::j] = False\n",
      "    return np.nonzero(bool_arr)"
     ],
     "language": "python",
     "metadata": {},
     "outputs": [],
     "prompt_number": 11
    },
    {
     "cell_type": "code",
     "collapsed": false,
     "input": [
      "for i in [10,100,200]:\n",
      "    print \"Para \"+str(i)+\": \"+str(criba_eratostenes(i))"
     ],
     "language": "python",
     "metadata": {},
     "outputs": [
      {
       "output_type": "stream",
       "stream": "stdout",
       "text": [
        "Para 10: (array([2, 3, 5, 7, 9]),)\n",
        "Para 100: (array([ 2,  3,  5,  7, 11, 13, 17, 19, 23, 29, 31, 37, 41, 43, 47, 53, 59,\n",
        "       61, 67, 71, 73, 79, 83, 89, 97]),)\n",
        "Para 200: (array([  2,   3,   5,   7,  11,  13,  17,  19,  23,  29,  31,  37,  41,\n",
        "        43,  47,  53,  59,  61,  67,  71,  73,  79,  83,  89,  97, 101,\n",
        "       103, 107, 109, 113, 127, 131, 137, 139, 149, 151, 157, 163, 167,\n",
        "       173, 179, 181, 191, 193, 197, 199]),)\n"
       ]
      }
     ],
     "prompt_number": 12
    },
    {
     "cell_type": "heading",
     "level": 2,
     "metadata": {},
     "source": [
      "Problema 3"
     ]
    },
    {
     "cell_type": "markdown",
     "metadata": {},
     "source": [
      "Crea un [cubo rubik](http://en.wikipedia.org/wiki/Rubik%27s_Cube), partiendo de un arreglo de ceros y usando *slicing* dibuja cada una de las caras como si estuviera resuelto (cada colo un entero a partir del $1$). Muestra con *indexing* que est\u00e1 resuelto (es decir, imprime las seis caras). \u00bfCu\u00e1ntos elementos del arreglo quedaron en $0$?"
     ]
    },
    {
     "cell_type": "code",
     "collapsed": false,
     "input": [
      "cubo_rubik=np.zeros(3*3*6, dtype=int) #Creando un arreglo de 3x3x6 elementos"
     ],
     "language": "python",
     "metadata": {},
     "outputs": [],
     "prompt_number": 13
    },
    {
     "cell_type": "code",
     "collapsed": false,
     "input": [
      "j=1\n",
      "for i in range(0,3*3*6+1,9):\n",
      "        cubo_rubik[i:i+9]=j #Slicing\n",
      "        j+=1"
     ],
     "language": "python",
     "metadata": {},
     "outputs": [],
     "prompt_number": 14
    },
    {
     "cell_type": "code",
     "collapsed": false,
     "input": [
      "cara=\"\"\n",
      "for i in range(1,len(cubo_rubik)+1): #Inici\u00e9 el rango en 1 para no tener problemas con el if de abajo\n",
      "    cara=cara+str(cubo_rubik[i-1]) #Indexing\n",
      "    if i%9==0:\n",
      "        print \"Cara \"+str(i/9)+\": \"+cara\n",
      "        cara=\"\""
     ],
     "language": "python",
     "metadata": {},
     "outputs": [
      {
       "output_type": "stream",
       "stream": "stdout",
       "text": [
        "Cara 1: 111111111\n",
        "Cara 2: 222222222\n",
        "Cara 3: 333333333\n",
        "Cara 4: 444444444\n",
        "Cara 5: 555555555\n",
        "Cara 6: 666666666\n"
       ]
      }
     ],
     "prompt_number": 15
    },
    {
     "cell_type": "code",
     "collapsed": false,
     "input": [
      "for i in range(0,len(cubo_rubik)):\n",
      "    if cubo_rubik[i]==0:\n",
      "        print \"Error fatal: hay un cero en el \u00edndice\"+str(i)"
     ],
     "language": "python",
     "metadata": {},
     "outputs": [],
     "prompt_number": 16
    },
    {
     "cell_type": "markdown",
     "metadata": {},
     "source": [
      "Luego, no quedaron ceros en el arreglo."
     ]
    },
    {
     "cell_type": "heading",
     "level": 2,
     "metadata": {},
     "source": [
      "Problema 4"
     ]
    },
    {
     "cell_type": "markdown",
     "metadata": {},
     "source": [
      "El **Sudoku** es un pasatiempo que consiste en un arreglo  $9 \\times 9$ de celdas, con d\u00edgitos del 1 al 9, de tal manera que no se repiten valores en cada columna, cada rengl\u00f3n y en cada subarreglo de $3\\times 3$."
     ]
    },
    {
     "cell_type": "markdown",
     "metadata": {},
     "source": [
      "(a) Crea una funci\u00f3n llamada `correcto` que reciba un `array` $1d$ de tama\u00f1o 9 e indique si est\u00e1 completo o no (i.e. incluye los n\u00fameros del 1 al 9)."
     ]
    },
    {
     "cell_type": "code",
     "collapsed": false,
     "input": [
      "def correcto(array):\n",
      "    if array.size==9: #Verifica que el arreglo tenga nueve elementos\n",
      "        numeros1al9=np.array([1,2,3,4,5,6,7,8,9])\n",
      "        if (np.unique(array)==numeros1al9).all(): #Compara el arreglo introducido con los que queremos\n",
      "            return True     \n",
      "        else:\n",
      "            return False\n",
      "    else:\n",
      "        print \"Su arreglo no contiene exactamente 9 elementos: imposible continuar.\""
     ],
     "language": "python",
     "metadata": {},
     "outputs": [],
     "prompt_number": 17
    },
    {
     "cell_type": "markdown",
     "metadata": {},
     "source": [
      "(b) Crea una funci\u00f3n llamada `descomponer3x3` que reciba un `array` de enteros de $9\\times 9$ y lo separe en sus 9 subarreglos $3\\times3$."
     ]
    },
    {
     "cell_type": "code",
     "collapsed": false,
     "input": [
      "def descomponer3x3(array):\n",
      "    if array.shape==(9,9): #Verifica que el arreglo sea de 9x9\n",
      "        arreglo9x3x3=np.zeros((9,3,3)) #Creo un arreglo de 9 subarreglos de 3x3 cada uno donde inserta\u0155e los resultantes\n",
      "        i=0\n",
      "        for k in range(0,3): #Para los arreglos 1, 2 y 3 (izquierda a derecha, arriba a abajo) asigno cada elemento del arreglo de\n",
      "            arreglo9x3x3[k]=array[0:3,i:i+3] #9x9 al que le toca de 3x3\n",
      "            i+=3\n",
      "        i=0\n",
      "        for k in range(3,6): #Arreglos 4, 5 y 6\n",
      "            arreglo9x3x3[k]=array[3:6,i:i+3]\n",
      "            i+=3\n",
      "        i=0\n",
      "        for k in range(6,9): #Arreglos 6, 7, 8\n",
      "            arreglo9x3x3[k]=array[6:9,i:i+3]\n",
      "            i+=3\n",
      "        return arreglo9x3x3\n",
      "    else:\n",
      "        print \"Su arreglo no es de 9x9: imposible continuar.\""
     ],
     "language": "python",
     "metadata": {},
     "outputs": [],
     "prompt_number": 18
    },
    {
     "cell_type": "markdown",
     "metadata": {},
     "source": [
      "(c) Crea la funci\u00f3n `esSolucion` que recibe un `array` de $9\\times 9$ y devuelve si es o no soluci\u00f3n del sudoku."
     ]
    },
    {
     "cell_type": "code",
     "collapsed": false,
     "input": [
      "def esSolucion(array):\n",
      "    if array.shape==(9,9): #Notar que el \u00fanico par\u00e1metro que se toma en cuenta es la completez de los subarreglos de 3x3 \n",
      "        arrayTrues=np.zeros((9,)) #Crea un arreglo (9,) de ceros\n",
      "        arrayDescompuesto3x3=descomponer3x3(array) #Descompone el arreglo de 9x9 introducido\n",
      "        for i in range(0,9): #Esta parte verifica que cada subarreglo de 3x3 est\u00e9 correcto\n",
      "            if correcto(arrayDescompuesto3x3[i].reshape(9,))==True: #Se 'reshapea' el de 3x3 para que la funci\u00f3n correcto ande\n",
      "                 arrayTrues[i]=1 #S\u00ed el subarreglo es correcto, agrega un uno a el arreglo (9,) de ceros\n",
      "        if (arrayTrues==np.array([1,1,1,1,1,1,1,1,1])).all(): #Si todos los arreglos de 3x3 son correctos (todos 1), el sudoku lo es\n",
      "            print \"Su sudoku es correcto. Sea feliz.\"\n",
      "        else:\n",
      "            print \"Su sudoku es incorrecto.\"\n",
      "    else:\n",
      "        print \"Su sudoku no es de 9x9. Alerta: alerta.\""
     ],
     "language": "python",
     "metadata": {},
     "outputs": [],
     "prompt_number": 19
    },
    {
     "cell_type": "code",
     "collapsed": false,
     "input": [
      "sudoku=np.array([[4, 2, 6, 5, 7, 1, 3, 9, 8],\n",
      "            [8, 5, 7, 2, 9, 3, 1, 4, 6],\n",
      "            [1, 3, 9, 4, 6, 8, 2, 7, 5],\n",
      "            [9, 7, 1, 3, 8, 5, 6, 2, 4],\n",
      "            [5, 4, 3, 7, 2, 6, 8, 1, 9],\n",
      "            [6, 8, 2, 1, 4, 9, 7, 5, 3],\n",
      "            [7, 9, 4, 6, 3, 2, 5, 8, 1],\n",
      "            [2, 6, 5, 8, 1, 4, 9, 3, 7],\n",
      "            [3, 1, 8, 9, 5, 7, 4, 6, 2]])"
     ],
     "language": "python",
     "metadata": {},
     "outputs": [],
     "prompt_number": 20
    },
    {
     "cell_type": "code",
     "collapsed": false,
     "input": [
      "esSolucion(sudoku)"
     ],
     "language": "python",
     "metadata": {},
     "outputs": [
      {
       "output_type": "stream",
       "stream": "stdout",
       "text": [
        "Su sudoku es correcto. Sea feliz.\n"
       ]
      }
     ],
     "prompt_number": 21
    },
    {
     "cell_type": "code",
     "collapsed": false,
     "input": [
      "%matplotlib inline\n",
      "import numpy as np\n",
      "import matplotlib.pyplot as plt #Importando librer\u00edas para las siguientes preguntas"
     ],
     "language": "python",
     "metadata": {},
     "outputs": [],
     "prompt_number": 22
    },
    {
     "cell_type": "heading",
     "level": 2,
     "metadata": {},
     "source": [
      "Pregunta 5"
     ]
    },
    {
     "cell_type": "markdown",
     "metadata": {},
     "source": [
      "Utiliza el archivo `sunspots.txt` (localizado en la carpeta `data`), el cual contiene el n\u00famero de manchas solares por cada mes desde enero de 1749. La primera columna es el mes, el segundo el n\u00famero de manchas."
     ]
    },
    {
     "cell_type": "markdown",
     "metadata": {},
     "source": [
      "(a) Escribe el c\u00f3digo que lea el archivo y haga una gr\u00e1fica de las manchas en funci\u00f3n del tiempo. Formatea el ejec $x$ para que se muestren cada 25 a\u00f1os empezando en $1750$. "
     ]
    },
    {
     "cell_type": "code",
     "collapsed": false,
     "input": [
      "mesesYManchas=[]\n",
      "for line in open('sunspots.txt'):\n",
      "    mesesYManchas.append(line.split()) #Agrego a una lista cada l\u00ednea del archivo"
     ],
     "language": "python",
     "metadata": {},
     "outputs": [],
     "prompt_number": 23
    },
    {
     "cell_type": "code",
     "collapsed": false,
     "input": [
      "meses=[]\n",
      "manchas=[]\n",
      "for i in range(0,len(mesesYManchas)): #Para cada l\u00ednea del archivo, el primer elemento es el mes y el segundo las manchas\n",
      "    meses.append(float(mesesYManchas[i][0]))\n",
      "    manchas.append(float(mesesYManchas[i][1]))"
     ],
     "language": "python",
     "metadata": {},
     "outputs": [],
     "prompt_number": 24
    },
    {
     "cell_type": "code",
     "collapsed": false,
     "input": [
      "plt.plot(meses,manchas)"
     ],
     "language": "python",
     "metadata": {},
     "outputs": [
      {
       "metadata": {},
       "output_type": "pyout",
       "prompt_number": 25,
       "text": [
        "[<matplotlib.lines.Line2D at 0x7faa03ba85d0>]"
       ]
      },
      {
       "metadata": {},
       "output_type": "display_data",
       "png": "[encoded data removed]",
       "text": [
        "<matplotlib.figure.Figure at 0x7faa03f66990>"
       ]
      }
     ],
     "prompt_number": 25
    },
    {
     "cell_type": "code",
     "collapsed": false,
     "input": [
      "anos=[]\n",
      "for i in (1750,2012):\n",
      "    anos.append(\"r'\"+str(i))\n",
      "print anos    "
     ],
     "language": "python",
     "metadata": {},
     "outputs": [
      {
       "output_type": "stream",
       "stream": "stdout",
       "text": [
        "[\"r'1750\", \"r'2012\"]\n"
       ]
      }
     ],
     "prompt_number": 26
    },
    {
     "cell_type": "markdown",
     "metadata": {},
     "source": [
      "(b) Calcula el [promedio m\u00f3vil](http://en.wikipedia.org/wiki/Moving_average). Dib\u00fajalo sobre el dibujo original."
     ]
    },
    {
     "cell_type": "code",
     "collapsed": false,
     "input": [
      "promedioMovil=[0]\n",
      "suma=0\n",
      "for i in range(1,len(meses)):\n",
      "    suma+=manchas[i]\n",
      "    promedioMovil.append(suma/i)"
     ],
     "language": "python",
     "metadata": {},
     "outputs": [],
     "prompt_number": 27
    },
    {
     "cell_type": "code",
     "collapsed": false,
     "input": [
      "plt.plot(meses,promedioMovil)"
     ],
     "language": "python",
     "metadata": {},
     "outputs": [
      {
       "metadata": {},
       "output_type": "pyout",
       "prompt_number": 28,
       "text": [
        "[<matplotlib.lines.Line2D at 0x7faa03a85e50>]"
       ]
      },
      {
       "metadata": {},
       "output_type": "display_data",
       "png": "[encoded data removed]",
       "text": [
        "<matplotlib.figure.Figure at 0x7faa03f66d90>"
       ]
      }
     ],
     "prompt_number": 28
    },
    {
     "cell_type": "heading",
     "level": 2,
     "metadata": {},
     "source": [
      "Problema 6"
     ]
    },
    {
     "cell_type": "markdown",
     "metadata": {},
     "source": [
      "Utiliza el archivo `starts.txt` (localizado en la carpeta `data`), el cual contiene la temperatura y magnitud de varias estrellas en la V\u00eda Lactea.  Usa esta informaci\u00f3n para dibujar un **scatter plot** del logaritmo del brillo vs. la temperatura (en **K**). Este diagrama se conoce como diagrama de [Hertzsprung-Russell](http://en.wikipedia.org/wiki/Hertzsprung%E2%80%93Russell_diagram). "
     ]
    },
    {
     "cell_type": "markdown",
     "metadata": {},
     "source": [
      "(a) Lee el archivo y dibuja los datos tal como vienen en el archivo. Agrega etiquetas y formatea la gr\u00e1fica de tal manera que tenga calidad de publicaci\u00f3n."
     ]
    },
    {
     "cell_type": "code",
     "collapsed": false,
     "input": [
      "estrellas=[]\n",
      "for line in open('stars.txt'):\n",
      "    estrellas.append(line.split()) #Repito el proceso del ejercicio anterior"
     ],
     "language": "python",
     "metadata": {},
     "outputs": [],
     "prompt_number": 30
    },
    {
     "cell_type": "code",
     "collapsed": false,
     "input": [
      "brillo=[]\n",
      "temperatura=[]\n",
      "for i in range(0,len(estrellas)):\n",
      "    brillo.append(float(estrellas[i][0]))\n",
      "    temperatura.append(float(estrellas[i][1]))\n",
      "logBrillo=log(brillo) #Al brillo le saco el logaritmo seg\u00fan pide el ejercicio"
     ],
     "language": "python",
     "metadata": {},
     "outputs": [],
     "prompt_number": 34
    },
    {
     "cell_type": "code",
     "collapsed": false,
     "input": [
      "plt.scatter(brillo,temperatura)"
     ],
     "language": "python",
     "metadata": {},
     "outputs": [
      {
       "metadata": {},
       "output_type": "pyout",
       "prompt_number": 35,
       "text": [
        "<matplotlib.collections.PathCollection at 0x7faa03876c50>"
       ]
      },
      {
       "metadata": {},
       "output_type": "display_data",
       "png": "[encoded data removed]",
       "text": [
        "<matplotlib.figure.Figure at 0x7faa0375fb10>"
       ]
      }
     ],
     "prompt_number": 35
    },
    {
     "cell_type": "markdown",
     "metadata": {},
     "source": [
      "(b) Ahora usa el `xlim()` y  `ylim()` para que quede de manera correcta el diagrama. Hay regiones donde las estrellas parece que se aglomeran, ve el archivo de [wikipedia]( http://en.wikipedia.org/wiki/Hertzsprung%E2%80%93Russell_diagram) y agrega anotaciones para explicarlas.\n"
     ]
    },
    {
     "cell_type": "code",
     "collapsed": false,
     "input": [
      "plt.scatter(brillo, temperatura)\n",
      "plt.xlim(0,16000)\n",
      "plt.ylim(-5,20)"
     ],
     "language": "python",
     "metadata": {},
     "outputs": [
      {
       "metadata": {},
       "output_type": "pyout",
       "prompt_number": 36,
       "text": [
        "(-5, 20)"
       ]
      },
      {
       "metadata": {},
       "output_type": "display_data",
       "png": "[encoded data removed]",
       "text": [
        "<matplotlib.figure.Figure at 0x7faa03876250>"
       ]
      }
     ],
     "prompt_number": 36
    },
    {
     "cell_type": "code",
     "collapsed": false,
     "input": [],
     "language": "python",
     "metadata": {},
     "outputs": [],
     "prompt_number": 36
    },
    {
     "cell_type": "code",
     "collapsed": false,
     "input": [],
     "language": "python",
     "metadata": {},
     "outputs": []
    }
   ],
   "metadata": {}
  }
 ]
}