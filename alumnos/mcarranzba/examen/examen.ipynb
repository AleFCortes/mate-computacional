{
 "metadata": {
  "name": "",
  "signature": "sha256:13f7152da395686913d56e47240980dddc274d0675f2de83c08843c9459dcce4"
 },
 "nbformat": 3,
 "nbformat_minor": 0,
 "worksheets": [
  {
   "cells": [
    {
     "cell_type": "code",
     "collapsed": false,
     "input": [
      "Problema 7"
     ],
     "language": "python",
     "metadata": {},
     "outputs": [],
     "prompt_number": 0
    },
    {
     "cell_type": "markdown",
     "metadata": {},
     "source": [
      "Checa si dos numeros calculados de distinta forma son iguales\n",
      "Deberia mostrar que son iguales\n",
      "No result\u00f3\n",
      "Lo primera lo calcula bien, agrega decimales basura que los hace distintos\n",
      "Z es sp y z1 dp, ya que no se dividio entre singles e invento cosas\n"
     ]
    },
    {
     "cell_type": "code",
     "collapsed": false,
     "input": [],
     "language": "python",
     "metadata": {},
     "outputs": [],
     "prompt_number": 0
    },
    {
     "cell_type": "code",
     "collapsed": false,
     "input": [],
     "language": "python",
     "metadata": {},
     "outputs": []
    }
   ],
   "metadata": {}
  }
 ]
}