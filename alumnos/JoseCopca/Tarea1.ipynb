{
 "metadata": {
  "name": "",
  "signature": "sha256:468505edfb89f53f8827e0237a3d7914c8e6d2e94183201ba987efbb03c69673"
 },
 "nbformat": 3,
 "nbformat_minor": 0,
 "worksheets": [
  {
   "cells": [
    {
     "cell_type": "code",
     "collapsed": false,
     "input": [
      "\n",
      "def Suma(n):\n",
      "    Mult=[x for x in range (n) if x%3==0 or x%5==0 ]\n",
      "    suma = 0\n",
      "    for x in Mult:\n",
      "        suma= suma+x\n",
      "    \"\"\"\n",
      "    La primera lista muestra los n\u00fameros del 1 a n que sean m\u00faltiplos de 3 o 5\n",
      "    El for hace una suma de los n\u00fameros de la lista\n",
      "    \"\"\"\n",
      "    print suma"
     ],
     "language": "python",
     "metadata": {},
     "outputs": [],
     "prompt_number": 82
    },
    {
     "cell_type": "code",
     "collapsed": false,
     "input": [
      "Suma(1000)"
     ],
     "language": "python",
     "metadata": {},
     "outputs": [
      {
       "output_type": "stream",
       "stream": "stdout",
       "text": [
        "233168\n"
       ]
      }
     ],
     "prompt_number": 83
    }
   ],
   "metadata": {}
  }
 ]
}