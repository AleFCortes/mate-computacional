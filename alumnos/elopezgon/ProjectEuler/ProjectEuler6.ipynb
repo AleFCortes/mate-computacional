{
 "metadata": {
  "name": "",
  "signature": "sha256:d403c97a876e45be017bdc60dc5df63208e9aa86941f5f0dcd9b49784078bbc7"
 },
 "nbformat": 3,
 "nbformat_minor": 0,
 "worksheets": [
  {
   "cells": [
    {
     "cell_type": "code",
     "collapsed": false,
     "input": [
      "def cuadrado_suma(n): #Defino una funcion para calcular la suma de los primeros 100 numeros naturales\n",
      "    x = n*(n+1)/2 # Formula para sumar n numeros naturales\n",
      "    x = x**2 # Elevo al cuadrado\n",
      "    return x  # Regreso mi valor\n",
      "\n",
      "def cuadrado_ind(n): #Defino una funcion para calcular la suma de cuadrados de los primeros 100 naturales\n",
      "    suma = 0 #Inicializo mi suma en 0\n",
      "    for i in range(1,n+1): #Con un for recorro mi sucesi\u00f3n, es necesario ponerle n+1, pues la funcion range acaba en n-1\n",
      "        suma +=i**2 #Realizo la suma de los cuadrados de cada indice\n",
      "    return suma #Retorno la suma\n",
      "\n",
      "resultCS = cuadrado_suma(100)#Guardo el resultado en una variable\n",
      "resultSC = cuadrado_ind(100)#Guardo el resultado en una variable\n",
      "diferencia = resultCS-resultSC#Realizo la diferencia\n",
      "print(\"El cuadrado de la suma de los primeros 100 naturales es \" + str(resultCS))#Imprimo mis resultados\n",
      "print(\"La suma de  cuadrados de los primeros 100 naturales es \" + str(resultSC))\n",
      "print(\"La diferencia entre el cuadrado de la suma y la suma de cuadrados es \" + str(diferencia))\n",
      "\n",
      "    "
     ],
     "language": "python",
     "metadata": {},
     "outputs": [
      {
       "output_type": "stream",
       "stream": "stdout",
       "text": [
        "El cuadrado de la suma de los primeros 100 naturales es 25502500\n",
        "La suma de  cuadrados de los primeros 100 naturales es 338350\n",
        "La diferencia entre el cuadrado de la suma y la suma de cuadrados es 25164150\n"
       ]
      }
     ],
     "prompt_number": 52
    },
    {
     "cell_type": "code",
     "collapsed": false,
     "input": [],
     "language": "python",
     "metadata": {},
     "outputs": []
    }
   ],
   "metadata": {}
  }
 ]
}