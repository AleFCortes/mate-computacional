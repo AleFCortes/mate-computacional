{
 "metadata": {
  "name": "",
  "signature": "sha256:99bc566507e2e15d39c289bc130af6d1dd1b4ab7436aaa798660997e802d2488"
 },
 "nbformat": 3,
 "nbformat_minor": 0,
 "worksheets": [
  {
   "cells": [
    {
     "cell_type": "heading",
     "level": 1,
     "metadata": {},
     "source": [
      " Ejercicios de NumPy"
     ]
    },
    {
     "cell_type": "code",
     "collapsed": false,
     "input": [
      "%pylab inline\n",
      "import numpy as np"
     ],
     "language": "python",
     "metadata": {},
     "outputs": [
      {
       "output_type": "stream",
       "stream": "stdout",
       "text": [
        "Populating the interactive namespace from numpy and matplotlib\n"
       ]
      }
     ],
     "prompt_number": 5
    },
    {
     "cell_type": "markdown",
     "metadata": {},
     "source": [
      "1.1 Un arreglo de 5\u00d75 cuya diagonal sean [2.0,3.0,4.0,5.0].\n",
      "\n",
      "Un arreglo de 4\u00d74 cuyo \u00faltimo rengl\u00f3n sea [1,2,3,4] y el resto sean 0."
     ]
    },
    {
     "cell_type": "code",
     "collapsed": false,
     "input": [
      "d = np.zeros((5, 5), float64)\n",
      "np.fill_diagonal(d, [2,3,4,5,0])\n",
      "d"
     ],
     "language": "python",
     "metadata": {},
     "outputs": [
      {
       "metadata": {},
       "output_type": "pyout",
       "prompt_number": 7,
       "text": [
        "array([[ 2.,  0.,  0.,  0.,  0.],\n",
        "       [ 0.,  3.,  0.,  0.,  0.],\n",
        "       [ 0.,  0.,  4.,  0.,  0.],\n",
        "       [ 0.,  0.,  0.,  5.,  0.],\n",
        "       [ 0.,  0.,  0.,  0.,  0.]])"
       ]
      }
     ],
     "prompt_number": 7
    },
    {
     "cell_type": "markdown",
     "metadata": {},
     "source": [
      "1.2 Un arreglo de 4\u00d74 cuyo \u00faltimo rengl\u00f3n sea [1,2,3,4] y el resto sean 0."
     ]
    },
    {
     "cell_type": "code",
     "collapsed": false,
     "input": [
      "r=np.zeros((4,4),int)\n",
      "r[3]=[1,2,3,4]\n",
      "r"
     ],
     "language": "python",
     "metadata": {},
     "outputs": [
      {
       "metadata": {},
       "output_type": "pyout",
       "prompt_number": 10,
       "text": [
        "array([[0, 0, 0, 0],\n",
        "       [0, 0, 0, 0],\n",
        "       [0, 0, 0, 0],\n",
        "       [1, 2, 3, 4]])"
       ]
      }
     ],
     "prompt_number": 10
    },
    {
     "cell_type": "markdown",
     "metadata": {},
     "source": [
      "2.a  Crea un arreglo de booleanos de shape (100,), con todos sus elementos True. El \u00edndice representa el n\u00famero."
     ]
    },
    {
     "cell_type": "code",
     "collapsed": false,
     "input": [
      "b = np.ones((100),bool)\n",
      "b"
     ],
     "language": "python",
     "metadata": {},
     "outputs": [
      {
       "metadata": {},
       "output_type": "pyout",
       "prompt_number": 33,
       "text": [
        "array([ True,  True,  True,  True,  True,  True,  True,  True,  True,\n",
        "        True,  True,  True,  True,  True,  True,  True,  True,  True,\n",
        "        True,  True,  True,  True,  True,  True,  True,  True,  True,\n",
        "        True,  True,  True,  True,  True,  True,  True,  True,  True,\n",
        "        True,  True,  True,  True,  True,  True,  True,  True,  True,\n",
        "        True,  True,  True,  True,  True,  True,  True,  True,  True,\n",
        "        True,  True,  True,  True,  True,  True,  True,  True,  True,\n",
        "        True,  True,  True,  True,  True,  True,  True,  True,  True,\n",
        "        True,  True,  True,  True,  True,  True,  True,  True,  True,\n",
        "        True,  True,  True,  True,  True,  True,  True,  True,  True,\n",
        "        True,  True,  True,  True,  True,  True,  True,  True,  True,  True], dtype=bool)"
       ]
      }
     ],
     "prompt_number": 33
    },
    {
     "cell_type": "markdown",
     "metadata": {},
     "source": [
      "2.b  \"Tacha\" los elementos 0 y 1\n"
     ]
    },
    {
     "cell_type": "code",
     "collapsed": false,
     "input": [
      "b[0]=False\n",
      "b[1]=False\n",
      "b\n"
     ],
     "language": "python",
     "metadata": {},
     "outputs": [
      {
       "metadata": {},
       "output_type": "pyout",
       "prompt_number": 37,
       "text": [
        "array([False, False,  True,  True,  True,  True,  True,  True,  True,\n",
        "        True,  True,  True,  True,  True,  True,  True,  True,  True,\n",
        "        True,  True,  True,  True,  True,  True,  True,  True,  True,\n",
        "        True,  True,  True,  True,  True,  True,  True,  True,  True,\n",
        "        True,  True,  True,  True,  True,  True,  True,  True,  True,\n",
        "        True,  True,  True,  True,  True,  True,  True,  True,  True,\n",
        "        True,  True,  True,  True,  True,  True,  True,  True,  True,\n",
        "        True,  True,  True,  True,  True,  True,  True,  True,  True,\n",
        "        True,  True,  True,  True,  True,  True,  True,  True,  True,\n",
        "        True,  True,  True,  True,  True,  True,  True,  True,  True,\n",
        "        True,  True,  True,  True,  True,  True,  True,  True,  True,  True], dtype=bool)"
       ]
      }
     ],
     "prompt_number": 37
    },
    {
     "cell_type": "markdown",
     "metadata": {},
     "source": [
      "2.c Para cada entero subsiguiente, tacha sus m\u00faltiplos. Una manera de hacerlo es el c\u00f3digo que se muestra. Explica que hace el c\u00f3digo, sobretodo explica que hace el slicing."
     ]
    },
    {
     "cell_type": "code",
     "collapsed": false,
     "input": [
      "numMax = int(np.sqrt(len(b)))\n",
      "for j in range(2, numMax):\n",
      "    b[2*j::j] = False\n",
      "b"
     ],
     "language": "python",
     "metadata": {},
     "outputs": [
      {
       "metadata": {},
       "output_type": "pyout",
       "prompt_number": 46,
       "text": [
        "array([False, False,  True,  True, False,  True, False,  True, False,\n",
        "       False, False,  True, False,  True, False, False, False,  True,\n",
        "       False,  True, False, False, False,  True, False, False, False,\n",
        "       False, False,  True, False,  True, False, False, False, False,\n",
        "       False,  True, False, False, False,  True, False,  True, False,\n",
        "       False, False,  True, False, False, False, False, False,  True,\n",
        "       False, False, False, False, False,  True, False,  True, False,\n",
        "       False, False, False, False,  True, False, False, False,  True,\n",
        "       False,  True, False, False, False, False, False,  True, False,\n",
        "       False, False,  True, False, False, False, False, False,  True,\n",
        "       False, False, False, False, False, False, False,  True, False, False], dtype=bool)"
       ]
      }
     ],
     "prompt_number": 46
    },
    {
     "cell_type": "markdown",
     "metadata": {},
     "source": [
      "con el "
     ]
    },
    {
     "cell_type": "code",
     "collapsed": false,
     "input": [
      "d[2::2]"
     ],
     "language": "python",
     "metadata": {},
     "outputs": [
      {
       "metadata": {},
       "output_type": "pyout",
       "prompt_number": 43,
       "text": [
        "array([[ 0.,  0.,  4.,  0.,  0.],\n",
        "       [ 0.,  0.,  0.,  0.,  0.]])"
       ]
      }
     ],
     "prompt_number": 43
    },
    {
     "cell_type": "code",
     "collapsed": false,
     "input": [],
     "language": "python",
     "metadata": {},
     "outputs": []
    }
   ],
   "metadata": {}
  }
 ]
}