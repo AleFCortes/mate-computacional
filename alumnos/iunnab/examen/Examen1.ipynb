{
 "metadata": {
  "name": "",
  "signature": "sha256:b568ed392499a6aff45573838ed0e1ee37f19125e956bf769e95846befaee256"
 },
 "nbformat": 3,
 "nbformat_minor": 0,
 "worksheets": [
  {
   "cells": [
    {
     "cell_type": "code",
     "collapsed": false,
     "input": [
      "1.16*2**5"
     ],
     "language": "python",
     "metadata": {},
     "outputs": [
      {
       "metadata": {},
       "output_type": "pyout",
       "prompt_number": 10,
       "text": [
        "37.12"
       ]
      }
     ],
     "prompt_number": 10
    },
    {
     "cell_type": "code",
     "collapsed": false,
     "input": [
      "64+16+4"
     ],
     "language": "python",
     "metadata": {},
     "outputs": [
      {
       "metadata": {},
       "output_type": "pyout",
       "prompt_number": 4,
       "text": [
        "84"
       ]
      }
     ],
     "prompt_number": 4
    },
    {
     "cell_type": "heading",
     "level": 1,
     "metadata": {},
     "source": [
      "Problema 8"
     ]
    },
    {
     "cell_type": "code",
     "collapsed": false,
     "input": [
      "def media(x):\n",
      "    f= 1/x\n",
      "    suma=0\n",
      "    for i in range (1,x):\n",
      "        suma= suma + x\n",
      "    \n",
      "    media = f*suma\n",
      "    \n",
      "    return media\n",
      "        "
     ],
     "language": "python",
     "metadata": {},
     "outputs": [],
     "prompt_number": 12
    },
    {
     "cell_type": "code",
     "collapsed": false,
     "input": [
      "def sumita(x):\n",
      "    suma=0\n",
      "    for i in range(1,x):\n",
      "        suma= suma+i**2\n",
      "    return suma"
     ],
     "language": "python",
     "metadata": {},
     "outputs": [],
     "prompt_number": 14
    },
    {
     "cell_type": "code",
     "collapsed": false,
     "input": [
      "def var1(n):\n",
      "    f= 1/(n-1)\n",
      "    \n",
      "    return f(sumita(n)-media(n))**2"
     ],
     "language": "python",
     "metadata": {},
     "outputs": [],
     "prompt_number": 15
    },
    {
     "cell_type": "code",
     "collapsed": false,
     "input": [
      "def var(x):\n",
      "    f= 1/(n-1)\n",
      "    \n",
      "    suma= 0\n",
      "    \n",
      "    for i in range (1,x):\n",
      "        suma= suma+ (i- media(i))**2"
     ],
     "language": "python",
     "metadata": {},
     "outputs": [],
     "prompt_number": 16
    },
    {
     "cell_type": "code",
     "collapsed": false,
     "input": [],
     "language": "python",
     "metadata": {},
     "outputs": []
    }
   ],
   "metadata": {}
  }
 ]
}