{
 "metadata": {
  "name": "",
  "signature": "sha256:c8fbf91deb59d81569fa87d7c5ed66e8482d5b528225aee8defdbee85f5da814"
 },
 "nbformat": 3,
 "nbformat_minor": 0,
 "worksheets": [
  {
   "cells": [
    {
     "cell_type": "code",
     "collapsed": false,
     "input": [
      "def SumNum(n):\n",
      "    for n in range(1,10):\n",
      "        Sum = 34\n",
      "    for n in range()    \n",
      "    "
     ],
     "language": "python",
     "metadata": {},
     "outputs": []
    }
   ],
   "metadata": {}
  }
 ]
}