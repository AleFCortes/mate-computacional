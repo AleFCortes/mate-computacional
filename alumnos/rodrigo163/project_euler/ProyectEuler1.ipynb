{
 "metadata": {
  "name": "",
  "signature": "sha256:daf55e7e9a30241c58ea8726b3ee99d5991c1293446f42e979bed8932da0ab98"
 },
 "nbformat": 3,
 "nbformat_minor": 0,
 "worksheets": [
  {
   "cells": [
    {
     "cell_type": "heading",
     "level": 1,
     "metadata": {},
     "source": [
      "M\u00faltiplos de 3 y de 5"
     ]
    },
    {
     "cell_type": "markdown",
     "metadata": {},
     "source": [
      "Tenemos que encontrar la suma de todos los m\u00faltiplos de 3 o de 5 positivos y estrictamente menores a 1000"
     ]
    },
    {
     "cell_type": "markdown",
     "metadata": {},
     "source": [
      "Como solo tenemos que verificar los primeros 1000 naturales, podemos hacerlo exaustivamente probando cada n\u00famero para ver si cumple las condiciones que queremos. En caso de que nuestro \"test\" resulte TRUE, lo agregamos a una variable que lleva la suma."
     ]
    },
    {
     "cell_type": "code",
     "collapsed": false,
     "input": [
      "suma=0\n",
      "def prueba_y_suma(n):\n",
      "    if (n%3==0 or n%5==0) and n<1000:\n",
      "        suma=suma+n\n",
      "        return prueba_y_suma(n+1)\n",
      "    else:\n",
      "        if n==1000:\n",
      "        print suma\n",
      "        return suma\n",
      "        else: prueba_y_suma(n+1)\n",
      "    "
     ],
     "language": "python",
     "metadata": {},
     "outputs": [
      {
       "ename": "IndentationError",
       "evalue": "expected an indented block (<ipython-input-10-c7396884b54f>, line 8)",
       "output_type": "pyerr",
       "traceback": [
        "\u001b[1;36m  File \u001b[1;32m\"<ipython-input-10-c7396884b54f>\"\u001b[1;36m, line \u001b[1;32m8\u001b[0m\n\u001b[1;33m    print suma\u001b[0m\n\u001b[1;37m        ^\u001b[0m\n\u001b[1;31mIndentationError\u001b[0m\u001b[1;31m:\u001b[0m expected an indented block\n"
       ]
      }
     ],
     "prompt_number": 10
    }
   ],
   "metadata": {}
  }
 ]
}