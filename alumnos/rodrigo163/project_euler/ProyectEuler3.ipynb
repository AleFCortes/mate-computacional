{
 "metadata": {
  "name": "",
  "signature": "sha256:87175ea3f825d8b47129776a9b5936bc16070a6fa3e247c9fd0af62bc518e4ea"
 },
 "nbformat": 3,
 "nbformat_minor": 0,
 "worksheets": [
  {
   "cells": [
    {
     "cell_type": "heading",
     "level": 1,
     "metadata": {},
     "source": [
      "El mayor factor primo"
     ]
    },
    {
     "cell_type": "markdown",
     "metadata": {},
     "source": [
      "Objetivo: tenemos que encontrar el m\u00e1s grande primo que divide a 600851475143"
     ]
    },
    {
     "cell_type": "code",
     "collapsed": false,
     "input": [],
     "language": "python",
     "metadata": {},
     "outputs": []
    }
   ],
   "metadata": {}
  }
 ]
}