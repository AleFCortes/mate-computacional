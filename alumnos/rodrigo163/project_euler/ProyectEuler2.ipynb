{
 "metadata": {
  "name": "",
  "signature": "sha256:81aa3d402187b82d6a3286a6e68593784658ed9e118ffcc20456394d22fd0137"
 },
 "nbformat": 3,
 "nbformat_minor": 0,
 "worksheets": [
  {
   "cells": [
    {
     "cell_type": "heading",
     "level": 1,
     "metadata": {},
     "source": [
      "N\u00fameros pares de Fibonacci"
     ]
    },
    {
     "cell_type": "markdown",
     "metadata": {},
     "source": [
      "Objetivo: Conseguir la suma de los n\u00fameros de Fibonacci PARES menores a 4000000"
     ]
    },
    {
     "cell_type": "code",
     "collapsed": false,
     "input": [
      "def fibonacci(n): #esta funci\u00f3n nos deber\u00eda dar el n-\u00e9simo n\u00famero de fibonacci. Funciona recursivamente. \n",
      "    if n==0:\n",
      "        return 0\n",
      "    elif n==1:\n",
      "        return 1\n",
      "    else: \n",
      "        return fibonacci(n-2)+fibonacci(n-1)\n",
      "#Algunos ejemplos de prueba\n",
      "print fibonacci(6)\n"
     ],
     "language": "python",
     "metadata": {},
     "outputs": []
    },
    {
     "cell_type": "markdown",
     "metadata": {},
     "source": [
      "Ahora que podemos encontrarlos uno por uno, le iremos sumando a la variable SUMA cada n\u00famero par que nos encontremos. "
     ]
    },
    {
     "cell_type": "code",
     "collapsed": false,
     "input": [
      "def prueba_y_suma(n):\n",
      "    if fibonacci(n)<4000000:\n",
      "        if fibonacci(n)%2==0:\n",
      "            suma=suma+fibonacci(n)\n",
      "            prueba_y_suma(n+1)\n",
      "        else:\n",
      "            prueba_y_suma(n+1)\n",
      "    else:\n",
      "        print suma"
     ],
     "language": "python",
     "metadata": {},
     "outputs": []
    },
    {
     "cell_type": "code",
     "collapsed": false,
     "input": [
      "# Resultado final\n",
      "prueba_y_suma(0)"
     ],
     "language": "python",
     "metadata": {},
     "outputs": []
    }
   ],
   "metadata": {}
  }
 ]
}