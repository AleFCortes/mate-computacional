{
 "metadata": {
  "name": "",
  "signature": "sha256:1c4c297ef03052e87637ce8200ab42e490bbe77648e1eb8d1f9f17380b933868"
 },
 "nbformat": 3,
 "nbformat_minor": 0,
 "worksheets": [
  {
   "cells": [
    {
     "cell_type": "heading",
     "level": 1,
     "metadata": {},
     "source": [
      "Special Pythagorean triplet"
     ]
    },
    {
     "cell_type": "markdown",
     "metadata": {},
     "source": [
      "A Pythagorean triplet is a set of three natural numbers, $a < b < c$, for which,\n",
      "\n",
      "$a^2 + b^2 = c^2$\n",
      "For example, $3^2 + 4^2 = 9 + 16 = 25 = 5^2$.\n",
      "\n",
      "There exists exactly one Pythagorean triplet for which $a + b + c = 1000$.\n",
      "Find the product abc."
     ]
    },
    {
     "cell_type": "code",
     "collapsed": false,
     "input": [
      "def triada(n):\n",
      "    a=0\n",
      "    b=0\n",
      "    c=0\n",
      "    bandera=False\n",
      "    for a in xrange(1,n,1):\n",
      "        for b in xrange(a,n,1):\n",
      "            for c in xrange(b,n,1):\n",
      "                if a*a + b*b == c*c and a+b+c==n:\n",
      "                    return a*b*c"
     ],
     "language": "python",
     "metadata": {},
     "outputs": [],
     "prompt_number": 67
    },
    {
     "cell_type": "code",
     "collapsed": false,
     "input": [
      "triada(1000)"
     ],
     "language": "python",
     "metadata": {},
     "outputs": [
      {
       "metadata": {},
       "output_type": "pyout",
       "prompt_number": 68,
       "text": [
        "31875000"
       ]
      }
     ],
     "prompt_number": 68
    },
    {
     "cell_type": "markdown",
     "metadata": {},
     "source": [
      "**Raciocinio:** Si solo pidieran la triada (a,b,c) este problema se podria resolver con el codigo expuesto en la celda de abajo. Sin embargo, como se requiere realizar una operaci\u00f3n con la triada, la soluci\u00f3n es traducir el \"list comprehension\" a una funci\u00f3n que pueda regresar a,b y c como valores por separado, para luego poderlos multiplicar"
     ]
    },
    {
     "cell_type": "code",
     "collapsed": false,
     "input": [
      "[(a,b,c) for a in range(1, n) for b in range(a, n) for c in range(b, n) if a*a + b*b == c*c and a+b+c==1000]"
     ],
     "language": "python",
     "metadata": {},
     "outputs": [
      {
       "metadata": {},
       "output_type": "pyout",
       "prompt_number": 64,
       "text": [
        "[(200, 375, 425)]"
       ]
      }
     ],
     "prompt_number": 64
    }
   ],
   "metadata": {}
  }
 ]
}