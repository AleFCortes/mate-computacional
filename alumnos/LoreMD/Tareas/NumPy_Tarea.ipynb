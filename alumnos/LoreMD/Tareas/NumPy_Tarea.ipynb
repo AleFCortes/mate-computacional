{
 "metadata": {
  "name": "",
  "signature": "sha256:eaed4ff966e2dde1e5d660fef6f0c844f3df7883b743da479ebc277db7b6b24d"
 },
 "nbformat": 3,
 "nbformat_minor": 0,
 "worksheets": [
  {
   "cells": [
    {
     "cell_type": "heading",
     "level": 1,
     "metadata": {},
     "source": [
      "Ejercicios de NumPy"
     ]
    },
    {
     "cell_type": "code",
     "collapsed": false,
     "input": [
      "%pylab inline\n",
      "import numpy as np"
     ],
     "language": "python",
     "metadata": {},
     "outputs": [
      {
       "output_type": "stream",
       "stream": "stdout",
       "text": [
        "Populating the interactive namespace from numpy and matplotlib\n"
       ]
      }
     ],
     "prompt_number": 1
    },
    {
     "cell_type": "markdown",
     "metadata": {},
     "source": [
      "Pregunta 1:\n",
      "\n",
      "\n",
      "   Un arreglo de 5\u00d75 cuya diagonal sean [1.0,2.0,3.0,4.0,5.0]\n",
      "\n",
      "\n",
      "\n",
      "   Un arreglo de 4\u00d74 cuyo \u00faltimo rengl\u00f3n sea [1,2,3,4] y el resto sean 0."
     ]
    },
    {
     "cell_type": "code",
     "collapsed": false,
     "input": [
      "arreglo1 = np.diag(np.array([1.0, 2.0, 3.0, 4.0,5.0]))\n",
      "arreglo1"
     ],
     "language": "python",
     "metadata": {},
     "outputs": [
      {
       "metadata": {},
       "output_type": "pyout",
       "prompt_number": 17,
       "text": [
        "array([[ 1.,  0.,  0.,  0.,  0.],\n",
        "       [ 0.,  2.,  0.,  0.,  0.],\n",
        "       [ 0.,  0.,  3.,  0.,  0.],\n",
        "       [ 0.,  0.,  0.,  4.,  0.],\n",
        "       [ 0.,  0.,  0.,  0.,  5.]])"
       ]
      }
     ],
     "prompt_number": 17
    },
    {
     "cell_type": "code",
     "collapsed": false,
     "input": [
      "arreglo2=np.zeros((4,4)).astype(int)\n",
      "arreglo2[3,:]=[1,2,3,4]\n",
      "arreglo2"
     ],
     "language": "python",
     "metadata": {},
     "outputs": [
      {
       "metadata": {},
       "output_type": "pyout",
       "prompt_number": 14,
       "text": [
        "array([[0, 0, 0, 0],\n",
        "       [0, 0, 0, 0],\n",
        "       [0, 0, 0, 0],\n",
        "       [1, 2, 3, 4]])"
       ]
      }
     ],
     "prompt_number": 14
    },
    {
     "cell_type": "markdown",
     "metadata": {},
     "source": [
      "Pregunta 2:\n",
      "\n",
      "La criba de eratostenes"
     ]
    },
    {
     "cell_type": "code",
     "collapsed": false,
     "input": [
      "def criba_eratostenes(max):\n",
      "    arregloBool=np.ones(max,).astype(bool)\n",
      "    N_max = int(np.sqrt(len(arregloBool)))\n",
      "    for j in range(2, N_max):\n",
      "        arregloBool[2*j::j] = False\n",
      "    return np.nonzero(arregloBool)"
     ],
     "language": "python",
     "metadata": {},
     "outputs": [],
     "prompt_number": 37
    },
    {
     "cell_type": "code",
     "collapsed": false,
     "input": [
      "for m in (10,100,200):\n",
      "    print criba_eratostenes(m)"
     ],
     "language": "python",
     "metadata": {},
     "outputs": [
      {
       "output_type": "stream",
       "stream": "stdout",
       "text": [
        "(10,)\n",
        "(array([0, 1, 2, 3, 5, 7, 9]),)\n",
        "(100,)\n",
        "(array([ 0,  1,  2,  3,  5,  7, 11, 13, 17, 19, 23, 29, 31, 37, 41, 43, 47,\n",
        "       53, 59, 61, 67, 71, 73, 79, 83, 89, 97]),)\n",
        "(200,)\n",
        "(array([  0,   1,   2,   3,   5,   7,  11,  13,  17,  19,  23,  29,  31,\n",
        "        37,  41,  43,  47,  53,  59,  61,  67,  71,  73,  79,  83,  89,\n",
        "        97, 101, 103, 107, 109, 113, 127, 131, 137, 139, 149, 151, 157,\n",
        "       163, 167, 173, 179, 181, 191, 193, 197, 199]),)\n"
       ]
      }
     ],
     "prompt_number": 41
    },
    {
     "cell_type": "markdown",
     "metadata": {},
     "source": [
      "Pregunta 3:\n",
      "\n",
      "cubo rubik"
     ]
    },
    {
     "cell_type": "code",
     "collapsed": false,
     "input": [
      "cubo=np.zeros((6,3,3)).astype(int)\n",
      "for r in xrange(0,6,1):\n",
      "    cuboS=cubo[r,:,:]\n",
      "    cuboS[:]=r+1\n",
      "cubo"
     ],
     "language": "python",
     "metadata": {},
     "outputs": [
      {
       "metadata": {},
       "output_type": "pyout",
       "prompt_number": 53,
       "text": [
        "array([[[1, 1, 1],\n",
        "        [1, 1, 1],\n",
        "        [1, 1, 1]],\n",
        "\n",
        "       [[2, 2, 2],\n",
        "        [2, 2, 2],\n",
        "        [2, 2, 2]],\n",
        "\n",
        "       [[3, 3, 3],\n",
        "        [3, 3, 3],\n",
        "        [3, 3, 3]],\n",
        "\n",
        "       [[4, 4, 4],\n",
        "        [4, 4, 4],\n",
        "        [4, 4, 4]],\n",
        "\n",
        "       [[5, 5, 5],\n",
        "        [5, 5, 5],\n",
        "        [5, 5, 5]],\n",
        "\n",
        "       [[6, 6, 6],\n",
        "        [6, 6, 6],\n",
        "        [6, 6, 6]]])"
       ]
      }
     ],
     "prompt_number": 53
    },
    {
     "cell_type": "markdown",
     "metadata": {},
     "source": [
      "Pregunta 4:\n",
      "\n",
      "El Sudoku es un pasatiempo que consiste en un arreglo 9\u00d79 de celdas, con d\u00edgitos del 1 al 9, de tal manera que no se repiten valores en cada columna, cada rengl\u00f3n y en cada subarreglo de 3\u00d73.\n",
      "\n",
      "(a) Crea una funci\u00f3n llamada correcto que reciba un array 1d de tama\u00f1o 9 e indique si est\u00e1 completo o no (i.e. incluye los n\u00fameros del 1 al 9.\n",
      "\n",
      "(b) Crea una funci\u00f3n llamada descomponer3x3 que reciba un array de enteros de 9\u00d79 y lo separe en sus 9 subarreglos 3\u00d73.\n",
      "\n",
      "(c) Crea la funci\u00f3n esSolucion que recibe un array de 9\u00d79 y devuelve si es o no soluci\u00f3n del sudoku."
     ]
    },
    {
     "cell_type": "code",
     "collapsed": false,
     "input": [
      "def correcto(arr1):\n",
      "    completo=False\n",
      "    return completo\n",
      "\n",
      "def descomponer3x3(arr9):\n",
      "    n=0\n",
      "    for i in xrange(0,9,3):\n",
      "        for j in xrange(0,9,3):\n",
      "            arr3=arr9[i:i+3,j:j+3]\n",
      "    print arr9\n",
      "\n",
      "def esSoluncion(arr9):\n",
      "    solucion=False\n",
      "    return solucion"
     ],
     "language": "python",
     "metadata": {},
     "outputs": [],
     "prompt_number": 22
    },
    {
     "cell_type": "code",
     "collapsed": false,
     "input": [
      "arregloP=np.zeros((9,9)).astype(int)\n",
      "arregloP"
     ],
     "language": "python",
     "metadata": {},
     "outputs": [
      {
       "metadata": {},
       "output_type": "pyout",
       "prompt_number": 19,
       "text": [
        "array([[0, 0, 0, 0, 0, 0, 0, 0, 0],\n",
        "       [0, 0, 0, 0, 0, 0, 0, 0, 0],\n",
        "       [0, 0, 0, 0, 0, 0, 0, 0, 0],\n",
        "       [0, 0, 0, 0, 0, 0, 0, 0, 0],\n",
        "       [0, 0, 0, 0, 0, 0, 0, 0, 0],\n",
        "       [0, 0, 0, 0, 0, 0, 0, 0, 0],\n",
        "       [0, 0, 0, 0, 0, 0, 0, 0, 0],\n",
        "       [0, 0, 0, 0, 0, 0, 0, 0, 0],\n",
        "       [0, 0, 0, 0, 0, 0, 0, 0, 0]])"
       ]
      }
     ],
     "prompt_number": 19
    },
    {
     "cell_type": "code",
     "collapsed": false,
     "input": [
      "arreglo3=arregloP[3:6,3:6]\n",
      "arreglo3[:]=2\n",
      "arregloP"
     ],
     "language": "python",
     "metadata": {},
     "outputs": [
      {
       "metadata": {},
       "output_type": "pyout",
       "prompt_number": 5,
       "text": [
        "array([[1, 1, 1, 0, 0, 0, 0, 0, 0],\n",
        "       [1, 1, 1, 0, 0, 0, 0, 0, 0],\n",
        "       [1, 1, 1, 0, 0, 0, 0, 0, 0],\n",
        "       [0, 0, 0, 2, 2, 2, 0, 0, 0],\n",
        "       [0, 0, 0, 2, 2, 2, 0, 0, 0],\n",
        "       [0, 0, 0, 2, 2, 2, 0, 0, 0],\n",
        "       [0, 0, 0, 0, 0, 0, 0, 0, 0],\n",
        "       [0, 0, 0, 0, 0, 0, 0, 0, 0],\n",
        "       [0, 0, 0, 0, 0, 0, 0, 0, 0]])"
       ]
      }
     ],
     "prompt_number": 5
    },
    {
     "cell_type": "code",
     "collapsed": false,
     "input": [
      "descomponer3x3(arregloP)"
     ],
     "language": "python",
     "metadata": {},
     "outputs": [
      {
       "output_type": "stream",
       "stream": "stdout",
       "text": [
        "[[0 0 0]\n",
        " [0 0 0]\n",
        " [0 0 0]]\n",
        "[[1 1 1]\n",
        " [1 1 1]\n",
        " [1 1 1]]\n",
        "[[2 2 2]\n",
        " [2 2 2]\n",
        " [2 2 2]]\n",
        "[[4 4 4]\n",
        " [4 4 4]\n",
        " [4 4 4]]\n",
        "[[5 5 5]\n",
        " [5 5 5]\n",
        " [5 5 5]]\n",
        "[[6 6 6]\n",
        " [6 6 6]\n",
        " [6 6 6]]\n",
        "[[8 8 8]\n",
        " [8 8 8]\n",
        " [8 8 8]]\n",
        "[[9 9 9]\n",
        " [9 9 9]\n",
        " [9 9 9]]\n",
        "[[10 10 10]\n",
        " [10 10 10]\n",
        " [10 10 10]]\n",
        "[[ 0  0  0  1  1  1  2  2  2]\n",
        " [ 0  0  0  1  1  1  2  2  2]\n",
        " [ 0  0  0  1  1  1  2  2  2]\n",
        " [ 4  4  4  5  5  5  6  6  6]\n",
        " [ 4  4  4  5  5  5  6  6  6]\n",
        " [ 4  4  4  5  5  5  6  6  6]\n",
        " [ 8  8  8  9  9  9 10 10 10]\n",
        " [ 8  8  8  9  9  9 10 10 10]\n",
        " [ 8  8  8  9  9  9 10 10 10]]\n"
       ]
      }
     ],
     "prompt_number": 23
    },
    {
     "cell_type": "raw",
     "metadata": {},
     "source": []
    }
   ],
   "metadata": {}
  }
 ]
}